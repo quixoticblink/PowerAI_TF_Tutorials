{
 "cells": [
  {
   "cell_type": "markdown",
   "metadata": {},
   "source": [
    "<a href=\"https://www.bigdatauniversity.com\"><img src = \"https://ibm.box.com/shared/static/jvcqp2iy2jlx2b32rmzdt0tx8lvxgzkp.png\" width = 300, align = \"center\"></a>\n",
    "\n",
    "\n",
    "# <center> Text generation using RNN/LSTM (Character-level)</center>\n",
    "\n",
    "<div class=\"alert alert-block alert-info\">\n",
    "<font size = 3><strong>In this notebook you will learn the How to use TensorFlow for create a Recurrent Neural Network</strong></font>\n",
    "<br>    \n",
    "- <a href=\"#intro\">Introduction</a>\n",
    "<br>\n",
    "- <p><a href=\"#arch\">Architectures</a></p>\n",
    "    - <a href=\"#lstm\">Long Short-Term Memory Model (LSTM)</a>\n",
    "\n",
    "- <p><a href=\"#build\">Building a LSTM with TensorFlow</a></p>\n",
    "</div>\n",
    "----------------"
   ]
  },
  {
   "cell_type": "markdown",
   "metadata": {},
   "source": [
    "This code implements a Recurrent Neural Network with LSTM/RNN units for training/sampling from character-level language models. In other words, the model takes a text file as input and trains the RNN network that learns to predict the next character in a sequence.  \n",
    "The RNN can then be used to generate text character by character that will look like the original training data. \n",
    "\n",
    "This code is based on this [blog](http://karpathy.github.io/2015/05/21/rnn-effectiveness/), and the code is an step-by-step implimentation of the [character-level implimentation](https://github.com/crazydonkey200/tensorflow-char-rnn).\n",
    "\n",
    "\n"
   ]
  },
  {
   "cell_type": "markdown",
   "metadata": {},
   "source": [
    "First, import the requiered libraries:"
   ]
  },
  {
   "cell_type": "code",
   "execution_count": 6,
   "metadata": {
    "collapsed": true
   },
   "outputs": [],
   "source": [
    "import tensorflow as tf\n",
    "import time\n",
    "import codecs\n",
    "import os\n",
    "import collections\n",
    "from six.moves import cPickle\n",
    "import numpy as np\n",
    "#from tensorflow.python.ops import rnn_cell\n",
    "#from tensorflow.python.ops import seq2seq"
   ]
  },
  {
   "cell_type": "markdown",
   "metadata": {},
   "source": [
    "### Data loader\n",
    "The following cell is a class that help to read data from input file."
   ]
  },
  {
   "cell_type": "code",
   "execution_count": 7,
   "metadata": {
    "collapsed": true
   },
   "outputs": [],
   "source": [
    "class TextLoader():\n",
    "    def __init__(self, data_dir, batch_size, seq_length, encoding='utf-8'):\n",
    "        self.data_dir = data_dir\n",
    "        self.batch_size = batch_size\n",
    "        self.seq_length = seq_length\n",
    "        self.encoding = encoding\n",
    "\n",
    "        input_file = os.path.join(data_dir, \"input.txt\")\n",
    "        vocab_file = os.path.join(data_dir, \"vocab.pkl\")\n",
    "        tensor_file = os.path.join(data_dir, \"data.npy\")\n",
    "\n",
    "        if not (os.path.exists(vocab_file) and os.path.exists(tensor_file)):\n",
    "            print(\"reading text file\")\n",
    "            self.preprocess(input_file, vocab_file, tensor_file)\n",
    "        else:\n",
    "            print(\"loading preprocessed files\")\n",
    "            self.load_preprocessed(vocab_file, tensor_file)\n",
    "        self.create_batches()\n",
    "        self.reset_batch_pointer()\n",
    "\n",
    "    def preprocess(self, input_file, vocab_file, tensor_file):\n",
    "        with codecs.open(input_file, \"r\", encoding=self.encoding) as f:\n",
    "            data = f.read()\n",
    "        counter = collections.Counter(data)\n",
    "        count_pairs = sorted(counter.items(), key=lambda x: -x[1])\n",
    "        self.chars, _ = zip(*count_pairs)\n",
    "        self.vocab_size = len(self.chars)\n",
    "        self.vocab = dict(zip(self.chars, range(len(self.chars))))\n",
    "        with open(vocab_file, 'wb') as f:\n",
    "            cPickle.dump(self.chars, f)\n",
    "        self.tensor = np.array(list(map(self.vocab.get, data)))\n",
    "        np.save(tensor_file, self.tensor)\n",
    "\n",
    "    def load_preprocessed(self, vocab_file, tensor_file):\n",
    "        with open(vocab_file, 'rb') as f:\n",
    "            self.chars = cPickle.load(f)\n",
    "        self.vocab_size = len(self.chars)\n",
    "        self.vocab = dict(zip(self.chars, range(len(self.chars))))\n",
    "        self.tensor = np.load(tensor_file)\n",
    "        self.num_batches = int(self.tensor.size / (self.batch_size * self.seq_length))\n",
    "\n",
    "    def create_batches(self):\n",
    "        self.num_batches = int(self.tensor.size / (self.batch_size * self.seq_length))\n",
    "\n",
    "        # When the data (tensor) is too small, let's give them a better error message\n",
    "        if self.num_batches==0:\n",
    "            assert False, \"Not enough data. Make seq_length and batch_size small.\"\n",
    "\n",
    "        self.tensor = self.tensor[:self.num_batches * self.batch_size * self.seq_length]\n",
    "        xdata = self.tensor\n",
    "        ydata = np.copy(self.tensor)\n",
    "        ydata[:-1] = xdata[1:]\n",
    "        ydata[-1] = xdata[0]\n",
    "        self.x_batches = np.split(xdata.reshape(self.batch_size, -1), self.num_batches, 1)\n",
    "        self.y_batches = np.split(ydata.reshape(self.batch_size, -1), self.num_batches, 1)\n",
    "\n",
    "\n",
    "    def next_batch(self):\n",
    "        x, y = self.x_batches[self.pointer], self.y_batches[self.pointer]\n",
    "        self.pointer += 1\n",
    "        return x, y\n",
    "\n",
    "    def reset_batch_pointer(self):\n",
    "        self.pointer = 0"
   ]
  },
  {
   "cell_type": "markdown",
   "metadata": {},
   "source": [
    "### Parameters\n",
    "#### Batch, number_of_batch, batch_size and seq_length\n",
    "what is batch, number_of_batch, batch_size and seq_length in the charcter level example?  \n",
    "\n",
    "Lets assume the input is this sentence: '__here is an example__'. Then:\n",
    "- txt_length = 18  \n",
    "- seq_length = 3  \n",
    "- batch_size = 2  \n",
    "- number_of_batchs = 18/3*2 = 3\n",
    "- batch = array (['h','e','r'],['e',' ','i'])\n",
    "- sample Seq = 'her'  "
   ]
  },
  {
   "cell_type": "markdown",
   "metadata": {},
   "source": [
    "Ok, now, lets look at a real dataset, with real parameters. "
   ]
  },
  {
   "cell_type": "code",
   "execution_count": 8,
   "metadata": {
    "collapsed": true
   },
   "outputs": [],
   "source": [
    "seq_length = 50 # RNN sequence length\n",
    "batch_size = 60  # minibatch size, i.e. size of data in each epoch\n",
    "num_epochs = 125 # you should change it to 50 if you want to see a relatively good results\n",
    "learning_rate = 0.002\n",
    "decay_rate = 0.97\n",
    "rnn_size = 128 # size of RNN hidden state (output dimension)\n",
    "num_layers = 2 #number of layers in the RNN"
   ]
  },
  {
   "cell_type": "markdown",
   "metadata": {},
   "source": [
    "We download the input file, and print a part of it:"
   ]
  },
  {
   "cell_type": "code",
   "execution_count": 9,
   "metadata": {},
   "outputs": [
    {
     "name": "stdout",
     "output_type": "stream",
     "text": [
      "2017-08-27 09:52:06 URL:https://public.boxcloud.com/d/1/h5UrJegTgokUg8yVyOCZcAuE6H6f9YYTpXtAmFq5AWkvpY-3TVBUocRRxitYu_sI21b8Zp03enbeGItOIjMhdicEL4OQGxme8e6B5STzls8WvTfQ05gRRtVuFTFme-u5USK6jUHYoHibZepuU941VXIhTqhzYvC9To1v3yEgrwVayUzlklMACnXT9S2XU1bo9QrwBiBfRq3eRQSPSRCTRtg4L1Mqt2_OfdYpV0mbWnup9uA4aC1XxUfzMHgnMwlXg5A4RXal593YkkI99YKpH00S_pzBjW1kFuzvEsBVwGlM4uk8SkiuAq1Ru1rXspAHixzm3xikAYUv5VTbkoc8Ks2ZNqVQz5VVyGycyGtnNREne3PQW-qDDjSmfgDwC_aJHuikWsu1ARgQmLgkfIXRo23K6Z969SqnVraTkB-P68vWbq_3rAuo5vucWuFKXaOnWY60mno_-QDnomVp8hrW_HtgmHuwWH9xLg2VQD-nDyd6j6gp09pcSt_LItU8O6FlmLSXH9ytM2nOQUrnksGKVfWZ6ajiX66-AD6G80igfKspNpwOttaop_zo73GlHaRgyn_h7SUQOg_2AX9n_UvNQq6bipsxGlWUkQh4wD6-zaRHpNxbZ5KoBWcNFwhf5r0NWMglT5zVaxs0Bu-pUb6sp52QTOGGOao24eO4Z29V5yirMYFnQeEJZxztOdqe23vF_1dk27BuLLlcfTAHUZtVLcDNZd7RRo_eKxejbvp4pnd4ugAkfUgwv-Dh8joXdMK1Ol7l-RLugTcuDJVj_hFsaFCsWH4q7JhZlMl2ObuWRZAoG4Ji-BC_zF_cRh2wsjceNjboUCCYhcteCr99daGTBspJ7VatHk15XcVmTY5I_9_1_aukdus0Hip2yVZJ-hI6tX-6sJQc9F501FURcXBO9kAbFsyY6YkvpOxtv2ESYrLjhLc39lC5yNnIdRReWrKOrOvKkdTSgbAtt1_iVRHLhrK5lTta-IKVJl4ORwlp6wlmRg13o3U_8uk4uXmad5tEGR0XJK_FUd3lheeVtQAEZLAkl3OGb8EqZ6wdDqatcNLb5b0WhjMEzH_2WGUA86znrKmZPzN42QyJyIXR9-hGBzvZlbACBL0TkZidyDituY2xN6rr78n9rflnppOmHZ4IRHVH2JhTOof_ZLrjwd4D_6-z9CCC9Q../download [1115393/1115393] -> \"input.txt\" [1]\n",
      "First Citizen:\n",
      "Before we proceed any further, hear me speak.\n",
      "\n",
      "All:\n",
      "Speak, speak.\n",
      "\n",
      "First Citizen:\n",
      "You\n"
     ]
    },
    {
     "data": {
      "text/plain": [
       "True"
      ]
     },
     "execution_count": 9,
     "metadata": {},
     "output_type": "execute_result"
    }
   ],
   "source": [
    "!wget -nv -O input.txt https://ibm.box.com/shared/static/a3f9e9mbpup09toq35ut7ke3l3lf03hg.txt \n",
    "with open('input.txt', 'r') as f:\n",
    "    read_data = f.read()\n",
    "    print read_data[0:100]\n",
    "f.closed"
   ]
  },
  {
   "cell_type": "markdown",
   "metadata": {},
   "source": [
    "Now, we can read the data at batches using the __TextLoader__ class. It will convert the characters to numbers, and represent each sequence as a vector in batches:"
   ]
  },
  {
   "cell_type": "code",
   "execution_count": 10,
   "metadata": {},
   "outputs": [
    {
     "name": "stdout",
     "output_type": "stream",
     "text": [
      "reading text file\n",
      "vocabulary size: 65\n",
      "Characters: (u' ', u'e', u't', u'o', u'a', u'h', u's', u'r', u'n', u'i', u'\\n', u'l', u'd', u'u', u'm', u'y', u',', u'w', u'f', u'c', u'g', u'I', u'b', u'p', u':', u'.', u'A', u'v', u'k', u'T', u\"'\", u'E', u'O', u'N', u'R', u'S', u'L', u'C', u';', u'W', u'U', u'H', u'M', u'B', u'?', u'G', u'!', u'D', u'-', u'F', u'Y', u'P', u'K', u'V', u'j', u'q', u'x', u'z', u'J', u'Q', u'Z', u'X', u'3', u'&', u'$')\n",
      "vocab number of 'F': 49\n",
      "Character sequences (first batch): [[49  9  7 ...,  1  4  7]\n",
      " [19  4 14 ..., 14  9 20]\n",
      " [ 8 20 10 ...,  8 10 18]\n",
      " ..., \n",
      " [21  2  0 ...,  0 21  0]\n",
      " [ 9  7  7 ...,  0  2  3]\n",
      " [ 3  7  0 ...,  5  9 23]]\n"
     ]
    }
   ],
   "source": [
    "data_loader = TextLoader('', batch_size, seq_length)\n",
    "vocab_size = data_loader.vocab_size\n",
    "print \"vocabulary size:\" ,data_loader.vocab_size\n",
    "print \"Characters:\" ,data_loader.chars\n",
    "print \"vocab number of 'F':\",data_loader.vocab['F']\n",
    "print \"Character sequences (first batch):\", data_loader.x_batches[0]"
   ]
  },
  {
   "cell_type": "markdown",
   "metadata": {},
   "source": [
    "### Input and output"
   ]
  },
  {
   "cell_type": "code",
   "execution_count": 11,
   "metadata": {},
   "outputs": [
    {
     "data": {
      "text/plain": [
       "array([[49,  9,  7, ...,  1,  4,  7],\n",
       "       [19,  4, 14, ..., 14,  9, 20],\n",
       "       [ 8, 20, 10, ...,  8, 10, 18],\n",
       "       ..., \n",
       "       [21,  2,  0, ...,  0, 21,  0],\n",
       "       [ 9,  7,  7, ...,  0,  2,  3],\n",
       "       [ 3,  7,  0, ...,  5,  9, 23]])"
      ]
     },
     "execution_count": 11,
     "metadata": {},
     "output_type": "execute_result"
    }
   ],
   "source": [
    "x,y = data_loader.next_batch()\n",
    "x"
   ]
  },
  {
   "cell_type": "code",
   "execution_count": 12,
   "metadata": {},
   "outputs": [
    {
     "data": {
      "text/plain": [
       "(60, 50)"
      ]
     },
     "execution_count": 12,
     "metadata": {},
     "output_type": "execute_result"
    }
   ],
   "source": [
    "x.shape  #batch_size =60, seq_length=50"
   ]
  },
  {
   "cell_type": "markdown",
   "metadata": {},
   "source": [
    "Here, __y__ is the next character for each character in __x__:"
   ]
  },
  {
   "cell_type": "code",
   "execution_count": 13,
   "metadata": {},
   "outputs": [
    {
     "data": {
      "text/plain": [
       "array([[ 9,  7,  6, ...,  4,  7,  0],\n",
       "       [ 4, 14, 22, ...,  9, 20,  5],\n",
       "       [20, 10, 29, ..., 10, 18,  4],\n",
       "       ..., \n",
       "       [ 2,  0,  6, ..., 21,  0,  6],\n",
       "       [ 7,  7,  4, ...,  2,  3,  0],\n",
       "       [ 7,  0, 33, ...,  9, 23,  0]])"
      ]
     },
     "execution_count": 13,
     "metadata": {},
     "output_type": "execute_result"
    }
   ],
   "source": [
    "y"
   ]
  },
  {
   "cell_type": "markdown",
   "metadata": {},
   "source": [
    "### LSTM Architecture\n",
    "Each LSTM cell has 5 parts:\n",
    "1. Input\n",
    "2. prv_state\n",
    "3. prv_output\n",
    "4. new_state\n",
    "5. new_output\n",
    "\n",
    "\n",
    "- Each LSTM cell has an input layre, which its size is 128 units in our case. The input vector's dimension also is 128, which is the dimensionality of embedding vector, so called, dimension size of W2V/embedding, for each character/word.\n",
    "- Each LSTM cell has a hidden layer, where there are some hidden units. The argument n_hidden=128 of BasicLSTMCell is the number of hidden units of the LSTM (inside A). It keeps the size of the output and state vector. It is also known as, rnn_size, num_units, num_hidden_units, and LSTM size\n",
    "- An LSTM keeps two pieces of information as it propagates through time: \n",
    "    - __hidden state__ vector: Each LSTM cell accept a vector, called __hidden state__ vector, of size n_hidden=128, and its value is returned to the LSTM cell in the next step. The __hidden state__ vector; which is the memory of the LSTM, accumulates using its (forget, input, and output) gates through time. \"num_units\" is equivalant to \"size of RNN hidden state\". number of hidden units is the dimensianality of the output (= dimesianality of the state) of the LSTM cell.\n",
    "    - __previous time-step output__: For each LSTM cell that we initialize, we need to supply a value (128 in this case) for the hidden dimension, or as some people like to call it, the number of units in the LSTM cell. \n",
    "\n",
    "\n",
    "#### num_layers = 2 \n",
    "- number of layers in the RNN, is defined by num_layers\n",
    "- An input of MultiRNNCell is __cells__ which is list of RNNCells that will be composed in this order."
   ]
  },
  {
   "cell_type": "markdown",
   "metadata": {},
   "source": [
    "### Defining stacked RNN Cell"
   ]
  },
  {
   "cell_type": "markdown",
   "metadata": {
    "collapsed": true
   },
   "source": [
    "__BasicRNNCell__ is the most basic RNN cell."
   ]
  },
  {
   "cell_type": "code",
   "execution_count": 14,
   "metadata": {
    "collapsed": true
   },
   "outputs": [],
   "source": [
    "cell = tf.contrib.rnn.BasicRNNCell(rnn_size)"
   ]
  },
  {
   "cell_type": "code",
   "execution_count": 15,
   "metadata": {
    "collapsed": true
   },
   "outputs": [],
   "source": [
    "# a two layer cell\n",
    "stacked_cell = tf.contrib.rnn.MultiRNNCell([cell] * num_layers)"
   ]
  },
  {
   "cell_type": "code",
   "execution_count": 16,
   "metadata": {},
   "outputs": [
    {
     "data": {
      "text/plain": [
       "128"
      ]
     },
     "execution_count": 16,
     "metadata": {},
     "output_type": "execute_result"
    }
   ],
   "source": [
    "# hidden state size\n",
    "stacked_cell.output_size"
   ]
  },
  {
   "cell_type": "markdown",
   "metadata": {},
   "source": [
    "__state__ varibale keeps output and new_state of the LSTM, so it is a touple of size:"
   ]
  },
  {
   "cell_type": "code",
   "execution_count": 17,
   "metadata": {},
   "outputs": [
    {
     "data": {
      "text/plain": [
       "(128, 128)"
      ]
     },
     "execution_count": 17,
     "metadata": {},
     "output_type": "execute_result"
    }
   ],
   "source": [
    "stacked_cell.state_size"
   ]
  },
  {
   "cell_type": "markdown",
   "metadata": {},
   "source": [
    "Lets define input data:"
   ]
  },
  {
   "cell_type": "code",
   "execution_count": 18,
   "metadata": {},
   "outputs": [
    {
     "data": {
      "text/plain": [
       "<tf.Tensor 'Placeholder:0' shape=(60, 50) dtype=int32>"
      ]
     },
     "execution_count": 18,
     "metadata": {},
     "output_type": "execute_result"
    }
   ],
   "source": [
    "input_data = tf.placeholder(tf.int32, [batch_size, seq_length])# a 60x50\n",
    "input_data"
   ]
  },
  {
   "cell_type": "markdown",
   "metadata": {},
   "source": [
    "and target data:"
   ]
  },
  {
   "cell_type": "code",
   "execution_count": 19,
   "metadata": {},
   "outputs": [
    {
     "data": {
      "text/plain": [
       "<tf.Tensor 'Placeholder_1:0' shape=(60, 50) dtype=int32>"
      ]
     },
     "execution_count": 19,
     "metadata": {},
     "output_type": "execute_result"
    }
   ],
   "source": [
    "targets = tf.placeholder(tf.int32, [batch_size, seq_length]) # a 60x50\n",
    "targets"
   ]
  },
  {
   "cell_type": "markdown",
   "metadata": {},
   "source": [
    "The memory state of the network is initialized with a vector of zeros and gets updated after reading each character.\n",
    "\n",
    "__BasicRNNCell.zero_state(batch_size, dtype)__ Return zero-filled state tensor(s). In this function, batch_size\n",
    "representing the batch size."
   ]
  },
  {
   "cell_type": "code",
   "execution_count": 20,
   "metadata": {
    "collapsed": true
   },
   "outputs": [],
   "source": [
    "initial_state = stacked_cell.zero_state(batch_size, tf.float32) #why batch_size ? 60x128"
   ]
  },
  {
   "cell_type": "markdown",
   "metadata": {
    "collapsed": true
   },
   "source": [
    "Lets check the value of the input_data again:"
   ]
  },
  {
   "cell_type": "code",
   "execution_count": 21,
   "metadata": {},
   "outputs": [
    {
     "data": {
      "text/plain": [
       "array([[49,  9,  7, ...,  1,  4,  7],\n",
       "       [19,  4, 14, ..., 14,  9, 20],\n",
       "       [ 8, 20, 10, ...,  8, 10, 18],\n",
       "       ..., \n",
       "       [21,  2,  0, ...,  0, 21,  0],\n",
       "       [ 9,  7,  7, ...,  0,  2,  3],\n",
       "       [ 3,  7,  0, ...,  5,  9, 23]], dtype=int32)"
      ]
     },
     "execution_count": 21,
     "metadata": {},
     "output_type": "execute_result"
    }
   ],
   "source": [
    "session = tf.Session()\n",
    "feed_dict={input_data:x, targets:y}\n",
    "session.run(input_data, feed_dict)"
   ]
  },
  {
   "cell_type": "markdown",
   "metadata": {},
   "source": [
    "### Embedding\n",
    "In this section, we build a 128-dim vector for each character. As we have 60 batches, and 50 character in each sequence, it will generate a [60,50,128] matrix."
   ]
  },
  {
   "cell_type": "markdown",
   "metadata": {},
   "source": [
    "__Notice:__ The function `tf.get_variable()` is used to share a variable and to initialize it in one place. `tf.get_variable()` is used to get or create a variable instead of a direct call to `tf.Variable`. "
   ]
  },
  {
   "cell_type": "code",
   "execution_count": 22,
   "metadata": {
    "collapsed": true
   },
   "outputs": [],
   "source": [
    "with tf.variable_scope('rnnlm', reuse=False):\n",
    "    softmax_w = tf.get_variable(\"softmax_w\", [rnn_size, vocab_size]) #128x65\n",
    "    softmax_b = tf.get_variable(\"softmax_b\", [vocab_size]) # 1x65)\n",
    "    #with tf.device(\"/cpu:0\"):\n",
    "        \n",
    "    # embedding variable is initialized randomely\n",
    "    embedding = tf.get_variable(\"embedding\", [vocab_size, rnn_size])  #65x128\n",
    "\n",
    "    # embedding_lookup goes to each row of input_data, and for each character in the row, finds the correspond vector in embedding\n",
    "    # it creates a 60*50*[1*128] matrix\n",
    "    # so, the first elemnt of em, is a matrix of 50x128, which each row of it is vector representing that character\n",
    "    em = tf.nn.embedding_lookup(embedding, input_data) # em is 60x50x[1*128]\n",
    "    # split: Splits a tensor into sub tensors.\n",
    "    # syntax:  tf.split(split_dim, num_split, value, name='split')\n",
    "    # it will split the 60x50x[1x128] matrix into 50 matrix of 60x[1*128]\n",
    "    inputs = tf.split(em, seq_length, 1)\n",
    "    # It will convert the list to 50 matrix of [60x128]\n",
    "    inputs = [tf.squeeze(input_, [1]) for input_ in inputs]"
   ]
  },
  {
   "cell_type": "markdown",
   "metadata": {},
   "source": [
    "Lets take a look at the __embedding__, __em__, and __inputs__ variabbles:\n",
    "\n",
    "Embedding variable is initialized with random values:"
   ]
  },
  {
   "cell_type": "code",
   "execution_count": 23,
   "metadata": {},
   "outputs": [
    {
     "data": {
      "text/plain": [
       "array([[-0.03740785, -0.08024105,  0.10276715, ...,  0.00965647,\n",
       "        -0.08643632,  0.00621697],\n",
       "       [ 0.10739483, -0.1623219 , -0.10691629, ...,  0.01649493,\n",
       "        -0.08520067, -0.05544248],\n",
       "       [ 0.02221389, -0.05994718,  0.07511498, ..., -0.01980883,\n",
       "        -0.15673512, -0.08660065],\n",
       "       ..., \n",
       "       [ 0.1514294 , -0.03491271,  0.02888335, ...,  0.15929399,\n",
       "         0.04341963,  0.12477018],\n",
       "       [-0.05201239, -0.02715965,  0.11330606, ..., -0.0200846 ,\n",
       "         0.04034892, -0.14396353],\n",
       "       [ 0.09361865,  0.04710871, -0.17496687, ...,  0.00483717,\n",
       "        -0.16253099, -0.08400996]], dtype=float32)"
      ]
     },
     "execution_count": 23,
     "metadata": {},
     "output_type": "execute_result"
    }
   ],
   "source": [
    "session.run(tf.global_variables_initializer())\n",
    "#print embedding.shape\n",
    "session.run(embedding)"
   ]
  },
  {
   "cell_type": "markdown",
   "metadata": {},
   "source": [
    "The first elemnt of em, is a matrix of 50x128, which each row of it is vector representing that character"
   ]
  },
  {
   "cell_type": "code",
   "execution_count": 24,
   "metadata": {},
   "outputs": [
    {
     "name": "stdout",
     "output_type": "stream",
     "text": [
      "(60, 50, 128)\n"
     ]
    },
    {
     "data": {
      "text/plain": [
       "array([[ 0.10305618,  0.13517584, -0.00317685, ...,  0.02965444,\n",
       "        -0.05014209, -0.11718509],\n",
       "       [-0.05303945,  0.15498324,  0.06280427, ..., -0.17578092,\n",
       "        -0.00654107, -0.0120651 ],\n",
       "       [ 0.09004374,  0.06086949,  0.00781377, ...,  0.15489723,\n",
       "        -0.06277904,  0.00843377],\n",
       "       ..., \n",
       "       [ 0.10739483, -0.1623219 , -0.10691629, ...,  0.01649493,\n",
       "        -0.08520067, -0.05544248],\n",
       "       [ 0.08668901,  0.03473888,  0.1626638 , ..., -0.16189614,\n",
       "        -0.08235044,  0.09670912],\n",
       "       [ 0.09004374,  0.06086949,  0.00781377, ...,  0.15489723,\n",
       "        -0.06277904,  0.00843377]], dtype=float32)"
      ]
     },
     "execution_count": 24,
     "metadata": {},
     "output_type": "execute_result"
    }
   ],
   "source": [
    "em = tf.nn.embedding_lookup(embedding, input_data)\n",
    "emp = session.run(em,feed_dict={input_data:x})\n",
    "print emp.shape\n",
    "emp[0]"
   ]
  },
  {
   "cell_type": "markdown",
   "metadata": {},
   "source": [
    "Let's consider each sequence as a sentence of length 50 characters, then, the first item in __inputs__ is a [60x128] vector which represents the first characters of 60 sentences."
   ]
  },
  {
   "cell_type": "code",
   "execution_count": 25,
   "metadata": {},
   "outputs": [
    {
     "data": {
      "text/plain": [
       "[<tf.Tensor 'Squeeze:0' shape=(60, 128) dtype=float32>,\n",
       " <tf.Tensor 'Squeeze_1:0' shape=(60, 128) dtype=float32>,\n",
       " <tf.Tensor 'Squeeze_2:0' shape=(60, 128) dtype=float32>,\n",
       " <tf.Tensor 'Squeeze_3:0' shape=(60, 128) dtype=float32>,\n",
       " <tf.Tensor 'Squeeze_4:0' shape=(60, 128) dtype=float32>]"
      ]
     },
     "execution_count": 25,
     "metadata": {},
     "output_type": "execute_result"
    }
   ],
   "source": [
    "inputs = tf.split(em, seq_length, 1)\n",
    "inputs = [tf.squeeze(input_, [1]) for input_ in inputs]\n",
    "inputs[0:5]"
   ]
  },
  {
   "cell_type": "markdown",
   "metadata": {},
   "source": [
    "### Feeding a batch of 50 sequence to a RNN:\n",
    "\n",
    "The feeding process for iputs is as following:\n",
    "\n",
    "- Step 1:  first character of each of the 50 sentences (in a batch) is entered in parallel.  \n",
    "- Step 2:  second character of each of the 50 sentences is input in parallel. \n",
    "- Step n: nth character of each of the 50 sentences is input in parallel.  \n",
    "\n",
    "The parallelism is only for efficiency.  Each character in a batch is handled in parallel,  but the network sees one character of a sequence at a time and does the computations accordingly. All the computations involving the characters of all sequences in a batch at a given time step are done in parallel. "
   ]
  },
  {
   "cell_type": "code",
   "execution_count": 26,
   "metadata": {},
   "outputs": [
    {
     "data": {
      "text/plain": [
       "array([[ 0.10305618,  0.13517584, -0.00317685, ...,  0.02965444,\n",
       "        -0.05014209, -0.11718509],\n",
       "       [-0.10395588, -0.09172855, -0.15021645, ...,  0.02156794,\n",
       "        -0.09225049,  0.04857115],\n",
       "       [ 0.09296091, -0.07455122,  0.06394549, ..., -0.06698208,\n",
       "        -0.08926528, -0.01145135],\n",
       "       ..., \n",
       "       [ 0.00028959, -0.16052178,  0.09523468, ..., -0.08286103,\n",
       "        -0.02855912,  0.12375255],\n",
       "       [-0.05303945,  0.15498324,  0.06280427, ..., -0.17578092,\n",
       "        -0.00654107, -0.0120651 ],\n",
       "       [-0.1435257 ,  0.14510982, -0.12893906, ..., -0.07617413,\n",
       "        -0.03457804, -0.06249297]], dtype=float32)"
      ]
     },
     "execution_count": 26,
     "metadata": {},
     "output_type": "execute_result"
    }
   ],
   "source": [
    "session.run(inputs[0],feed_dict={input_data:x})"
   ]
  },
  {
   "cell_type": "markdown",
   "metadata": {},
   "source": [
    "Feeding the RNN with one batch, we can check the new output and new state of network:"
   ]
  },
  {
   "cell_type": "code",
   "execution_count": 27,
   "metadata": {},
   "outputs": [
    {
     "data": {
      "text/plain": [
       "(<tf.Tensor 'rnnlm_1/rnnlm/multi_rnn_cell/cell_0/cell_0/basic_rnn_cell/Tanh_98:0' shape=(60, 128) dtype=float32>,\n",
       " <tf.Tensor 'rnnlm_1/rnnlm/multi_rnn_cell/cell_0/cell_0/basic_rnn_cell/Tanh_99:0' shape=(60, 128) dtype=float32>)"
      ]
     },
     "execution_count": 27,
     "metadata": {},
     "output_type": "execute_result"
    }
   ],
   "source": [
    "#outputs is 50x[60*128]\n",
    "outputs, new_state = tf.contrib.legacy_seq2seq.rnn_decoder(inputs, initial_state, stacked_cell, loop_function=None, scope='rnnlm')\n",
    "new_state"
   ]
  },
  {
   "cell_type": "code",
   "execution_count": 28,
   "metadata": {},
   "outputs": [
    {
     "data": {
      "text/plain": [
       "[<tf.Tensor 'rnnlm_1/rnnlm/multi_rnn_cell/cell_0/cell_0/basic_rnn_cell/Tanh_1:0' shape=(60, 128) dtype=float32>,\n",
       " <tf.Tensor 'rnnlm_1/rnnlm/multi_rnn_cell/cell_0/cell_0/basic_rnn_cell/Tanh_3:0' shape=(60, 128) dtype=float32>,\n",
       " <tf.Tensor 'rnnlm_1/rnnlm/multi_rnn_cell/cell_0/cell_0/basic_rnn_cell/Tanh_5:0' shape=(60, 128) dtype=float32>,\n",
       " <tf.Tensor 'rnnlm_1/rnnlm/multi_rnn_cell/cell_0/cell_0/basic_rnn_cell/Tanh_7:0' shape=(60, 128) dtype=float32>,\n",
       " <tf.Tensor 'rnnlm_1/rnnlm/multi_rnn_cell/cell_0/cell_0/basic_rnn_cell/Tanh_9:0' shape=(60, 128) dtype=float32>]"
      ]
     },
     "execution_count": 28,
     "metadata": {},
     "output_type": "execute_result"
    }
   ],
   "source": [
    "outputs[0:5]"
   ]
  },
  {
   "cell_type": "markdown",
   "metadata": {},
   "source": [
    "Let's check the output of network after feeding it with first batch:"
   ]
  },
  {
   "cell_type": "code",
   "execution_count": 29,
   "metadata": {},
   "outputs": [
    {
     "data": {
      "text/plain": [
       "array([[ -1.06913503e-02,   8.50840881e-02,  -6.88443929e-02, ...,\n",
       "         -1.15907021e-01,   4.39442694e-02,   1.49685636e-01],\n",
       "       [ -7.71226734e-03,  -3.39723490e-02,  -5.48176422e-06, ...,\n",
       "          3.10104433e-02,  -4.61876690e-02,   2.02981755e-01],\n",
       "       [  8.16150829e-02,   2.66363117e-04,   1.02987222e-03, ...,\n",
       "         -5.69967814e-02,   6.15253709e-02,  -1.96086243e-02],\n",
       "       ..., \n",
       "       [  3.68828923e-02,   4.56273109e-02,  -9.39012542e-02, ...,\n",
       "         -1.79064840e-01,   6.20441921e-02,  -6.02412634e-02],\n",
       "       [ -8.52239132e-02,   5.78153245e-02,   1.10429473e-01, ...,\n",
       "         -8.64275098e-02,   1.31150648e-01,  -1.33810237e-01],\n",
       "       [ -1.06245995e-01,   4.55156155e-02,  -6.68492913e-02, ...,\n",
       "         -1.86091252e-02,  -5.19520557e-03,  -2.76371222e-02]], dtype=float32)"
      ]
     },
     "execution_count": 29,
     "metadata": {},
     "output_type": "execute_result"
    }
   ],
   "source": [
    "first_output = outputs[0]\n",
    "session.run(tf.global_variables_initializer())\n",
    "session.run(first_output,feed_dict={input_data:x})"
   ]
  },
  {
   "cell_type": "markdown",
   "metadata": {},
   "source": [
    "As it was explained, __outputs__ variable is a 50x[60x128] tensor. We need to reshape it back to [60x50x128] to be able to calculate the probablity of the next character using the softmax. The __softmax_w__ shape is [rnn_size, vocab_size],whihc is [128x65] in our case. Threfore, we have a fully connected layer on top of LSTM cells, which help us to decode the next charachter. We can use the __softmax(output * softmax_w + softmax_b)__ for this purpose. The shape of the matrixis would be:\n",
    "\n",
    "softmax([60x50x128]x[128x65]+[1x65]) = [60x50x65]"
   ]
  },
  {
   "cell_type": "markdown",
   "metadata": {},
   "source": [
    "We can do it step-by-step:"
   ]
  },
  {
   "cell_type": "code",
   "execution_count": 30,
   "metadata": {},
   "outputs": [
    {
     "data": {
      "text/plain": [
       "<tf.Tensor 'Reshape:0' shape=(3000, 128) dtype=float32>"
      ]
     },
     "execution_count": 30,
     "metadata": {},
     "output_type": "execute_result"
    }
   ],
   "source": [
    "output = tf.reshape(tf.concat( outputs,1), [-1, rnn_size])\n",
    "output"
   ]
  },
  {
   "cell_type": "code",
   "execution_count": 31,
   "metadata": {},
   "outputs": [
    {
     "data": {
      "text/plain": [
       "<tf.Tensor 'add:0' shape=(3000, 65) dtype=float32>"
      ]
     },
     "execution_count": 31,
     "metadata": {},
     "output_type": "execute_result"
    }
   ],
   "source": [
    "logits = tf.matmul(output, softmax_w) + softmax_b\n",
    "logits"
   ]
  },
  {
   "cell_type": "code",
   "execution_count": 32,
   "metadata": {},
   "outputs": [
    {
     "data": {
      "text/plain": [
       "<tf.Tensor 'Softmax:0' shape=(3000, 65) dtype=float32>"
      ]
     },
     "execution_count": 32,
     "metadata": {},
     "output_type": "execute_result"
    }
   ],
   "source": [
    "probs = tf.nn.softmax(logits)\n",
    "probs"
   ]
  },
  {
   "cell_type": "markdown",
   "metadata": {},
   "source": [
    "Here is the probablity of the next chracter in all batches:"
   ]
  },
  {
   "cell_type": "code",
   "execution_count": 33,
   "metadata": {},
   "outputs": [
    {
     "data": {
      "text/plain": [
       "array([[ 0.01827273,  0.01951737,  0.01238691, ...,  0.01707285,\n",
       "         0.01495539,  0.01850691],\n",
       "       [ 0.01733118,  0.01708234,  0.01168153, ...,  0.01670184,\n",
       "         0.01800174,  0.0208231 ],\n",
       "       [ 0.01779648,  0.01771784,  0.01582947, ...,  0.01491454,\n",
       "         0.01302176,  0.0166511 ],\n",
       "       ..., \n",
       "       [ 0.01921272,  0.01937138,  0.0142415 , ...,  0.01658666,\n",
       "         0.01798107,  0.01750529],\n",
       "       [ 0.01769108,  0.02304364,  0.01107922, ...,  0.015075  ,\n",
       "         0.01597399,  0.01292654],\n",
       "       [ 0.01702942,  0.01733125,  0.0123488 , ...,  0.01532995,\n",
       "         0.01170009,  0.02112499]], dtype=float32)"
      ]
     },
     "execution_count": 33,
     "metadata": {},
     "output_type": "execute_result"
    }
   ],
   "source": [
    "session.run(tf.global_variables_initializer())\n",
    "session.run(probs,feed_dict={input_data:x})"
   ]
  },
  {
   "cell_type": "markdown",
   "metadata": {},
   "source": [
    "Now, we are in the position to calculate the cost of training with __loss function__, and keep feedng the network to learn it. But, the question is: what the LSTM networks learn?"
   ]
  },
  {
   "cell_type": "code",
   "execution_count": 34,
   "metadata": {},
   "outputs": [
    {
     "data": {
      "text/plain": [
       "[<tf.Variable 'rnnlm/softmax_w:0' shape=(128, 65) dtype=float32_ref>,\n",
       " <tf.Variable 'rnnlm/softmax_b:0' shape=(65,) dtype=float32_ref>,\n",
       " <tf.Variable 'rnnlm/embedding:0' shape=(65, 128) dtype=float32_ref>,\n",
       " <tf.Variable 'rnnlm/multi_rnn_cell/cell_0/basic_rnn_cell/kernel:0' shape=(256, 128) dtype=float32_ref>,\n",
       " <tf.Variable 'rnnlm/multi_rnn_cell/cell_0/basic_rnn_cell/bias:0' shape=(128,) dtype=float32_ref>]"
      ]
     },
     "execution_count": 34,
     "metadata": {},
     "output_type": "execute_result"
    }
   ],
   "source": [
    "grad_clip =5.\n",
    "tvars = tf.trainable_variables()\n",
    "tvars"
   ]
  },
  {
   "cell_type": "markdown",
   "metadata": {},
   "source": [
    "# All together\n",
    "Now, let's put all of parts together in a class, and train the model:"
   ]
  },
  {
   "cell_type": "code",
   "execution_count": 35,
   "metadata": {
    "collapsed": true
   },
   "outputs": [],
   "source": [
    "class LSTMModel():\n",
    "    def __init__(self,sample=False):\n",
    "        rnn_size = 128 # size of RNN hidden state vector\n",
    "        batch_size = 60 # minibatch size, i.e. size of dataset in each epoch\n",
    "        seq_length = 50 # RNN sequence length\n",
    "        num_layers = 2 # number of layers in the RNN\n",
    "        vocab_size = 65\n",
    "        grad_clip = 5.\n",
    "        if sample:\n",
    "            print(\">> sample mode:\")\n",
    "            batch_size = 1\n",
    "            seq_length = 1\n",
    "        # The core of the model consists of an LSTM cell that processes one char at a time and computes probabilities of the possible continuations of the char. \n",
    "        basic_cell = tf.contrib.rnn.BasicRNNCell(rnn_size)\n",
    "        # model.cell.state_size is (128, 128)\n",
    "        self.stacked_cell = tf.contrib.rnn.MultiRNNCell([basic_cell] * num_layers)\n",
    "\n",
    "        self.input_data = tf.placeholder(tf.int32, [batch_size, seq_length], name=\"input_data\")\n",
    "        self.targets = tf.placeholder(tf.int32, [batch_size, seq_length], name=\"targets\")\n",
    "        # Initial state of the LSTM memory.\n",
    "        # The memory state of the network is initialized with a vector of zeros and gets updated after reading each char. \n",
    "        self.initial_state = stacked_cell.zero_state(batch_size, tf.float32) #why batch_size\n",
    "\n",
    "        with tf.variable_scope('rnnlm_class1'):\n",
    "            softmax_w = tf.get_variable(\"softmax_w\", [rnn_size, vocab_size]) #128x65\n",
    "            softmax_b = tf.get_variable(\"softmax_b\", [vocab_size]) # 1x65\n",
    "            with tf.device(\"/cpu:0\"):\n",
    "                embedding = tf.get_variable(\"embedding\", [vocab_size, rnn_size])  #65x128\n",
    "                inputs = tf.split(tf.nn.embedding_lookup(embedding, self.input_data), seq_length, 1)\n",
    "                inputs = [tf.squeeze(input_, [1]) for input_ in inputs]\n",
    "                #inputs = tf.split(em, seq_length, 1)\n",
    "                \n",
    "                \n",
    "\n",
    "\n",
    "        # The value of state is updated after processing each batch of chars.\n",
    "        outputs, last_state = tf.contrib.legacy_seq2seq.rnn_decoder(inputs, self.initial_state, self.stacked_cell, loop_function=None, scope='rnnlm_class1')\n",
    "        output = tf.reshape(tf.concat(outputs,1), [-1, rnn_size])\n",
    "        self.logits = tf.matmul(output, softmax_w) + softmax_b\n",
    "        self.probs = tf.nn.softmax(self.logits)\n",
    "        loss = tf.contrib.legacy_seq2seq.sequence_loss_by_example([self.logits],\n",
    "                [tf.reshape(self.targets, [-1])],\n",
    "                [tf.ones([batch_size * seq_length])],\n",
    "                vocab_size)\n",
    "        self.cost = tf.reduce_sum(loss) / batch_size / seq_length\n",
    "        self.final_state = last_state\n",
    "        self.lr = tf.Variable(0.0, trainable=False)\n",
    "        tvars = tf.trainable_variables()\n",
    "        grads, _ = tf.clip_by_global_norm(tf.gradients(self.cost, tvars),grad_clip)\n",
    "        optimizer = tf.train.AdamOptimizer(self.lr)\n",
    "        self.train_op = optimizer.apply_gradients(zip(grads, tvars))\n",
    "    \n",
    "    \n",
    "    def sample(self, sess, chars, vocab, num=200, prime='The ', sampling_type=1):\n",
    "        state = sess.run(self.stacked_cell.zero_state(1, tf.float32))\n",
    "        #print state\n",
    "        for char in prime[:-1]:\n",
    "            x = np.zeros((1, 1))\n",
    "            x[0, 0] = vocab[char]\n",
    "            feed = {self.input_data: x, self.initial_state:state}\n",
    "            [state] = sess.run([self.final_state], feed)\n",
    "\n",
    "        def weighted_pick(weights):\n",
    "            t = np.cumsum(weights)\n",
    "            s = np.sum(weights)\n",
    "            return(int(np.searchsorted(t, np.random.rand(1)*s)))\n",
    "\n",
    "        ret = prime\n",
    "        char = prime[-1]\n",
    "        for n in range(num):\n",
    "            x = np.zeros((1, 1))\n",
    "            x[0, 0] = vocab[char]\n",
    "            feed = {self.input_data: x, self.initial_state:state}\n",
    "            [probs, state] = sess.run([self.probs, self.final_state], feed)\n",
    "            p = probs[0]\n",
    "\n",
    "            if sampling_type == 0:\n",
    "                sample = np.argmax(p)\n",
    "            elif sampling_type == 2:\n",
    "                if char == ' ':\n",
    "                    sample = weighted_pick(p)\n",
    "                else:\n",
    "                    sample = np.argmax(p)\n",
    "            else: # sampling_type == 1 default:\n",
    "                sample = weighted_pick(p)\n",
    "\n",
    "            pred = chars[sample]\n",
    "            ret += pred\n",
    "            char = pred\n",
    "        return ret"
   ]
  },
  {
   "cell_type": "markdown",
   "metadata": {
    "collapsed": true
   },
   "source": [
    "### Creating the LSTM object\n",
    "Now we create a LSTM model:"
   ]
  },
  {
   "cell_type": "code",
   "execution_count": null,
   "metadata": {
    "collapsed": true
   },
   "outputs": [],
   "source": [
    "with tf.variable_scope(\"rnn\"):\n",
    "    model = LSTMModel()"
   ]
  },
  {
   "cell_type": "markdown",
   "metadata": {},
   "source": [
    "# Train usinng LSTMModel class\n",
    "We can train our model through feeding batches:"
   ]
  },
  {
   "cell_type": "code",
   "execution_count": null,
   "metadata": {},
   "outputs": [
    {
     "name": "stdout",
     "output_type": "stream",
     "text": [
      "370/46375 (epoch 0), train_loss = 1.926, time/batch = 0.042\n",
      ">> sample mode:\n",
      "The waun's cone tlih nTeee\n",
      "I, Mrabe a chand whit mes g\n",
      "----------------------------------\n",
      "741/46375 (epoch 1), train_loss = 1.761, time/batch = 0.050\n",
      ">> sample mode:\n",
      "The cwife soned in thy fiold freen were you prich of w\n",
      "----------------------------------\n",
      "1112/46375 (epoch 2), train_loss = 1.681, time/batch = 0.043\n",
      ">> sample mode:\n",
      "The ath:\n",
      "Anformain whictilg the right. Rame to night t\n",
      "----------------------------------\n",
      "1483/46375 (epoch 3), train_loss = 1.639, time/batch = 0.039\n",
      ">> sample mode:\n",
      "The aV how I spoky of the ready my from nofe hath no c\n",
      "----------------------------------\n",
      "1854/46375 (epoch 4), train_loss = 1.612, time/batch = 0.039\n",
      ">> sample mode:\n",
      "The first by them.\n",
      "\n",
      "ELBARETH:\n",
      "You comes!\n",
      "Thy from that\n",
      "----------------------------------\n",
      "2225/46375 (epoch 5), train_loss = 1.594, time/batch = 0.043\n",
      ">> sample mode:\n",
      "The Lefomen ourselcious friends,\n",
      "Come? how dotn your g\n",
      "----------------------------------\n",
      "2596/46375 (epoch 6), train_loss = 1.580, time/batch = 0.052\n",
      ">> sample mode:\n",
      "The wert.\n",
      "\n",
      "GLOUCESTER:\n",
      "The matescaate you alriey; last\n",
      "----------------------------------\n",
      "2967/46375 (epoch 7), train_loss = 1.568, time/batch = 0.076\n",
      ">> sample mode:\n",
      "The fror the trubion\n",
      "To which is sen. Forge them with \n",
      "----------------------------------\n",
      "3338/46375 (epoch 8), train_loss = 1.557, time/batch = 0.218\n",
      ">> sample mode:\n",
      "The young!\n",
      "Look thou shalt alry of a little art his he\n",
      "----------------------------------\n",
      "3709/46375 (epoch 9), train_loss = 1.548, time/batch = 0.063\n",
      ">> sample mode:\n",
      "The beginner.\n",
      "I'\n",
      "No that vowbard, my lord; I speek by \n",
      "----------------------------------\n",
      "4080/46375 (epoch 10), train_loss = 1.541, time/batch = 0.078\n",
      ">> sample mode:\n",
      "The Mardier, if Yory hand be to festure as set,\n",
      "That i\n",
      "----------------------------------\n",
      "4451/46375 (epoch 11), train_loss = 1.535, time/batch = 0.065\n",
      ">> sample mode:\n",
      "The offess,\n",
      "She will not pleant oy alone, and severe m\n",
      "----------------------------------\n",
      "4822/46375 (epoch 12), train_loss = 1.529, time/batch = 0.078\n",
      ">> sample mode:\n",
      "The Prasternang'd you a highness' heaven. Indeeps of\n",
      "h\n",
      "----------------------------------\n",
      "5193/46375 (epoch 13), train_loss = 1.524, time/batch = 0.076\n",
      ">> sample mode:\n",
      "The discreace,\n",
      "fure by my heapty!\n",
      "Call that late,\n",
      "Or b\n",
      "----------------------------------\n",
      "5564/46375 (epoch 14), train_loss = 1.519, time/batch = 0.085\n",
      ">> sample mode:\n",
      "The koods and sine to hiss;\n",
      "Tell my housal\n",
      "O take my p\n",
      "----------------------------------\n",
      "5935/46375 (epoch 15), train_loss = 1.514, time/batch = 0.064\n",
      ">> sample mode:\n",
      "The Trumb;\n",
      "I had I may gone, let me not not.\n",
      "\n",
      "HENRY BO\n",
      "----------------------------------\n",
      "6306/46375 (epoch 16), train_loss = 1.510, time/batch = 0.071\n",
      ">> sample mode:\n",
      "The I:\n",
      "And thou show do rebels with me mean mine\n",
      "Till \n",
      "----------------------------------\n",
      "6677/46375 (epoch 17), train_loss = 1.506, time/batch = 0.066\n",
      ">> sample mode:\n",
      "The Mardy before the worst more and by anier to comes \n",
      "----------------------------------\n",
      "7048/46375 (epoch 18), train_loss = 1.503, time/batch = 0.070\n",
      ">> sample mode:\n",
      "The OxPwas? you in lightel, now I tale while I may bea\n",
      "----------------------------------\n",
      "7419/46375 (epoch 19), train_loss = 1.500, time/batch = 0.067\n",
      ">> sample mode:\n",
      "The what but here not one rose, like night of my fire.\n",
      "----------------------------------\n",
      "7790/46375 (epoch 20), train_loss = 1.497, time/batch = 0.079\n",
      ">> sample mode:\n",
      "The off.\n",
      "\n",
      "Clown:\n",
      "Wilt he shall know shepherd with Edwa\n",
      "----------------------------------\n",
      "8161/46375 (epoch 21), train_loss = 1.494, time/batch = 0.073\n",
      ">> sample mode:\n",
      "The ifford's sooted cloved, must but you have the open\n",
      "----------------------------------\n",
      "8532/46375 (epoch 22), train_loss = 1.492, time/batch = 0.069\n",
      ">> sample mode:\n",
      "The HORG:\n",
      "Or true hope from it to be groas!\n",
      "\n",
      "NUTELEN:\n",
      "\n",
      "----------------------------------\n",
      "8903/46375 (epoch 23), train_loss = 1.489, time/batch = 0.081\n",
      ">> sample mode:\n",
      "The Mars:\n",
      "He lie to thy struck?\n",
      "A laggshall:\n",
      "Lettue mu\n",
      "----------------------------------\n",
      "9274/46375 (epoch 24), train_loss = 1.486, time/batch = 0.077\n",
      ">> sample mode:\n",
      "The bear lightnaces, what\n",
      "were is me, of any presence,\n",
      "----------------------------------\n",
      "9645/46375 (epoch 25), train_loss = 1.484, time/batch = 0.064\n",
      ">> sample mode:\n",
      "The boy Beintion.\n",
      "\n",
      "SICpy you you to strues, you, hall \n",
      "----------------------------------\n",
      "10016/46375 (epoch 26), train_loss = 1.482, time/batch = 0.063\n",
      ">> sample mode:\n",
      "The Grences are sighs: drink on his mine as how thouse\n",
      "----------------------------------\n",
      "10387/46375 (epoch 27), train_loss = 1.480, time/batch = 0.094\n",
      ">> sample mode:\n",
      "The brate.--\n",
      "Veasiting chatingly:\n",
      "But thou hast fledy \n",
      "----------------------------------\n",
      "10758/46375 (epoch 28), train_loss = 1.477, time/batch = 0.072\n",
      ">> sample mode:\n",
      "The NONKET:\n",
      "Nay, leed, how now, strains?\n",
      "Will thee't a\n",
      "----------------------------------\n",
      "11129/46375 (epoch 29), train_loss = 1.475, time/batch = 0.071\n",
      ">> sample mode:\n",
      "The never-would what a king:\n",
      "Thou art by the crows the\n",
      "----------------------------------\n",
      "11500/46375 (epoch 30), train_loss = 1.474, time/batch = 0.074\n",
      ">> sample mode:\n",
      "The Lord, then, thou wert against the raise, and his a\n",
      "----------------------------------\n",
      "11871/46375 (epoch 31), train_loss = 1.472, time/batch = 0.079\n",
      ">> sample mode:\n",
      "The Marcius. That the me;\n",
      "That fiest, if no good daugh\n",
      "----------------------------------\n",
      "12242/46375 (epoch 32), train_loss = 1.470, time/batch = 0.060\n",
      ">> sample mode:\n",
      "The prace enplainss not a good my spirit rusal camill.\n",
      "----------------------------------\n",
      "12613/46375 (epoch 33), train_loss = 1.469, time/batch = 0.066\n",
      ">> sample mode:\n",
      "The Marcius; edalone me\n",
      "Which hadst seat own the subso\n",
      "----------------------------------\n",
      "12984/46375 (epoch 34), train_loss = 1.467, time/batch = 0.079\n",
      ">> sample mode:\n",
      "The bed; me not a smiles in 'S:\n",
      "Hast fore: as you come\n",
      "----------------------------------\n",
      "13355/46375 (epoch 35), train_loss = 1.466, time/batch = 0.075\n",
      ">> sample mode:\n",
      "The happy thy dead\n",
      "For, and fell.\n",
      "\n",
      "PAMPERS HENRY BOLIN\n",
      "----------------------------------\n",
      "13726/46375 (epoch 36), train_loss = 1.465, time/batch = 0.067\n",
      ">> sample mode:\n",
      "The Gremity,\n",
      "I love hope, that I'll gome on beince: th\n",
      "----------------------------------\n",
      "14097/46375 (epoch 37), train_loss = 1.463, time/batch = 0.072\n",
      ">> sample mode:\n",
      "The will, which I did but kins to the deluradies feas \n",
      "----------------------------------\n",
      "14468/46375 (epoch 38), train_loss = 1.462, time/batch = 0.088\n",
      ">> sample mode:\n",
      "The TVWBRUREN:\n",
      "He did misbale two onter in lie\n",
      "ond bal\n",
      "----------------------------------\n",
      "14839/46375 (epoch 39), train_loss = 1.461, time/batch = 0.078\n",
      ">> sample mode:\n",
      "The Mardion,\n",
      "Therefore: not till grace, see he will.\n",
      "A\n",
      "----------------------------------\n",
      "15210/46375 (epoch 40), train_loss = 1.460, time/batch = 0.069\n",
      ">> sample mode:\n",
      "The Dyselves of foream's contreates\n",
      "Upon'd his hope;\n",
      "I\n",
      "----------------------------------\n",
      "15581/46375 (epoch 41), train_loss = 1.459, time/batch = 0.083\n",
      ">> sample mode:\n",
      "The AUChtured\n",
      "murded for dissolve wouste, gentleman; t\n",
      "----------------------------------\n",
      "15952/46375 (epoch 42), train_loss = 1.458, time/batch = 0.064\n",
      ">> sample mode:\n",
      "The AULIAN:\n",
      "Play, or I'll believe's worse there is cap\n",
      "----------------------------------\n",
      "16323/46375 (epoch 43), train_loss = 1.457, time/batch = 0.066\n",
      ">> sample mode:\n",
      "The Marcius you, uncless arms; when since my leng a be\n",
      "----------------------------------\n",
      "16694/46375 (epoch 44), train_loss = 1.457, time/batch = 0.065\n",
      ">> sample mode:\n",
      "The Marcius. I array then come\n",
      "That is some of gable b\n",
      "----------------------------------\n",
      "17065/46375 (epoch 45), train_loss = 1.456, time/batch = 0.078\n",
      ">> sample mode:\n",
      "The Pedriast,\n",
      "Where of me us: my lords are you'll prec\n",
      "----------------------------------\n",
      "17436/46375 (epoch 46), train_loss = 1.455, time/batch = 0.074\n",
      ">> sample mode:\n",
      "The prisoner Capure, or Larmisted rarenced: I be cown \n",
      "----------------------------------\n",
      "17807/46375 (epoch 47), train_loss = 1.454, time/batch = 0.078\n",
      ">> sample mode:\n",
      "The bound.\n",
      "\n",
      "Second Marcius, we'll not brains do sorrow\n",
      "----------------------------------\n",
      "18178/46375 (epoch 48), train_loss = 1.453, time/batch = 0.067\n",
      ">> sample mode:\n",
      "The Aming of some lord, drull: there I must make furon\n",
      "----------------------------------\n"
     ]
    },
    {
     "name": "stdout",
     "output_type": "stream",
     "text": [
      "18549/46375 (epoch 49), train_loss = 1.453, time/batch = 0.070\n",
      ">> sample mode:\n",
      "The Lrdy:\n",
      "I have those have, thanks To her,\n",
      "And in his\n",
      "----------------------------------\n",
      "18920/46375 (epoch 50), train_loss = 1.452, time/batch = 0.067\n",
      ">> sample mode:\n",
      "The Didus\n",
      "Should have part part of any companion to st\n",
      "----------------------------------\n",
      "19291/46375 (epoch 51), train_loss = 1.451, time/batch = 0.073\n",
      ">> sample mode:\n",
      "The APpiachour borided,\n",
      "Which you light.\n",
      "\n",
      "GLOUCESTER:\n",
      "\n",
      "----------------------------------\n",
      "19662/46375 (epoch 52), train_loss = 1.451, time/batch = 0.069\n",
      ">> sample mode:\n",
      "The ERIZBY:\n",
      "Farewell, crowns, which we know your outwa\n",
      "----------------------------------\n",
      "20033/46375 (epoch 53), train_loss = 1.450, time/batch = 0.067\n",
      ">> sample mode:\n",
      "The bear hath know,\n",
      "Terrow deep\n",
      "And not not be;\n",
      "But I \n",
      "----------------------------------\n",
      "20404/46375 (epoch 54), train_loss = 1.449, time/batch = 0.068\n",
      ">> sample mode:\n",
      "The ANgrance, sir.\n",
      "\n",
      "First\n",
      "Yet no, I Strevoses, faintly\n",
      "----------------------------------\n",
      "20775/46375 (epoch 55), train_loss = 1.448, time/batch = 0.074\n",
      ">> sample mode:\n",
      "The Marciussent is our most come.\n",
      "\n",
      "Purse: my married\n",
      "H\n",
      "----------------------------------\n",
      "21146/46375 (epoch 56), train_loss = 1.448, time/batch = 0.064\n",
      ">> sample mode:\n",
      "The Murderer:\n",
      "How do regeance as is so was tothrival b\n",
      "----------------------------------\n",
      "21517/46375 (epoch 57), train_loss = 1.447, time/batch = 0.068\n",
      ">> sample mode:\n",
      "The Juliets the caps: in more well; man, now I being t\n",
      "----------------------------------\n",
      "21888/46375 (epoch 58), train_loss = 1.447, time/batch = 0.077\n",
      ">> sample mode:\n",
      "The Marchase:\n",
      "How confine and fool,\n",
      "My guals, he soil,\n",
      "----------------------------------\n",
      "22259/46375 (epoch 59), train_loss = 1.446, time/batch = 0.071\n",
      ">> sample mode:\n",
      "The Marchasemn another, sir.'\n",
      "Spistes---\n",
      "Thou hast cut\n",
      "----------------------------------\n",
      "22630/46375 (epoch 60), train_loss = 1.445, time/batch = 0.079\n",
      ">> sample mode:\n",
      "The Marcius; when men,\n",
      "Should I said, she piela; in Go\n",
      "----------------------------------\n",
      "23001/46375 (epoch 61), train_loss = 1.445, time/batch = 0.066\n",
      ">> sample mode:\n",
      "The Injust, after Will cried, march,\n",
      "Yet confing putes\n",
      "----------------------------------\n",
      "23372/46375 (epoch 62), train_loss = 1.444, time/batch = 0.065\n",
      ">> sample mode:\n",
      "The AMoRLER:\n",
      "This every it:\n",
      "His councilow\n",
      "Where and hi\n",
      "----------------------------------\n",
      "23743/46375 (epoch 63), train_loss = 1.444, time/batch = 0.076\n",
      ">> sample mode:\n",
      "The Mars, I adar, have the time, -natemed of not\n",
      "mutur\n",
      "----------------------------------\n",
      "24114/46375 (epoch 64), train_loss = 1.443, time/batch = 0.083\n",
      ">> sample mode:\n",
      "The Arge,\n",
      "And born fellow: when I come\n",
      "It stay set for\n",
      "----------------------------------\n",
      "24485/46375 (epoch 65), train_loss = 1.443, time/batch = 0.069\n",
      ">> sample mode:\n",
      "The reiur came as come, and be acquaintain, to hand wi\n",
      "----------------------------------\n",
      "24856/46375 (epoch 66), train_loss = 1.442, time/batch = 0.063\n",
      ">> sample mode:\n",
      "The Didus but oner away.\n",
      "How many fit it, as what 'twi\n",
      "----------------------------------\n",
      "25227/46375 (epoch 67), train_loss = 1.442, time/batch = 0.082\n",
      ">> sample mode:\n",
      "The rest.\n",
      "\n",
      "Svurthin:\n",
      "As she speak follow us.\n",
      "\n",
      "MENENIUS\n",
      "----------------------------------\n",
      "25598/46375 (epoch 68), train_loss = 1.441, time/batch = 0.064\n",
      ">> sample mode:\n",
      "The ned sworns;\n",
      "But have, this is injury, give mine an\n",
      "----------------------------------\n",
      "25969/46375 (epoch 69), train_loss = 1.441, time/batch = 0.076\n",
      ">> sample mode:\n",
      "The Marks Mild:\n",
      "Stand for play.\n",
      "\n",
      "PRINCE EDWARD:\n",
      "My mas\n",
      "----------------------------------\n",
      "26340/46375 (epoch 70), train_loss = 1.440, time/batch = 0.078\n",
      ">> sample mode:\n",
      "The Romeo' VIRt\n",
      "More to bees thou romb is.\n",
      "\n",
      "QUEEN HENR\n",
      "----------------------------------\n",
      "26711/46375 (epoch 71), train_loss = 1.440, time/batch = 0.079\n",
      ">> sample mode:\n",
      "The Margand, I'll be. Mailerior cape a trains\n",
      "Wakes yo\n",
      "----------------------------------\n",
      "27082/46375 (epoch 72), train_loss = 1.440, time/batch = 0.067\n",
      ">> sample mode:\n",
      "The Augland,\n",
      "Go my lived.\n",
      "\n",
      "First Watchman:\n",
      "Carier,\n",
      "My \n",
      "----------------------------------\n",
      "27453/46375 (epoch 73), train_loss = 1.439, time/batch = 0.069\n",
      ">> sample mode:\n",
      "The Marcius?\n",
      "His brave done; I am now our such your be\n",
      "----------------------------------\n",
      "27824/46375 (epoch 74), train_loss = 1.439, time/batch = 0.081\n",
      ">> sample mode:\n",
      "The Brattle air falted one, by their precced of mine: \n",
      "----------------------------------\n",
      "28195/46375 (epoch 75), train_loss = 1.438, time/batch = 0.088\n",
      ">> sample mode:\n",
      "The bour dropmed you! withalt\n",
      "The other staken sit in \n",
      "----------------------------------\n",
      "28566/46375 (epoch 76), train_loss = 1.438, time/batch = 0.092\n",
      ">> sample mode:\n",
      "The Arit of intercument\n",
      "My nurse.\n",
      "\n",
      "HORTENSIO:\n",
      "Ay, I gu\n",
      "----------------------------------\n",
      "28937/46375 (epoch 77), train_loss = 1.438, time/batch = 0.075\n",
      ">> sample mode:\n",
      "The Marshal:\n",
      "Not to see my eye of thee us.\n",
      "\n",
      "HORTENSIO:\n",
      "----------------------------------\n",
      "29308/46375 (epoch 78), train_loss = 1.437, time/batch = 0.062\n",
      ">> sample mode:\n",
      "The senator, to speechore in Petruchio, Landay, concei\n",
      "----------------------------------\n",
      "29679/46375 (epoch 79), train_loss = 1.437, time/batch = 0.073\n",
      ">> sample mode:\n",
      "The mistht to gues'st thou art blocks!\n",
      "\n",
      "YORK:\n",
      "The nobl\n",
      "----------------------------------\n",
      "30050/46375 (epoch 80), train_loss = 1.436, time/batch = 0.075\n",
      ">> sample mode:\n",
      "The person's capily!\n",
      "\n",
      "KING EDWARD IV:\n",
      "The skin how\n",
      "A f\n",
      "----------------------------------\n",
      "30421/46375 (epoch 81), train_loss = 1.436, time/batch = 0.075\n",
      ">> sample mode:\n",
      "The woman.\n",
      "\n",
      "LADY CAPULET:\n",
      "Nay, therefore that shall no\n",
      "----------------------------------\n",
      "30792/46375 (epoch 82), train_loss = 1.436, time/batch = 0.070\n",
      ">> sample mode:\n",
      "The Marded blood is with holms;\n",
      "Naw i' the motherss to\n",
      "----------------------------------\n",
      "31163/46375 (epoch 83), train_loss = 1.435, time/batch = 0.069\n",
      ">> sample mode:\n",
      "The beater him jot thene alcockforp to these\n",
      "good\n",
      "The \n",
      "----------------------------------\n",
      "31534/46375 (epoch 84), train_loss = 1.435, time/batch = 0.074\n",
      ">> sample mode:\n",
      "The OF\n",
      "Again, my heart to died?\n",
      "Well, for her could fa\n",
      "----------------------------------\n",
      "31905/46375 (epoch 85), train_loss = 1.435, time/batch = 0.071\n",
      ">> sample mode:\n",
      "The noise stoligy, for foul of please seat forth!\n",
      "And \n",
      "----------------------------------\n",
      "32276/46375 (epoch 86), train_loss = 1.434, time/batch = 0.062\n",
      ">> sample mode:\n",
      "The Marcius.\n",
      "\n",
      "Shepherd:\n",
      "Suchin! a kinsmen be now my bl\n",
      "----------------------------------\n",
      "32647/46375 (epoch 87), train_loss = 1.434, time/batch = 0.074\n",
      ">> sample mode:\n",
      "The Duke to makes visily; and that, must so he wouldst\n",
      "----------------------------------\n",
      "33018/46375 (epoch 88), train_loss = 1.434, time/batch = 0.243\n",
      ">> sample mode:\n"
     ]
    }
   ],
   "source": [
    "with tf.Session() as sess:\n",
    "    sess.run(tf.global_variables_initializer())\n",
    "    for e in range(num_epochs): # num_epochs is 5 for test, but should be higher\n",
    "        sess.run(tf.assign(model.lr, learning_rate * (decay_rate ** e)))\n",
    "        data_loader.reset_batch_pointer()\n",
    "        state = sess.run(model.initial_state) # (2x[60x128])\n",
    "        for b in range(data_loader.num_batches): #for each batch\n",
    "            start = time.time()\n",
    "            x, y = data_loader.next_batch()\n",
    "            feed = {model.input_data: x, model.targets: y, model.initial_state:state}\n",
    "            train_loss, state, _ = sess.run([model.cost, model.final_state, model.train_op], feed)\n",
    "            end = time.time()\n",
    "        print(\"{}/{} (epoch {}), train_loss = {:.3f}, time/batch = {:.3f}\" \\\n",
    "                .format(e * data_loader.num_batches + b, num_epochs * data_loader.num_batches, e, train_loss, end - start))\n",
    "        with tf.variable_scope(\"rnn\", reuse=True):\n",
    "            sample_model = LSTMModel(sample=True)\n",
    "            print sample_model.sample(sess, data_loader.chars , data_loader.vocab, num=50, prime='The ', sampling_type=1)\n",
    "            print '----------------------------------'"
   ]
  },
  {
   "cell_type": "markdown",
   "metadata": {
    "collapsed": true
   },
   "source": [
    "## Want to learn more?\n",
    "\n",
    "Running deep learning programs usually needs a high performance platform. PowerAI speeds up deep learning and AI. Built on IBM's Power Systems, PowerAI is a scalable software platform that accelerates deep learning and AI with blazing performance for individual users or enterprises. The PowerAI platform supports popular machine learning libraries and dependencies including Tensorflow, Caffe, Torch, and Theano. You can download a [free version of PowerAI](https://cocl.us/ML0120EN_PAI).\n",
    "\n",
    "Also, you can use Data Science Experience to run these notebooks faster with bigger datasets. Data Science Experience is IBM's leading cloud solution for data scientists, built by data scientists. With Jupyter notebooks, RStudio, Apache Spark and popular libraries pre-packaged in the cloud, DSX enables data scientists to collaborate on their projects without having to install anything. Join the fast-growing community of DSX users today with a free account at [Data Science Experience](https://cocl.us/ML0120EN_DSX)This is the end of this lesson. Hopefully, now you have a deeper and intuitive understanding regarding the LSTM model. Thank you for reading this notebook, and good luck on your studies."
   ]
  },
  {
   "cell_type": "markdown",
   "metadata": {
    "collapsed": true
   },
   "source": [
    "### Thanks for completing this lesson!\n",
    "Created by: <a href = \"https://linkedin.com/in/saeedaghabozorgi\"> Saeed Aghabozorgi </a></h4>\n",
    "This code is based on this [blog](http://karpathy.github.io/2015/05/21/rnn-effectiveness/), and the code is an step-by-step implimentation of the [character-level implimentation](https://github.com/crazydonkey200/tensorflow-char-rnn)."
   ]
  }
 ],
 "metadata": {
  "anaconda-cloud": {},
  "kernelspec": {
   "display_name": "Python 2",
   "language": "python",
   "name": "python2"
  },
  "language_info": {
   "codemirror_mode": {
    "name": "ipython",
    "version": 2
   },
   "file_extension": ".py",
   "mimetype": "text/x-python",
   "name": "python",
   "nbconvert_exporter": "python",
   "pygments_lexer": "ipython2",
   "version": "2.7.13"
  }
 },
 "nbformat": 4,
 "nbformat_minor": 1
}
