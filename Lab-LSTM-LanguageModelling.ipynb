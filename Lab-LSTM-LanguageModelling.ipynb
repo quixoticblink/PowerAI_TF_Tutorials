{
 "cells": [
  {
   "cell_type": "markdown",
   "metadata": {
    "button": false,
    "new_sheet": false,
    "run_control": {
     "read_only": false
    }
   },
   "source": [
    "<a href=\"https://www.bigdatauniversity.com\"><img src = \"https://ibm.box.com/shared/static/jvcqp2iy2jlx2b32rmzdt0tx8lvxgzkp.png\" width = 300, align = \"center\"></a>\n",
    "\n",
    "<h1 align=center><font size = 5>RECURRENT NETWORKS and LSTM IN DEEP LEARNING</font></h1>\n",
    "\n",
    "\n",
    "## Applying Recurrent Neural Networks/LSTM for Language Modelling\n",
    "Hello and welcome to this part. In this notebook, we will go over the topic of what Language Modelling is and create a Recurrent Neural Network model based on the Long Short-Term Memory unit to train and be benchmarked by the Penn Treebank. By the end of this notebook, you should be able to understand how TensorFlow builds and executes a RNN model for Language Modelling.\n"
   ]
  },
  {
   "cell_type": "markdown",
   "metadata": {
    "button": false,
    "new_sheet": false,
    "run_control": {
     "read_only": false
    }
   },
   "source": [
    "--------"
   ]
  },
  {
   "cell_type": "markdown",
   "metadata": {
    "button": false,
    "new_sheet": false,
    "run_control": {
     "read_only": false
    }
   },
   "source": [
    "## The Objective\n",
    "By now, you should have an understanding of how Recurrent Networks work -- a specialized model to process sequential data by keeping track of the \"state\" or context. In this notebook, we go over a TensorFlow code snippet for creating a model focused on **Language Modelling** -- a very relevant task that is the cornerstone of many different linguistic problems such as **Speech Recognition, Machine Translation and Image Captioning**. For this, we will be using the Penn Treebank, which is an often-used dataset for benchmarking Language Modelling models.\n",
    "\n",
    "## What exactly is Language Modelling?\n",
    "Language Modelling, to put it simply, **is the task of assigning probabilities to sequences of words**. This means that, given a context of one or a few words in the language the model was trained on, the model should have a knowledge of what are the most probable words or sequence of words for the sentence. Language Modelling is one of the tasks under Natural Language Processing, and one of the most important.\n",
    "\n",
    "<img src=https://ibm.box.com/shared/static/1d1i5gub6wljby2vani2vzxp0xsph702.png width=\"768\"/>\n",
    "<center>*Example of a sentence being predicted*</center>\n",
    "\n",
    "In this example, one can see the predictions for the next word of a sentence, given the context \"This is an\". As you can see, this boils down to a sequential data analysis task -- you are given a word or a sequence of words (the input data), and, given the context (the state), you need to find out what is the next word (the prediction). This kind of analysis is very important for language-related tasks such as **Speech Recognition, Machine Translation, Image Captioning, Text Correction** and many other very relevant problems. \n",
    "\n",
    "<img src=https://ibm.box.com/shared/static/az39idf9ipfdpc5ugifpgxnydelhyf3i.png width=\"1080\"/>\n",
    "<center>*The above example schematized as an RNN in execution*</center>\n",
    "\n",
    "As the above image shows, Recurrent Network models fit this problem like a glove. Alongside LSTM and its capacity to maintain the model's state for over one thousand time steps, we have all the tools we need to undertake this problem. The goal for this notebook is to create a model that can reach **low levels of perplexity** on our desired dataset.\n",
    "\n",
    "For Language Modelling problems, **perplexity** is the way to gauge efficiency. Perplexity is simply a measure of how well a probabilistic model is able to predict its sample. A higher-level way to explain this would be saying that **low perplexity means a higher degree of trust in the predictions the model makes**. Therefore, the lower perplexity is, the better.\n",
    "\n",
    "## The Penn Treebank dataset\n",
    "Historically, datasets big enough for Natural Language Processing are hard to come by. This is in part due to the necessity of the sentences to be broken down and tagged with a certain degree of correctness -- or else the models trained on it won't be able to be correct at all. This means that we need a **large amount of data, annotated by or at least corrected by humans**. This is, of course, not an easy task at all.\n",
    "\n",
    "The Penn Treebank, or PTB for short, is a dataset maintained by the University of Pennsylvania. It is *huge* -- there are over **four million and eight hundred thousand** annotated words in it, all corrected by humans. It is composed of many different sources, from abstracts of Department of Energy papers to texts from the Library of America. Since it is verifiably correct and of such a huge size, the Penn Treebank has been used time and time again as a benchmark dataset for Language Modelling.\n",
    "\n",
    "The dataset is divided in different kinds of annotations, such as Piece-of-Speech, Syntactic and Semantic skeletons. For this example, we will simply use a sample of clean, non-annotated words (with the exception of one tag -- `<unk>`, which is used for rare words such as uncommon proper nouns) for our model. This means that we just want to predict what the next words would be, not what they mean in context or their classes on a given sentence. \n",
    "<br/>\n",
    "<div class=\"alert alert-block alert-info\" style=\"margin-top: 20px\">\n",
    "<center>the percentage of lung cancer deaths among the workers at the west `<unk>` mass. paper factory appears to be the highest for any asbestos workers studied in western industrialized countries he said \n",
    " the plant which is owned by `<unk>` & `<unk>` co. was under contract with `<unk>` to make the cigarette filters \n",
    " the finding probably will support those who argue that the u.s. should regulate the class of asbestos including `<unk>` more `<unk>` than the common kind of asbestos `<unk>` found in most schools and other buildings dr. `<unk>` said</center>\n",
    "</div>\n",
    " <center>*Example of text from the dataset we are going to use, `ptb.train`*</center>\n",
    " <br/>\n",
    "\n"
   ]
  },
  {
   "cell_type": "markdown",
   "metadata": {
    "button": false,
    "new_sheet": false,
    "run_control": {
     "read_only": false
    }
   },
   "source": [
    "<h2>Word Embeddings</h2><br/>\n",
    "\n",
    "For better processing, in this example, we will make use of [**word embeddings**]( [https://www.tensorflow.org/tutorials/word2vec/), which are **a way of representing sentence structures or words as n-dimensional vectors (where n is a reasonably high number, such as 200 or 500) of real numbers**. Basically, we will assign each word a randomly-initialized vector, and input those into the network to be processed. After a number of iterations, these vectors are expected to assume values that help the network to correctly predict what it needs to -- in our case, the probable next word in the sentence. This is shown to be very effective in Natural Language Processing tasks, and is a commonplace practice.\n",
    "<br/><br/>\n",
    "<font size = 4><strong>\n",
    "$$Vec(\"Example\") = [0.02, 0.00, 0.00, 0.92, 0.30,...]$$\n",
    "</font></strong>\n",
    "<br/>\n",
    "Word Embedding tends to group up similarly used words *reasonably* together in the vectorial space. For example, if we use T-SNE (a dimensional reduction visualization algorithm) to flatten the dimensions of our vectors into a 2-dimensional space and use the words these vectors represent as their labels, we might see something like this:\n",
    "\n",
    "<img src=https://ibm.box.com/shared/static/bqhc5dg879gcoabzhxra1w8rkg3od1cu.png width=\"800\"/>\n",
    "<center>*T-SNE Mockup with clusters marked for easier visualization*</center>\n",
    "\n",
    "As you can see, words that are frequently used together, in place of each other, or in the same places as them tend to be grouped together -- being closer together the higher these correlations are. For example, \"None\" is pretty semantically close to \"Zero\", while a phrase that uses \"Italy\" can probably also fit \"Germany\" in it, with little damage to the sentence structure. A vectorial \"closeness\" for similar words like this is a great indicator of a well-built model.\n",
    "\n",
    "---\n",
    " "
   ]
  },
  {
   "cell_type": "markdown",
   "metadata": {
    "button": false,
    "new_sheet": false,
    "run_control": {
     "read_only": false
    }
   },
   "source": [
    "We need to import the necessary modules for our code. We need **`numpy` and `tensorflow`**, obviously. Additionally, we can import directly the **`tensorflow.models.rnn.rnn`** model, which includes the function for building RNNs, and **`tensorflow.models.rnn.ptb.reader`** which is the helper module for getting the input data from the dataset we just downloaded.\n",
    "\n",
    "If you want to learm more take a look at https://www.tensorflow.org/versions/r0.11/api_docs/python/rnn_cell/"
   ]
  },
  {
   "cell_type": "code",
   "execution_count": 1,
   "metadata": {
    "button": false,
    "collapsed": true,
    "new_sheet": false,
    "run_control": {
     "read_only": false
    }
   },
   "outputs": [],
   "source": [
    "from __future__ import absolute_import\n",
    "from __future__ import division\n",
    "from __future__ import print_function\n",
    "\n",
    "import time\n",
    "import numpy as np\n",
    "import tensorflow as tf"
   ]
  },
  {
   "cell_type": "code",
   "execution_count": 2,
   "metadata": {
    "button": false,
    "new_sheet": false,
    "run_control": {
     "read_only": false
    }
   },
   "outputs": [
    {
     "name": "stdout",
     "output_type": "stream",
     "text": [
      "Archive:  /resources/data/ptb.zip\r\n",
      "  inflating: /resources/ptb/reader.py  \r\n"
     ]
    }
   ],
   "source": [
    "!wget -q -O /resources/data/ptb.zip https://ibm.box.com/shared/static/z2yvmhbskc45xd2a9a4kkn6hg4g4kj5r.zip\n",
    "!unzip -o /resources/data/ptb.zip -d /resources/\n",
    "!cp /resources/ptb/reader.py .\n",
    "import reader"
   ]
  },
  {
   "cell_type": "markdown",
   "metadata": {
    "button": false,
    "new_sheet": false,
    "run_control": {
     "read_only": false
    }
   },
   "source": [
    "## Building the LSTM model for Language Modeling\n",
    "Now that we know exactly what we are doing, we can start building our model using TensorFlow. The very first thing we need to do is download and extract the `simple-examples` dataset, which can be done by executing the code cell below."
   ]
  },
  {
   "cell_type": "code",
   "execution_count": 3,
   "metadata": {
    "button": false,
    "new_sheet": false,
    "run_control": {
     "read_only": false
    }
   },
   "outputs": [
    {
     "name": "stdout",
     "output_type": "stream",
     "text": [
      "--2017-08-27 09:52:12--  http://www.fit.vutbr.cz/~imikolov/rnnlm/simple-examples.tgz\n",
      "Resolving www.fit.vutbr.cz... 147.229.9.23, 2001:67c:1220:809::93e5:917\n",
      "Connecting to www.fit.vutbr.cz|147.229.9.23|:80... connected.\n",
      "HTTP request sent, awaiting response... 200 OK\n",
      "Length: 34869662 (33M) [application/x-gtar]\n",
      "Saving to: ‘simple-examples.tgz’\n",
      "\n",
      "simple-examples.tgz 100%[===================>]  33.25M   266KB/s    in 1m 51s  \n",
      "\n",
      "2017-08-27 09:54:04 (306 KB/s) - ‘simple-examples.tgz’ saved [34869662/34869662]\n",
      "\n"
     ]
    }
   ],
   "source": [
    "!wget http://www.fit.vutbr.cz/~imikolov/rnnlm/simple-examples.tgz \n",
    "!tar xzf simple-examples.tgz -C /resources/data/"
   ]
  },
  {
   "cell_type": "markdown",
   "metadata": {
    "button": false,
    "new_sheet": false,
    "run_control": {
     "read_only": false
    }
   },
   "source": [
    "Additionally, for the sake of making it easy to play around with the model's hyperparameters, we can declare them beforehand. Feel free to change these -- you will see a difference in performance each time you change those!  \n",
    "\n"
   ]
  },
  {
   "cell_type": "code",
   "execution_count": 4,
   "metadata": {
    "button": false,
    "collapsed": true,
    "new_sheet": false,
    "run_control": {
     "read_only": false
    }
   },
   "outputs": [],
   "source": [
    "#Initial weight scale\n",
    "init_scale = 0.1\n",
    "#Initial learning rate\n",
    "learning_rate = 1.0\n",
    "#Maximum permissible norm for the gradient (For gradient clipping -- another measure against Exploding Gradients)\n",
    "max_grad_norm = 5\n",
    "#The number of layers in our model\n",
    "num_layers = 2\n",
    "#The total number of recurrence steps, also known as the number of layers when our RNN is \"unfolded\"\n",
    "num_steps = 20\n",
    "#The number of processing units (neurons) in the hidden layers\n",
    "hidden_size = 200\n",
    "#The maximum number of epochs trained with the initial learning rate\n",
    "max_epoch = 4\n",
    "#The total number of epochs in training\n",
    "max_max_epoch = 13\n",
    "#The probability for keeping data in the Dropout Layer (This is an optimization, but is outside our scope for this notebook!)\n",
    "#At 1, we ignore the Dropout Layer wrapping.\n",
    "keep_prob = 1\n",
    "#The decay for the learning rate\n",
    "decay = 0.5\n",
    "#The size for each batch of data\n",
    "batch_size = 30\n",
    "#The size of our vocabulary\n",
    "vocab_size = 10000\n",
    "#Training flag to separate training from testing\n",
    "is_training = 1\n",
    "#Data directory for our dataset\n",
    "data_dir = \"/resources/data/simple-examples/data/\""
   ]
  },
  {
   "cell_type": "markdown",
   "metadata": {
    "button": false,
    "new_sheet": false,
    "run_control": {
     "read_only": false
    }
   },
   "source": [
    "Some clarifications for LSTM architecture based on the argumants:\n",
    "\n",
    "Network structure:\n",
    "- In this network, the number of LSTM cells are 2. To give the model more expressive power, we can add multiple layers of LSTMs to process the data. The output of the first layer will become the input of the second and so on.\n",
    "- The recurrence steps is 20, that is, when our RNN is \"Unfolded\", the recurrence step is 20.   \n",
    "- the structure is like: \n",
    "     - 200 input units -> [200x200] Weight -> 200 Hidden units (first layer) -> [200x200] Weight matrix  -> 200 Hidden units (second layer) ->  [200] weight Matrix -> 200 unit output\n",
    "\n",
    "Hidden layer:\n",
    "- Each LSTM has 200 hidden units which is equivalant to the dimensianality of the embedding words and output. \n",
    "\n",
    "Input layer: \n",
    "- The network has 200 input units. \n",
    "- Suppose each word is represented by an embedding vector of dimensionality e=200. The input layer of each cell will have 200 linear units. These e=200 linear units are connected to each of the h=200 LSTM units in the hidden layer (assuming there is only one hidden layer, though our case has 2 layers).\n",
    "- The input shape is [batch_size, num_steps], that is [30x20]. It will turn into [30x20x200] after embedding, and then 20x[30x200]\n",
    "\n",
    "\n"
   ]
  },
  {
   "cell_type": "markdown",
   "metadata": {
    "button": false,
    "new_sheet": false,
    "run_control": {
     "read_only": false
    }
   },
   "source": [
    "There is a lot to be done and a ton of information to process at the same time, so go over this code slowly. It may seem complex at first, but if you try to ally what you just learned about language modelling to the code you see, you should be able to understand it.\n",
    "\n",
    "This code is adapted from the [PTBModel](https://github.com/tensorflow/tensorflow/blob/master/tensorflow/models/rnn/ptb/ptb_word_lm.py) example bundled with the TensorFlow source code.\n",
    "\n",
    "\n",
    "#### Train data\n",
    "The story starts from data: \n",
    "- Train data is a list of words, represented by numbers - N=929589 numbers, e.g. [9971, 9972, 9974, 9975,...]\n",
    "- We read data as mini-batch of size b=30. Assume the size of each sentence is 20 words (num_steps = 20). Then it will take int(N/b*h)+1=1548 iterations for the learner to go through all sentences once. So, the number of iterators is 1548\n",
    "- Each batch data is read from train dataset of size 600, and shape of [30x20]"
   ]
  },
  {
   "cell_type": "markdown",
   "metadata": {
    "button": false,
    "new_sheet": false,
    "run_control": {
     "read_only": false
    }
   },
   "source": [
    "First we start an interactive session:"
   ]
  },
  {
   "cell_type": "code",
   "execution_count": 5,
   "metadata": {
    "button": false,
    "collapsed": true,
    "new_sheet": false,
    "run_control": {
     "read_only": false
    }
   },
   "outputs": [],
   "source": [
    "session=tf.InteractiveSession()"
   ]
  },
  {
   "cell_type": "code",
   "execution_count": 6,
   "metadata": {
    "button": false,
    "collapsed": true,
    "new_sheet": false,
    "run_control": {
     "read_only": false
    }
   },
   "outputs": [],
   "source": [
    "# Reads the data and separates it into training data, validation data and testing data\n",
    "raw_data = reader.ptb_raw_data(data_dir)\n",
    "train_data, valid_data, test_data, _ = raw_data"
   ]
  },
  {
   "cell_type": "markdown",
   "metadata": {
    "button": false,
    "collapsed": true,
    "new_sheet": false,
    "run_control": {
     "read_only": false
    }
   },
   "source": [
    "Lets just read one mini-batch now and feed our network:"
   ]
  },
  {
   "cell_type": "code",
   "execution_count": 7,
   "metadata": {
    "button": false,
    "collapsed": true,
    "new_sheet": false,
    "run_control": {
     "read_only": false
    }
   },
   "outputs": [],
   "source": [
    "itera = reader.ptb_iterator(train_data, batch_size, num_steps)\n",
    "first_touple=itera.next()\n",
    "x=first_touple[0]\n",
    "y=first_touple[1]"
   ]
  },
  {
   "cell_type": "code",
   "execution_count": 8,
   "metadata": {
    "button": false,
    "new_sheet": false,
    "run_control": {
     "read_only": false
    }
   },
   "outputs": [
    {
     "data": {
      "text/plain": [
       "(30, 20)"
      ]
     },
     "execution_count": 8,
     "metadata": {},
     "output_type": "execute_result"
    }
   ],
   "source": [
    "x.shape"
   ]
  },
  {
   "cell_type": "markdown",
   "metadata": {
    "button": false,
    "new_sheet": false,
    "run_control": {
     "read_only": false
    }
   },
   "source": [
    "Lets look at 3 sentences of our input x:"
   ]
  },
  {
   "cell_type": "code",
   "execution_count": 9,
   "metadata": {
    "button": false,
    "new_sheet": false,
    "run_control": {
     "read_only": false
    }
   },
   "outputs": [
    {
     "data": {
      "text/plain": [
       "array([[9970, 9971, 9972, 9974, 9975, 9976, 9980, 9981, 9982, 9983, 9984,\n",
       "        9986, 9987, 9988, 9989, 9991, 9992, 9993, 9994, 9995],\n",
       "       [2654,    6,  334, 2886,    4,    1,  233,  711,  834,   11,  130,\n",
       "         123,    7,  514,    2,   63,   10,  514,    8,  605],\n",
       "       [   0, 1071,    4,    0,  185,   24,  368,   20,   31, 3109,  954,\n",
       "          12,    3,   21,    2, 2915,    2,   12,    3,   21]], dtype=int32)"
      ]
     },
     "execution_count": 9,
     "metadata": {},
     "output_type": "execute_result"
    }
   ],
   "source": [
    "x[0:3]"
   ]
  },
  {
   "cell_type": "code",
   "execution_count": 10,
   "metadata": {
    "button": false,
    "collapsed": true,
    "new_sheet": false,
    "run_control": {
     "read_only": false
    }
   },
   "outputs": [],
   "source": [
    "size = hidden_size"
   ]
  },
  {
   "cell_type": "markdown",
   "metadata": {
    "button": false,
    "new_sheet": false,
    "run_control": {
     "read_only": false
    }
   },
   "source": [
    "we define 2 place holders to feed them with mini-batchs, that is x and y:"
   ]
  },
  {
   "cell_type": "code",
   "execution_count": 11,
   "metadata": {
    "button": false,
    "collapsed": true,
    "new_sheet": false,
    "run_control": {
     "read_only": false
    }
   },
   "outputs": [],
   "source": [
    "_input_data = tf.placeholder(tf.int32, [batch_size, num_steps]) #[30#20]\n",
    "_targets = tf.placeholder(tf.int32, [batch_size, num_steps]) #[30#20]"
   ]
  },
  {
   "cell_type": "markdown",
   "metadata": {
    "button": false,
    "new_sheet": false,
    "run_control": {
     "read_only": false
    }
   },
   "source": [
    "lets defin a dictionary, and use it later to feed the placeholders with our first mini-batch:"
   ]
  },
  {
   "cell_type": "code",
   "execution_count": 12,
   "metadata": {
    "button": false,
    "collapsed": true,
    "new_sheet": false,
    "run_control": {
     "read_only": false
    }
   },
   "outputs": [],
   "source": [
    "feed_dict={_input_data:x, _targets:y}"
   ]
  },
  {
   "cell_type": "markdown",
   "metadata": {
    "button": false,
    "new_sheet": false,
    "run_control": {
     "read_only": false
    }
   },
   "source": [
    "For example, we can use it to feed _input_data:"
   ]
  },
  {
   "cell_type": "code",
   "execution_count": 13,
   "metadata": {
    "button": false,
    "new_sheet": false,
    "run_control": {
     "read_only": false
    }
   },
   "outputs": [
    {
     "data": {
      "text/plain": [
       "array([[9970, 9971, 9972, 9974, 9975, 9976, 9980, 9981, 9982, 9983, 9984,\n",
       "        9986, 9987, 9988, 9989, 9991, 9992, 9993, 9994, 9995],\n",
       "       [2654,    6,  334, 2886,    4,    1,  233,  711,  834,   11,  130,\n",
       "         123,    7,  514,    2,   63,   10,  514,    8,  605],\n",
       "       [   0, 1071,    4,    0,  185,   24,  368,   20,   31, 3109,  954,\n",
       "          12,    3,   21,    2, 2915,    2,   12,    3,   21],\n",
       "       [   3,   71,    4,   27,  246,   60,   11,  215,    4,    1, 1846,\n",
       "           9,    3,   71,  546,    2, 6505,  162,    6,  104],\n",
       "       [  93,   25,    6,  261,  681,  251,    0,  278, 3246,   13,  200,\n",
       "           1,    8,  105, 3360,    1,    4,    0,  536,    4],\n",
       "       [  20,    6,  954,   12,    3,   21,   78,   14,  977,  726,    0,\n",
       "          37,   42,   34,    5,  437,  116,  206,  927,    2],\n",
       "       [  18,  296,    7,  201,   76,    4,  182,  560, 3836,   17,  974,\n",
       "         975,    6,  942,    4,  156,   77, 1570,  288,  644],\n",
       "       [  23, 1238,  899,    5,   25,  201,    4,    0,  434,  642,   55,\n",
       "         201,    4,    0, 2423,    2,    1,    1,    1,  483],\n",
       "       [ 379,  706,    9,  413, 8219,   96,   15,    0, 2185, 1758,    1,\n",
       "           1,   37,   13,  834,    5,  852,  222,    7, 1785],\n",
       "       [   2,  179,  940,  117,   38,   59,  677,   14,    1,   10, 1016,\n",
       "         309,   13, 1077, 6360,   16,   23, 4490,    9,  355],\n",
       "       [3572,    4, 3015, 1347,  536,   13,    6, 3949,    5,  438, 9643,\n",
       "           2,   64,   87,   32,  358, 3672, 4103, 1082,   11],\n",
       "       [  71,  178,    3,    8,    3,    2,    0, 1008,  234,   30, 6400,\n",
       "          10,    0,   98,    9,    1,  338,   13,    5,   25],\n",
       "       [1473,   88,   19, 2578, 6591,    8,  629,  563,    8,  223,  184,\n",
       "         127,   18,    6,  828,    1,    2,    0,  324,  158],\n",
       "       [   1,    1,    2,   18,    0, 1844,    4,   73,   39, 2694,    6,\n",
       "        1709,    2,    7,    0, 6509, 1116,   27,    1,    1],\n",
       "       [1055,    5,   25, 8582,   10,  353,  645,   24,    6,  287,    2,\n",
       "        1006,    0, 8861, 2369,   44,    7,    0,    1,  180],\n",
       "       [  36,  501,    5,    6, 1969,    0,   98,   89, 2254,    0,  312,\n",
       "        1641,    4, 1063,    8,  713,    0,  264,  820,    2],\n",
       "       [  32, 2599,  762, 1875,   26, 1402,   45,  516,    2, 2937,   16,\n",
       "        3355, 2062,  251,    0,  529,   24, 1625,  122,   18],\n",
       "       [ 677,  127,    2,   19,   23, 7800, 3592,   14,   64,   87,   32,\n",
       "         350,    0, 3968,    2,   38,   26,  114,   38,   26],\n",
       "       [  25,   45,  769,    2,   23, 2634, 1096, 1175,   19,    6,    1,\n",
       "         154,   23, 1890,   30,    6,    1,    1,    2,  198],\n",
       "       [7736,  391,    5, 5173,  838,    2,  840,    9, 8716,  537, 4132,\n",
       "        2915,    9,    1,    1,   10, 1268,  175,   32,  184],\n",
       "       [   3,   21,    4,    1,  308,  458,   11,   41,   14, 5718,  102,\n",
       "         824,    1,    2,   14,   59,   50,   12,    3,   21],\n",
       "       [   8,    1,   22,   73,   10,  863,   11,  898,  653,  270,    8,\n",
       "         500,  273, 1559,    2,   14, 3019,    5,  585,   84],\n",
       "       [ 483,  762,   87,  108, 1119,    0,    1,   67,    0, 3296,   26,\n",
       "         591,  174,  127,    2,  108,   26, 9821,   11,    6],\n",
       "       [3885,  582,   81,   17, 1834,    2, 1256,   98,  162,  582,  441,\n",
       "         125,   22, 1652,  172,    4,    3,    3,    8,  206],\n",
       "       [  44,   23,    1,    0, 1704,    4,    1,    2,   22,  373,   38,\n",
       "         275,    1, 8017,    2, 2785, 3659, 4359,   80,  634],\n",
       "       [1896,    8,   13, 9468,   17,  752, 4622,    2,   29, 2221,    0,\n",
       "         446, 3552,    4,    0, 2495,  431,  134,  284,  152],\n",
       "       [  48,    7, 1741,  193,    8,  446,  165,  301, 6521, 5122,   15,\n",
       "          12,    3,   21,    4,   10,  161,  783,    8,   79],\n",
       "       [  47, 4447, 1431,    4, 6967, 2121,   24,  452,   18,   43,    3,\n",
       "          48, 1076,   12,    3,   21,   69,   40,    2, 1323],\n",
       "       [  31, 3374,    4, 2108,    1,  134,    8, 6967, 1825, 3306,   14,\n",
       "          13, 3581,    5, 2424, 1583, 6495,    5,    6, 1136],\n",
       "       [  59, 2070, 2433,   28,  517,   20,   23, 4306,    6,   40,  195,\n",
       "           2, 9398,  400, 4908,  673, 1572,  400,    1, 1173]], dtype=int32)"
      ]
     },
     "execution_count": 13,
     "metadata": {},
     "output_type": "execute_result"
    }
   ],
   "source": [
    "session.run(_input_data,feed_dict)"
   ]
  },
  {
   "cell_type": "markdown",
   "metadata": {
    "button": false,
    "new_sheet": false,
    "run_control": {
     "read_only": false
    }
   },
   "source": [
    "In this step, we create the stacked LSTM, which is a 2 layer LSTM network:"
   ]
  },
  {
   "cell_type": "code",
   "execution_count": 14,
   "metadata": {
    "button": false,
    "collapsed": true,
    "new_sheet": false,
    "run_control": {
     "read_only": false
    }
   },
   "outputs": [],
   "source": [
    "lstm_cell = tf.contrib.rnn.BasicLSTMCell(hidden_size, forget_bias=0.0)\n",
    "stacked_lstm = tf.contrib.rnn.MultiRNNCell([lstm_cell] * num_layers)"
   ]
  },
  {
   "cell_type": "markdown",
   "metadata": {
    "button": false,
    "new_sheet": false,
    "run_control": {
     "read_only": false
    }
   },
   "source": [
    "Also, we initialize the states of the nework:\n",
    "\n",
    "#### _initial_state\n",
    "\n",
    "For each LCTM, there are 2 state matrics, c_state and m_state.  c_state and m_state represent \"Memory State\" and \"Cell State\". Each hidden layer, has a vector of size 30, which keeps the states. so, for 200 hidden units in each LSTM, we have a matrix of size [30x200]"
   ]
  },
  {
   "cell_type": "code",
   "execution_count": 15,
   "metadata": {
    "button": false,
    "new_sheet": false,
    "run_control": {
     "read_only": false
    }
   },
   "outputs": [
    {
     "data": {
      "text/plain": [
       "(LSTMStateTuple(c=<tf.Tensor 'MultiRNNCellZeroState/BasicLSTMCellZeroState/zeros:0' shape=(30, 200) dtype=float32>, h=<tf.Tensor 'MultiRNNCellZeroState/BasicLSTMCellZeroState/zeros_1:0' shape=(30, 200) dtype=float32>),\n",
       " LSTMStateTuple(c=<tf.Tensor 'MultiRNNCellZeroState/BasicLSTMCellZeroState_1/zeros:0' shape=(30, 200) dtype=float32>, h=<tf.Tensor 'MultiRNNCellZeroState/BasicLSTMCellZeroState_1/zeros_1:0' shape=(30, 200) dtype=float32>))"
      ]
     },
     "execution_count": 15,
     "metadata": {},
     "output_type": "execute_result"
    }
   ],
   "source": [
    "_initial_state = stacked_lstm.zero_state(batch_size, tf.float32)\n",
    "_initial_state"
   ]
  },
  {
   "cell_type": "markdown",
   "metadata": {
    "button": false,
    "new_sheet": false,
    "run_control": {
     "read_only": false
    }
   },
   "source": [
    "lets look at the states, though they are all zero for now:"
   ]
  },
  {
   "cell_type": "code",
   "execution_count": 16,
   "metadata": {
    "button": false,
    "new_sheet": false,
    "run_control": {
     "read_only": false
    }
   },
   "outputs": [
    {
     "data": {
      "text/plain": [
       "(LSTMStateTuple(c=array([[ 0.,  0.,  0., ...,  0.,  0.,  0.],\n",
       "       [ 0.,  0.,  0., ...,  0.,  0.,  0.],\n",
       "       [ 0.,  0.,  0., ...,  0.,  0.,  0.],\n",
       "       ..., \n",
       "       [ 0.,  0.,  0., ...,  0.,  0.,  0.],\n",
       "       [ 0.,  0.,  0., ...,  0.,  0.,  0.],\n",
       "       [ 0.,  0.,  0., ...,  0.,  0.,  0.]], dtype=float32), h=array([[ 0.,  0.,  0., ...,  0.,  0.,  0.],\n",
       "       [ 0.,  0.,  0., ...,  0.,  0.,  0.],\n",
       "       [ 0.,  0.,  0., ...,  0.,  0.,  0.],\n",
       "       ..., \n",
       "       [ 0.,  0.,  0., ...,  0.,  0.,  0.],\n",
       "       [ 0.,  0.,  0., ...,  0.,  0.,  0.],\n",
       "       [ 0.,  0.,  0., ...,  0.,  0.,  0.]], dtype=float32)),\n",
       " LSTMStateTuple(c=array([[ 0.,  0.,  0., ...,  0.,  0.,  0.],\n",
       "       [ 0.,  0.,  0., ...,  0.,  0.,  0.],\n",
       "       [ 0.,  0.,  0., ...,  0.,  0.,  0.],\n",
       "       ..., \n",
       "       [ 0.,  0.,  0., ...,  0.,  0.,  0.],\n",
       "       [ 0.,  0.,  0., ...,  0.,  0.,  0.],\n",
       "       [ 0.,  0.,  0., ...,  0.,  0.,  0.]], dtype=float32), h=array([[ 0.,  0.,  0., ...,  0.,  0.,  0.],\n",
       "       [ 0.,  0.,  0., ...,  0.,  0.,  0.],\n",
       "       [ 0.,  0.,  0., ...,  0.,  0.,  0.],\n",
       "       ..., \n",
       "       [ 0.,  0.,  0., ...,  0.,  0.,  0.],\n",
       "       [ 0.,  0.,  0., ...,  0.,  0.,  0.],\n",
       "       [ 0.,  0.,  0., ...,  0.,  0.,  0.]], dtype=float32)))"
      ]
     },
     "execution_count": 16,
     "metadata": {},
     "output_type": "execute_result"
    }
   ],
   "source": [
    "session.run(_initial_state,feed_dict)"
   ]
  },
  {
   "cell_type": "markdown",
   "metadata": {
    "button": false,
    "new_sheet": false,
    "run_control": {
     "read_only": false
    }
   },
   "source": [
    "### Embeddings\n",
    "We create the embeddings for our input data. embedding is dictionary of [10000x200] for all 10000 unique words."
   ]
  },
  {
   "cell_type": "code",
   "execution_count": 17,
   "metadata": {
    "button": false,
    "collapsed": true,
    "new_sheet": false,
    "run_control": {
     "read_only": false
    }
   },
   "outputs": [],
   "source": [
    "embedding = tf.get_variable(\"embedding\", [vocab_size, hidden_size])  #[10000x200]"
   ]
  },
  {
   "cell_type": "code",
   "execution_count": 18,
   "metadata": {
    "button": false,
    "new_sheet": false,
    "run_control": {
     "read_only": false
    }
   },
   "outputs": [
    {
     "data": {
      "text/plain": [
       "array([[ 0.00334329,  0.02149595, -0.01905779, ...,  0.01126953,\n",
       "         0.01003652,  0.00920196],\n",
       "       [ 0.01015082,  0.00554938, -0.01384872, ..., -0.02195068,\n",
       "         0.00692202,  0.00991818],\n",
       "       [-0.00454882,  0.01551855, -0.01384854, ...,  0.01278526,\n",
       "        -0.0241785 ,  0.01461539],\n",
       "       ..., \n",
       "       [-0.00801874,  0.02198792, -0.01868584, ..., -0.0049551 ,\n",
       "         0.00100205,  0.01588308],\n",
       "       [-0.02123289,  0.01997332,  0.00976802, ..., -0.01521255,\n",
       "         0.00219555, -0.02412506],\n",
       "       [-0.00369306,  0.01478289,  0.00288416, ..., -0.00501698,\n",
       "         0.01881   , -0.02203199]], dtype=float32)"
      ]
     },
     "execution_count": 18,
     "metadata": {},
     "output_type": "execute_result"
    }
   ],
   "source": [
    "session.run(tf.global_variables_initializer())\n",
    "session.run(embedding, feed_dict)"
   ]
  },
  {
   "cell_type": "markdown",
   "metadata": {
    "button": false,
    "new_sheet": false,
    "run_control": {
     "read_only": false
    }
   },
   "source": [
    "embedding_lookup goes to each row of input_data, and for each word in the row/sentence, finds the correspond vector in embedding.\n",
    "It creates a [30*20*200] matrix, so, the first elemnt of __inputs__ (the first sentence), is a matrix of 20x200, which each row of it is vector representing a word in the sentence.\n"
   ]
  },
  {
   "cell_type": "code",
   "execution_count": 19,
   "metadata": {
    "button": false,
    "collapsed": true,
    "new_sheet": false,
    "run_control": {
     "read_only": false
    }
   },
   "outputs": [],
   "source": [
    "# Define where to get the data for our embeddings from\n",
    "inputs = tf.nn.embedding_lookup(embedding, _input_data)  #shape=(30, 20, 200) "
   ]
  },
  {
   "cell_type": "code",
   "execution_count": 20,
   "metadata": {
    "button": false,
    "new_sheet": false,
    "run_control": {
     "read_only": false
    }
   },
   "outputs": [
    {
     "data": {
      "text/plain": [
       "<tf.Tensor 'embedding_lookup:0' shape=(30, 20, 200) dtype=float32>"
      ]
     },
     "execution_count": 20,
     "metadata": {},
     "output_type": "execute_result"
    }
   ],
   "source": [
    "inputs"
   ]
  },
  {
   "cell_type": "code",
   "execution_count": 21,
   "metadata": {
    "button": false,
    "new_sheet": false,
    "run_control": {
     "read_only": false
    }
   },
   "outputs": [
    {
     "data": {
      "text/plain": [
       "array([[  2.19646282e-02,  -1.28902905e-02,  -2.19725445e-02, ...,\n",
       "          2.31045149e-02,  -1.76849887e-02,  -4.14264016e-03],\n",
       "       [ -1.03356810e-02,  -6.84542768e-03,   1.96528435e-02, ...,\n",
       "         -1.76468678e-03,  -2.20396277e-02,  -9.33656842e-03],\n",
       "       [ -1.28132682e-02,  -7.53346831e-05,   1.66012570e-02, ...,\n",
       "         -1.76586621e-02,   5.19646145e-03,  -7.56553374e-03],\n",
       "       ..., \n",
       "       [  1.00642890e-02,   2.46554241e-03,  -1.33724064e-02, ...,\n",
       "         -2.14714054e-02,   1.08601302e-02,  -3.13375704e-03],\n",
       "       [  1.12362020e-03,  -1.84878483e-02,   2.08235160e-02, ...,\n",
       "          1.56466998e-02,   4.20400500e-03,  -9.15912911e-04],\n",
       "       [  2.26829574e-03,   2.13743821e-02,   2.18301117e-02, ...,\n",
       "          2.62415037e-04,  -1.37509173e-02,   8.97957012e-03]], dtype=float32)"
      ]
     },
     "execution_count": 21,
     "metadata": {},
     "output_type": "execute_result"
    }
   ],
   "source": [
    "session.run(inputs[0], feed_dict)"
   ]
  },
  {
   "cell_type": "markdown",
   "metadata": {
    "button": false,
    "new_sheet": false,
    "run_control": {
     "read_only": false
    }
   },
   "source": [
    "### Constructing Recurrent Neural Networks\n",
    "__tf.nn.dynamicrnn()__ creates a recurrent neural network using __stacked_lstm__ which is an instance of RNNCell. \n",
    "\n",
    "The input should be a Tensor of shape: [batch_size, max_time, ...], in our case it would be (30, 20, 200)\n",
    "\n",
    "This method, returns a pair (outputs, new_state) where:\n",
    "- outputs is a length T list of outputs (one for each input), or a nested tuple of such elements.\n",
    "- new_state is the final state\n"
   ]
  },
  {
   "cell_type": "code",
   "execution_count": 22,
   "metadata": {
    "button": false,
    "collapsed": true,
    "new_sheet": false,
    "run_control": {
     "read_only": false
    },
    "scrolled": true
   },
   "outputs": [],
   "source": [
    "outputs, new_state =  tf.nn.dynamic_rnn(stacked_lstm, inputs, initial_state=_initial_state)"
   ]
  },
  {
   "cell_type": "markdown",
   "metadata": {
    "button": false,
    "new_sheet": false,
    "run_control": {
     "read_only": false
    }
   },
   "source": [
    "so, lets look at the outputs. The output of the stackedLSTM comes from 200 hidden_layer, and in each time step(=20), one of them get activated. we use the linear activation to map the 200 hidden layer to a [?x10 matrix]"
   ]
  },
  {
   "cell_type": "code",
   "execution_count": 23,
   "metadata": {
    "button": false,
    "new_sheet": false,
    "run_control": {
     "read_only": false
    }
   },
   "outputs": [
    {
     "data": {
      "text/plain": [
       "<tf.Tensor 'rnn/transpose:0' shape=(30, 20, 200) dtype=float32>"
      ]
     },
     "execution_count": 23,
     "metadata": {},
     "output_type": "execute_result"
    }
   ],
   "source": [
    "outputs"
   ]
  },
  {
   "cell_type": "code",
   "execution_count": 24,
   "metadata": {
    "button": false,
    "new_sheet": false,
    "run_control": {
     "read_only": false
    }
   },
   "outputs": [
    {
     "data": {
      "text/plain": [
       "array([[  1.06276610e-04,   2.90750468e-04,  -2.58453103e-04, ...,\n",
       "         -2.01060320e-04,  -4.91178769e-04,  -9.41962135e-05],\n",
       "       [ -6.66010892e-05,   4.43194091e-04,  -7.83101306e-04, ...,\n",
       "         -2.90659314e-04,  -2.06439639e-04,  -4.12027322e-04],\n",
       "       [  5.85528032e-04,  -5.37846245e-05,  -8.53327161e-04, ...,\n",
       "          1.61022821e-04,  -2.08383353e-04,  -5.11033926e-04],\n",
       "       ..., \n",
       "       [  4.86843172e-04,  -8.55795923e-04,  -5.08571742e-04, ...,\n",
       "          6.50727015e-04,   1.05617410e-05,  -3.51777016e-05],\n",
       "       [  2.56670639e-04,  -6.65228814e-04,  -6.43027714e-04, ...,\n",
       "          7.49415194e-04,   1.46732811e-04,  -1.24282189e-04],\n",
       "       [  1.01329410e-04,  -4.13511589e-04,  -1.02180184e-03, ...,\n",
       "          8.50049430e-04,  -2.97700375e-04,   5.14376443e-04]], dtype=float32)"
      ]
     },
     "execution_count": 24,
     "metadata": {},
     "output_type": "execute_result"
    }
   ],
   "source": [
    "session.run(tf.global_variables_initializer())\n",
    "session.run(outputs[0], feed_dict)"
   ]
  },
  {
   "cell_type": "markdown",
   "metadata": {
    "button": false,
    "new_sheet": false,
    "run_control": {
     "read_only": false
    }
   },
   "source": [
    "Lets reshape the output tensor from  [30 x 20 x 200] to [600 x 200]"
   ]
  },
  {
   "cell_type": "code",
   "execution_count": 25,
   "metadata": {
    "button": false,
    "new_sheet": false,
    "run_control": {
     "read_only": false
    }
   },
   "outputs": [
    {
     "data": {
      "text/plain": [
       "<tf.Tensor 'Reshape:0' shape=(600, 200) dtype=float32>"
      ]
     },
     "execution_count": 25,
     "metadata": {},
     "output_type": "execute_result"
    }
   ],
   "source": [
    "output = tf.reshape(outputs, [-1, size])\n",
    "output"
   ]
  },
  {
   "cell_type": "code",
   "execution_count": 26,
   "metadata": {
    "button": false,
    "new_sheet": false,
    "run_control": {
     "read_only": false
    }
   },
   "outputs": [
    {
     "data": {
      "text/plain": [
       "array([  1.06276610e-04,   2.90750468e-04,  -2.58453103e-04,\n",
       "         3.21978208e-04,   2.26047370e-04,  -1.39691576e-04,\n",
       "        -1.60701472e-06,   2.32749764e-04,  -1.79238385e-04,\n",
       "         5.09123085e-04,   2.11909632e-04,   2.82623747e-04,\n",
       "        -1.15588882e-04,   4.77262147e-05,   1.53975387e-04,\n",
       "        -6.02021137e-05,  -3.27521440e-04,  -1.17217925e-04,\n",
       "         2.94536090e-04,   4.77106259e-05,  -1.75900816e-04,\n",
       "        -4.36125265e-05,  -3.30120994e-04,  -4.11450492e-05,\n",
       "         4.18788040e-05,  -4.00392048e-04,   2.49817858e-05,\n",
       "        -5.47663221e-05,  -9.04085973e-05,   9.67229425e-05,\n",
       "         3.24216671e-05,  -2.97343831e-05,  -1.53350033e-04,\n",
       "        -4.59402763e-05,   1.13353461e-04,   3.68386100e-05,\n",
       "         2.12381474e-06,  -1.96523615e-05,  -3.56405450e-04,\n",
       "         2.13832041e-04,  -1.53557761e-04,   2.58673273e-04,\n",
       "         8.26858195e-06,  -1.01956772e-04,  -4.18533775e-04,\n",
       "        -3.14942357e-04,  -3.17752674e-05,   2.21472961e-04,\n",
       "        -2.39143847e-04,   1.22764322e-04,   2.03444633e-05,\n",
       "         3.85766500e-04,   1.55208341e-04,  -1.58914147e-04,\n",
       "        -1.37543293e-05,  -1.52201115e-04,   2.98686151e-04,\n",
       "        -1.10101646e-04,   3.57575263e-05,  -1.69396317e-05,\n",
       "         2.77431274e-04,  -4.54499605e-05,  -4.27775696e-04,\n",
       "        -8.93913239e-05,   7.67769307e-05,   6.36927725e-05,\n",
       "         1.82595162e-04,   2.92820594e-04,  -1.08074593e-04,\n",
       "        -5.02474781e-04,  -5.19513094e-04,   2.25331678e-04,\n",
       "        -3.53918091e-04,   1.04243045e-04,  -1.98511552e-04,\n",
       "        -4.17529045e-05,  -2.00337163e-04,   3.26312613e-04,\n",
       "        -2.40966430e-04,   1.72057436e-04,   3.95821757e-04,\n",
       "        -3.54319091e-05,   4.37416747e-05,  -3.48972244e-04,\n",
       "         2.61005509e-04,  -4.44287551e-04,   2.11661172e-04,\n",
       "         2.43931849e-04,  -3.40651313e-04,  -3.47718567e-04,\n",
       "        -1.21367135e-04,   7.70454280e-05,   2.25538854e-04,\n",
       "         2.62594433e-04,  -1.64212412e-04,   3.65328815e-05,\n",
       "        -3.69745423e-04,   2.52598984e-04,   1.92363295e-05,\n",
       "         3.00561478e-05,  -2.67079275e-04,  -1.24044469e-04,\n",
       "        -8.95078265e-05,   2.11532766e-04,  -9.65185518e-06,\n",
       "        -1.97144385e-04,   6.75073970e-05,  -1.69927502e-04,\n",
       "         1.28391868e-04,   2.94347610e-05,  -1.09028326e-04,\n",
       "         1.26415951e-04,   3.61472426e-04,  -4.28341125e-04,\n",
       "        -5.49256394e-04,  -2.58338201e-04,   1.19750352e-04,\n",
       "        -4.28853455e-05,   1.94007618e-04,  -3.93394293e-04,\n",
       "         2.80427659e-04,   4.33442619e-04,  -6.44205196e-04,\n",
       "        -4.03226179e-04,  -1.21132762e-04,  -4.58268391e-04,\n",
       "        -3.34962853e-04,   8.06911048e-05,   1.84504694e-04,\n",
       "         1.16727715e-04,   3.77890829e-04,   2.70225587e-06,\n",
       "         1.42847493e-04,   2.26564094e-04,  -4.59325325e-04,\n",
       "        -9.12228061e-05,  -2.60398287e-04,  -8.45384930e-05,\n",
       "         2.09920443e-04,   1.99349131e-04,  -3.67212488e-04,\n",
       "        -1.45251950e-04,  -2.86735649e-05,  -5.72920544e-04,\n",
       "        -2.69408309e-04,  -2.82834895e-04,   7.14940426e-04,\n",
       "         1.01747173e-04,   9.52081173e-05,  -4.55450936e-04,\n",
       "         3.48733214e-04,   3.41675841e-05,  -1.53211688e-04,\n",
       "         5.06961718e-04,  -1.12228641e-04,  -5.43479000e-05,\n",
       "        -5.73420584e-05,  -1.29483029e-04,  -2.64457223e-04,\n",
       "         1.21493955e-04,   2.04777622e-04,   9.57298107e-05,\n",
       "         4.31224355e-04,  -3.01409658e-04,   1.96104476e-04,\n",
       "         4.06491687e-04,   1.65824444e-04,   4.15257120e-04,\n",
       "         2.33685263e-04,   5.99852137e-05,  -3.04535697e-05,\n",
       "        -5.48265118e-04,   1.26742932e-04,  -5.58216270e-05,\n",
       "        -3.49583366e-04,  -3.93066090e-04,   2.09604070e-04,\n",
       "        -1.28278465e-04,   1.00732766e-04,  -2.57191059e-05,\n",
       "         7.72220155e-05,  -1.89036422e-04,   1.33908194e-04,\n",
       "        -4.01190016e-04,  -1.65548234e-04,   3.75263335e-04,\n",
       "        -3.31271658e-05,  -5.06077253e-04,  -1.39553013e-04,\n",
       "         4.18369818e-05,   2.77883373e-04,   3.50950631e-06,\n",
       "        -3.62000923e-04,   4.47094208e-04,  -4.05536237e-04,\n",
       "        -1.24391372e-05,   5.34573555e-05,  -2.01060320e-04,\n",
       "        -4.91178769e-04,  -9.41962135e-05], dtype=float32)"
      ]
     },
     "execution_count": 26,
     "metadata": {},
     "output_type": "execute_result"
    }
   ],
   "source": [
    "session.run(output[0], feed_dict)"
   ]
  },
  {
   "cell_type": "markdown",
   "metadata": {
    "button": false,
    "new_sheet": false,
    "run_control": {
     "read_only": false
    }
   },
   "source": [
    "### logistic unit\n",
    "Now, we create a logistic unit to return the probability of the output word. That is, mapping the 600\n",
    "\n",
    "Softmax = [600 x 200]* [200 x 1000]+ [1 x 1000] -> [600 x 1000]"
   ]
  },
  {
   "cell_type": "code",
   "execution_count": 27,
   "metadata": {
    "button": false,
    "collapsed": true,
    "new_sheet": false,
    "run_control": {
     "read_only": false
    }
   },
   "outputs": [],
   "source": [
    "softmax_w = tf.get_variable(\"softmax_w\", [size, vocab_size]) #[200x1000]\n",
    "softmax_b = tf.get_variable(\"softmax_b\", [vocab_size]) #[1x1000]\n",
    "logits = tf.matmul(output, softmax_w) + softmax_b"
   ]
  },
  {
   "cell_type": "code",
   "execution_count": 28,
   "metadata": {
    "button": false,
    "new_sheet": false,
    "run_control": {
     "read_only": false
    }
   },
   "outputs": [
    {
     "data": {
      "text/plain": [
       "(600, 10000)"
      ]
     },
     "execution_count": 28,
     "metadata": {},
     "output_type": "execute_result"
    }
   ],
   "source": [
    "session.run(tf.global_variables_initializer())\n",
    "logi = session.run(logits, feed_dict)\n",
    "logi.shape"
   ]
  },
  {
   "cell_type": "code",
   "execution_count": 29,
   "metadata": {
    "button": false,
    "new_sheet": false,
    "run_control": {
     "read_only": false
    }
   },
   "outputs": [
    {
     "data": {
      "text/plain": [
       "(10000,)"
      ]
     },
     "execution_count": 29,
     "metadata": {},
     "output_type": "execute_result"
    }
   ],
   "source": [
    "First_word_output_probablity = logi[0]\n",
    "First_word_output_probablity.shape"
   ]
  },
  {
   "cell_type": "markdown",
   "metadata": {
    "button": false,
    "new_sheet": false,
    "run_control": {
     "read_only": false
    }
   },
   "source": [
    "### Prediction\n",
    "The maximum probablity"
   ]
  },
  {
   "cell_type": "code",
   "execution_count": 30,
   "metadata": {
    "button": false,
    "new_sheet": false,
    "run_control": {
     "read_only": false
    }
   },
   "outputs": [
    {
     "data": {
      "text/plain": [
       "8871"
      ]
     },
     "execution_count": 30,
     "metadata": {},
     "output_type": "execute_result"
    }
   ],
   "source": [
    "embedding_array= session.run(embedding, feed_dict)\n",
    "np.argmax(First_word_output_probablity)"
   ]
  },
  {
   "cell_type": "markdown",
   "metadata": {
    "button": false,
    "new_sheet": false,
    "run_control": {
     "read_only": false
    }
   },
   "source": [
    "So, what is the ground truth for the first word of first sentence? "
   ]
  },
  {
   "cell_type": "code",
   "execution_count": 31,
   "metadata": {
    "button": false,
    "new_sheet": false,
    "run_control": {
     "read_only": false
    }
   },
   "outputs": [
    {
     "data": {
      "text/plain": [
       "9971"
      ]
     },
     "execution_count": 31,
     "metadata": {},
     "output_type": "execute_result"
    }
   ],
   "source": [
    "y[0][0]"
   ]
  },
  {
   "cell_type": "markdown",
   "metadata": {
    "button": false,
    "new_sheet": false,
    "run_control": {
     "read_only": false
    }
   },
   "source": [
    "Also, you can get it from target tensor, if you want to find the embedding vector:"
   ]
  },
  {
   "cell_type": "code",
   "execution_count": 32,
   "metadata": {
    "button": false,
    "new_sheet": false,
    "run_control": {
     "read_only": false
    }
   },
   "outputs": [
    {
     "data": {
      "text/plain": [
       "<tf.Tensor 'Placeholder_1:0' shape=(30, 20) dtype=int32>"
      ]
     },
     "execution_count": 32,
     "metadata": {},
     "output_type": "execute_result"
    }
   ],
   "source": [
    "_targets"
   ]
  },
  {
   "cell_type": "markdown",
   "metadata": {
    "button": false,
    "new_sheet": false,
    "run_control": {
     "read_only": false
    }
   },
   "source": [
    "It is time to compare logit with target"
   ]
  },
  {
   "cell_type": "code",
   "execution_count": 33,
   "metadata": {
    "button": false,
    "collapsed": true,
    "new_sheet": false,
    "run_control": {
     "read_only": false
    }
   },
   "outputs": [],
   "source": [
    "targ = session.run(tf.reshape(_targets, [-1]), feed_dict) "
   ]
  },
  {
   "cell_type": "code",
   "execution_count": 34,
   "metadata": {
    "button": false,
    "new_sheet": false,
    "run_control": {
     "read_only": false
    }
   },
   "outputs": [
    {
     "data": {
      "text/plain": [
       "9971"
      ]
     },
     "execution_count": 34,
     "metadata": {},
     "output_type": "execute_result"
    }
   ],
   "source": [
    "first_word_target_code= targ[0]\n",
    "first_word_target_code"
   ]
  },
  {
   "cell_type": "code",
   "execution_count": 35,
   "metadata": {
    "button": false,
    "new_sheet": false,
    "run_control": {
     "read_only": false
    }
   },
   "outputs": [
    {
     "data": {
      "text/plain": [
       "array([ 0.02348   ,  0.00028309, -0.02067099, -0.01585596, -0.00817979,\n",
       "        0.02159804,  0.02214611, -0.01041749, -0.02133354,  0.00278243,\n",
       "       -0.01564273, -0.00577306,  0.01584075,  0.01522995,  0.01611251,\n",
       "        0.01830269, -0.00521177,  0.01568734, -0.01280141, -0.00959484,\n",
       "        0.00601653, -0.01157181, -0.01088051, -0.0061081 , -0.00568555,\n",
       "       -0.00968003,  0.01030144,  0.02293476,  0.00239013, -0.00089943,\n",
       "       -0.02307511,  0.01370333,  0.01793122,  0.01768802,  0.01516016,\n",
       "        0.00135015, -0.01042645, -0.00220334, -0.00284881, -0.00082364,\n",
       "        0.00909363, -0.01750205,  0.00627139,  0.01528639,  0.00242398,\n",
       "        0.00231343,  0.0130927 , -0.02370251,  0.01111145,  0.01773867,\n",
       "       -0.00547511, -0.0027892 ,  0.00476878, -0.00515503,  0.01064614,\n",
       "        0.01205741,  0.02162779,  0.01272883, -0.01637469,  0.02365696,\n",
       "        0.01834065, -0.00715134,  0.02167491,  0.01171111,  0.00892628,\n",
       "       -0.00473003,  0.01060923,  0.00536771, -0.00354639, -0.02179867,\n",
       "       -0.01330897, -0.00783228, -0.01484322,  0.02208443, -0.02328153,\n",
       "        0.02123144, -0.00595099,  0.00308545, -0.01975535,  0.01043234,\n",
       "        0.02033034,  0.00794519, -0.01397107, -0.00202227, -0.01918184,\n",
       "       -0.00660321,  0.00311905,  0.01444117,  0.02029274,  0.00784683,\n",
       "       -0.0097779 ,  0.00102955, -0.0147761 ,  0.0023097 ,  0.00367777,\n",
       "       -0.02297278,  0.01990719, -0.02280982,  0.00266154, -0.00555136,\n",
       "        0.01104676,  0.01146545,  0.01688423, -0.01187305,  0.02157291,\n",
       "       -0.0132929 ,  0.01351395, -0.01057637, -0.01355514,  0.00199293,\n",
       "        0.01102284, -0.00734862, -0.00862691, -0.00047847,  0.00479121,\n",
       "        0.0223973 ,  0.01671662, -0.02290678, -0.00195041, -0.01390485,\n",
       "        0.00635299,  0.01913675,  0.00439961, -0.01113965,  0.02072939,\n",
       "       -0.01761157, -0.01520419, -0.0006291 , -0.01011175, -0.01079815,\n",
       "       -0.00359044,  0.02392654, -0.00320952, -0.0199208 ,  0.00161663,\n",
       "        0.00632492, -0.01909538,  0.02009384,  0.01660256,  0.00731332,\n",
       "       -0.00377076, -0.02059041,  0.01079967,  0.00239273, -0.02286674,\n",
       "        0.00698777,  0.00979415,  0.01757048, -0.00215642,  0.00500016,\n",
       "       -0.00711997,  0.01771373, -0.01002234,  0.01302018, -0.00893851,\n",
       "       -0.00485402, -0.01438589,  0.00559849,  0.02158792,  0.02221355,\n",
       "        0.01051093,  0.00747532,  0.017383  , -0.00974263, -0.00143771,\n",
       "       -0.00356446, -0.01283877, -0.01237107, -0.00445995,  0.00495716,\n",
       "       -0.01583655, -0.00661162,  0.0054352 , -0.01169404, -0.02385124,\n",
       "       -0.00651962,  0.01443417,  0.01476477,  0.00945683,  0.01975402,\n",
       "        0.01169352, -0.0106062 ,  0.00353451, -0.00982261, -0.0182838 ,\n",
       "       -0.00890563, -0.01244026,  0.022549  , -0.01631231, -0.0211826 ,\n",
       "        0.00197605, -0.01407709,  0.0237062 ,  0.01606638, -0.02224762,\n",
       "        0.01281768, -0.01188374, -0.00710147, -0.00150227,  0.00900786], dtype=float32)"
      ]
     },
     "execution_count": 35,
     "metadata": {},
     "output_type": "execute_result"
    }
   ],
   "source": [
    "first_word_target_vec = session.run( tf.nn.embedding_lookup(embedding, targ[0]))\n",
    "first_word_target_vec"
   ]
  },
  {
   "cell_type": "markdown",
   "metadata": {
    "button": false,
    "new_sheet": false,
    "run_control": {
     "read_only": false
    }
   },
   "source": [
    "#### Objective function\n",
    "\n",
    "Now we want to define our objective function. Our objective is to minimize loss function, that is, to minimize the average negative log probability of the target words:\n",
    "\n",
    "loss=−1N∑i=1Nln⁡ptargeti  \n",
    "This function is already implimented and available in TensorFlow through __sequence_loss_by_example__ so we can just use it here. __sequence_loss_by_example__ is weighted cross-entropy loss for a sequence of logits (per example).  \n",
    "\n",
    "Its arguments:  \n",
    "\n",
    "logits: List of 2D Tensors of shape [batch_size x num_decoder_symbols].  \n",
    "targets: List of 1D batch-sized int32 Tensors of the same length as logits.  \n",
    "weights: List of 1D batch-sized float-Tensors of the same length as logits.  "
   ]
  },
  {
   "cell_type": "code",
   "execution_count": 36,
   "metadata": {
    "button": false,
    "collapsed": true,
    "new_sheet": false,
    "run_control": {
     "read_only": false
    }
   },
   "outputs": [],
   "source": [
    "loss = tf.contrib.legacy_seq2seq.sequence_loss_by_example([logits], [tf.reshape(_targets, [-1])],[tf.ones([batch_size * num_steps])])"
   ]
  },
  {
   "cell_type": "markdown",
   "metadata": {
    "button": false,
    "new_sheet": false,
    "run_control": {
     "read_only": false
    }
   },
   "source": [
    "loss is a 1D batch-sized float Tensor [600x1]: The log-perplexity for each sequence."
   ]
  },
  {
   "cell_type": "code",
   "execution_count": 37,
   "metadata": {
    "button": false,
    "new_sheet": false,
    "run_control": {
     "read_only": false
    }
   },
   "outputs": [
    {
     "data": {
      "text/plain": [
       "array([ 9.20680904,  9.19584084,  9.1974678 ,  9.20734406,  9.22301197,\n",
       "        9.22282124,  9.22596073,  9.20231533,  9.19451809,  9.20068359,\n",
       "        9.19634914,  9.22097588,  9.20481777,  9.22577381,  9.22261524,\n",
       "        9.20453835,  9.22573948,  9.19609547,  9.19924355,  9.20995426,\n",
       "        9.21425724,  9.21254635,  9.21619225,  9.21440601,  9.19401646,\n",
       "        9.20900631,  9.20183563,  9.20208836,  9.20458412,  9.19561577,\n",
       "        9.20549679,  9.20344067,  9.20523739,  9.2199707 ,  9.21159935,\n",
       "        9.22398663,  9.20503902,  9.19585419,  9.22394657,  9.20987511,\n",
       "        9.213624  ,  9.2141695 ,  9.22574234,  9.20918751,  9.21595764,\n",
       "        9.21079445,  9.20868111,  9.20259285,  9.21879196,  9.22616863,\n",
       "        9.20997715,  9.22212315,  9.19939232,  9.21984291,  9.2177    ,\n",
       "        9.21993351,  9.20981693,  9.22189999,  9.19943619,  9.21405602,\n",
       "        9.21859932,  9.21421337,  9.20287514,  9.21616745,  9.19362354,\n",
       "        9.20470047,  9.21723843,  9.21428394,  9.19377422,  9.20968723,\n",
       "        9.22050381,  9.22200966,  9.21849442,  9.20420837,  9.21987724,\n",
       "        9.19827557,  9.19874954,  9.21427536,  9.22674179,  9.2089138 ,\n",
       "        9.21704674,  9.21414566,  9.20037651,  9.22529507,  9.22670364,\n",
       "        9.22586441,  9.20185757,  9.19801712,  9.19969082,  9.21543598,\n",
       "        9.19395351,  9.19584465,  9.22709274,  9.2220583 ,  9.19403934,\n",
       "        9.2140379 ,  9.22578335,  9.21701336,  9.21418953,  9.22013283,\n",
       "        9.2142725 ,  9.2261982 ,  9.20978928,  9.22210121,  9.19937134,\n",
       "        9.21846294,  9.21284962,  9.22383499,  9.20953655,  9.22567654,\n",
       "        9.19934845,  9.19459438,  9.21569061,  9.1976614 ,  9.2043581 ,\n",
       "        9.22617054,  9.20583725,  9.21469212,  9.21980858,  9.203475  ,\n",
       "        9.20833206,  9.20329285,  9.21785545,  9.22023773,  9.21426582,\n",
       "        9.2087965 ,  9.21107101,  9.20847797,  9.21977425,  9.22672939,\n",
       "        9.22401047,  9.21403599,  9.19572163,  9.2144165 ,  9.21871662,\n",
       "        9.21217346,  9.20412159,  9.20738602,  9.21463871,  9.21993446,\n",
       "        9.20768452,  9.21221066,  9.19736195,  9.2170639 ,  9.21744919,\n",
       "        9.2142992 ,  9.22557163,  9.22319698,  9.2139864 ,  9.22526455,\n",
       "        9.21785355,  9.21439266,  9.22567081,  9.22427464,  9.22004223,\n",
       "        9.19409466,  9.19406509,  9.19405079,  9.22500229,  9.21976566,\n",
       "        9.21789742,  9.22072506,  9.21787262,  9.22560978,  9.20920658,\n",
       "        9.20311642,  9.22581005,  9.21280098,  9.22209263,  9.19411087,\n",
       "        9.19407654,  9.19908905,  9.19958687,  9.20228767,  9.19719028,\n",
       "        9.2110405 ,  9.20775127,  9.20329475,  9.19901943,  9.2218256 ,\n",
       "        9.21230412,  9.2173872 ,  9.19511223,  9.20264721,  9.19828415,\n",
       "        9.21043396,  9.21289349,  9.19407749,  9.2241478 ,  9.19542694,\n",
       "        9.21132946,  9.19947815,  9.20826721,  9.21408939,  9.21363449,\n",
       "        9.20616055,  9.19545078,  9.22045708,  9.21794415,  9.2273283 ,\n",
       "        9.21432304,  9.21678066,  9.21566105,  9.21681786,  9.19965649,\n",
       "        9.2141552 ,  9.21989536,  9.19747543,  9.21323872,  9.21892357,\n",
       "        9.21993351,  9.1935873 ,  9.21335411,  9.2103672 ,  9.21822166,\n",
       "        9.1957922 ,  9.20180035,  9.20846748,  9.20470905,  9.2142601 ,\n",
       "        9.22341442,  9.22221184,  9.19579792,  9.22218227,  9.21984577,\n",
       "        9.22578907,  9.19919109,  9.21130276,  9.21015167,  9.21023941,\n",
       "        9.22414875,  9.22581577,  9.19786263,  9.22076702,  9.19384384,\n",
       "        9.20308018,  9.19960976,  9.19718742,  9.21701908,  9.20623684,\n",
       "        9.20252609,  9.22736549,  9.20791149,  9.22254467,  9.19542217,\n",
       "        9.20012569,  9.22396469,  9.19553089,  9.21919346,  9.19378662,\n",
       "        9.21097183,  9.22060776,  9.21422005,  9.21625233,  9.19415855,\n",
       "        9.21979523,  9.22580051,  9.22366142,  9.20409775,  9.20460892,\n",
       "        9.19402313,  9.21975708,  9.22072697,  9.22568703,  9.2012825 ,\n",
       "        9.21417046,  9.19803619,  9.21597385,  9.21699429,  9.21401691,\n",
       "        9.20195675,  9.21995258,  9.20323372,  9.22575092,  9.20439434,\n",
       "        9.22377872,  9.20284081,  9.19407368,  9.19404697,  9.19402981,\n",
       "        9.19747353,  9.21699429,  9.2267189 ,  9.22406006,  9.21348095,\n",
       "        9.21891308,  9.21578884,  9.2143364 ,  9.19656467,  9.21997166,\n",
       "        9.22696877,  9.22595501,  9.19631004,  9.22277832,  9.20346737,\n",
       "        9.20324516,  9.22581005,  9.19426346,  9.22338963,  9.20295048,\n",
       "        9.22026539,  9.19749641,  9.21422482,  9.21446133,  9.22590256,\n",
       "        9.19787502,  9.20534325,  9.19401741,  9.22571659,  9.2018671 ,\n",
       "        9.19369507,  9.2142086 ,  9.21418476,  9.19572449,  9.21495152,\n",
       "        9.22586441,  9.20903778,  9.22561359,  9.21984768,  9.21347427,\n",
       "        9.21724892,  9.22684193,  9.20823097,  9.20271206,  9.19827938,\n",
       "        9.19943047,  9.20693684,  9.21972466,  9.21076298,  9.21382523,\n",
       "        9.1993351 ,  9.21195602,  9.22649765,  9.22595406,  9.226161  ,\n",
       "        9.21564579,  9.22319603,  9.20460987,  9.22073746,  9.21429634,\n",
       "        9.21088409,  9.21992111,  9.22721577,  9.20601654,  9.19351292,\n",
       "        9.21218872,  9.21288967,  9.19367409,  9.21346283,  9.21034908,\n",
       "        9.20521259,  9.22594261,  9.21425724,  9.21993446,  9.20283508,\n",
       "        9.20264912,  9.22595978,  9.20277119,  9.20259476,  9.21966457,\n",
       "        9.19943047,  9.208992  ,  9.21990585,  9.20603275,  9.20489788,\n",
       "        9.19582558,  9.22349072,  9.22727966,  9.21421528,  9.193964  ,\n",
       "        9.21370888,  9.20586872,  9.22685242,  9.21022987,  9.21424961,\n",
       "        9.19404984,  9.19403553,  9.21985912,  9.20387936,  9.21248913,\n",
       "        9.21693802,  9.19736195,  9.2167511 ,  9.19411087,  9.21998596,\n",
       "        9.20705509,  9.22061062,  9.19302845,  9.21167088,  9.20462894,\n",
       "        9.21772003,  9.22070789,  9.19363499,  9.19371319,  9.22402   ,\n",
       "        9.22703457,  9.22611046,  9.21016407,  9.19405079,  9.19954014,\n",
       "        9.19941235,  9.21409512,  9.19410706,  9.21342182,  9.19683075,\n",
       "        9.20464134,  9.20535374,  9.21299362,  9.21787739,  9.22069836,\n",
       "        9.22420025,  9.19390202,  9.21985722,  9.21290779,  9.19820023,\n",
       "        9.20223236,  9.20975685,  9.22211647,  9.1993227 ,  9.21414566,\n",
       "        9.1940136 ,  9.22735596,  9.19812107,  9.22397232,  9.2129488 ,\n",
       "        9.20468426,  9.19763756,  9.20486069,  9.19970798,  9.19585037,\n",
       "        9.22740746,  9.21440315,  9.19467926,  9.2198391 ,  9.21289635,\n",
       "        9.21384907,  9.19736671,  9.21871758,  9.19963264,  9.20812988,\n",
       "        9.22679615,  9.21356201,  9.2232132 ,  9.22548008,  9.22581673,\n",
       "        9.19392681,  9.22661781,  9.2258625 ,  9.22699165,  9.20277786,\n",
       "        9.21395493,  9.21143532,  9.21093369,  9.21995354,  9.22317219,\n",
       "        9.20257282,  9.22242546,  9.2047081 ,  9.21421814,  9.22353458,\n",
       "        9.22085476,  9.2196703 ,  9.21962929,  9.20853519,  9.21993542,\n",
       "        9.22558403,  9.19771481,  9.19863224,  9.22070789,  9.22558212,\n",
       "        9.19311237,  9.22724628,  9.19910812,  9.21703339,  9.21432495,\n",
       "        9.2219696 ,  9.22204494,  9.1957283 ,  9.20568275,  9.21991444,\n",
       "        9.20608044,  9.19406033,  9.22591114,  9.21683025,  9.21423626,\n",
       "        9.19381809,  9.21993065,  9.22729778,  9.19352818,  9.20285988,\n",
       "        9.19442654,  9.19387913,  9.21123886,  9.21975136,  9.22676468,\n",
       "        9.20994949,  9.22422123,  9.2211628 ,  9.20946217,  9.20272827,\n",
       "        9.19574165,  9.19959068,  9.20789528,  9.21968174,  9.21754074,\n",
       "        9.20362949,  9.21994877,  9.20428085,  9.22202015,  9.22589111,\n",
       "        9.21434116,  9.20993233,  9.21440506,  9.2256813 ,  9.19995213,\n",
       "        9.21412277,  9.22399044,  9.19658947,  9.21525478,  9.19380665,\n",
       "        9.20327091,  9.19945335,  9.22219467,  9.19581318,  9.21432495,\n",
       "        9.20630169,  9.20958996,  9.19547749,  9.2085743 ,  9.20306015,\n",
       "        9.20974827,  9.22196198,  9.19937611,  9.21408272,  9.22399902,\n",
       "        9.19943619,  9.21245766,  9.1958189 ,  9.22284794,  9.21719933,\n",
       "        9.19983292,  9.20161819,  9.21436405,  9.21748161,  9.20674419,\n",
       "        9.2158947 ,  9.20710754,  9.22046852,  9.19374657,  9.22194672,\n",
       "        9.19389248,  9.19601154,  9.2097578 ,  9.221982  ,  9.19938755,\n",
       "        9.19366837,  9.21730709,  9.22004318,  9.22017574,  9.19428921,\n",
       "        9.19894695,  9.21437931,  9.22418976,  9.19400692,  9.22376823,\n",
       "        9.19571018,  9.21732807,  9.22625542,  9.21667385,  9.21305084,\n",
       "        9.19936848,  9.19447899,  9.19714642,  9.22156429,  9.21511936,\n",
       "        9.21302032,  9.19737625,  9.21427917,  9.19318199,  9.21411419,\n",
       "        9.2100172 ,  9.20416832,  9.19750118,  9.20268917,  9.20878315,\n",
       "        9.20610905,  9.21999645,  9.21420383,  9.21707535,  9.22661781,\n",
       "        9.22005844,  9.20686436,  9.19746494,  9.20501804,  9.22340775,\n",
       "        9.20049381,  9.19727135,  9.19379425,  9.21483707,  9.21141243], dtype=float32)"
      ]
     },
     "execution_count": 37,
     "metadata": {},
     "output_type": "execute_result"
    }
   ],
   "source": [
    "session.run(loss, feed_dict)"
   ]
  },
  {
   "cell_type": "code",
   "execution_count": 38,
   "metadata": {
    "button": false,
    "new_sheet": false,
    "run_control": {
     "read_only": false
    }
   },
   "outputs": [
    {
     "data": {
      "text/plain": [
       "184.20247"
      ]
     },
     "execution_count": 38,
     "metadata": {},
     "output_type": "execute_result"
    }
   ],
   "source": [
    "cost = tf.reduce_sum(loss) / batch_size\n",
    "\n",
    "session.run(tf.global_variables_initializer())\n",
    "session.run(cost, feed_dict)\n"
   ]
  },
  {
   "cell_type": "markdown",
   "metadata": {
    "button": false,
    "new_sheet": false,
    "run_control": {
     "read_only": false
    }
   },
   "source": [
    "Now, lets store the new state as final state "
   ]
  },
  {
   "cell_type": "code",
   "execution_count": 39,
   "metadata": {
    "button": false,
    "collapsed": true,
    "new_sheet": false,
    "run_control": {
     "read_only": false
    }
   },
   "outputs": [],
   "source": [
    "# \n",
    "final_state = new_state"
   ]
  },
  {
   "cell_type": "markdown",
   "metadata": {
    "button": false,
    "new_sheet": false,
    "run_control": {
     "read_only": false
    }
   },
   "source": [
    "### Training\n",
    "\n",
    "To do gradient clipping in TensorFlow we have to take the following steps:\n",
    "\n",
    "1. Define the optimizer.\n",
    "2. Extract variables that are trainable.\n",
    "3. Calculate the gradients based on the loss function.\n",
    "4. Apply the optimizer to the variables / gradients tuple."
   ]
  },
  {
   "cell_type": "markdown",
   "metadata": {
    "button": false,
    "new_sheet": false,
    "run_control": {
     "read_only": false
    }
   },
   "source": [
    "#### 1. Define Optimizer\n",
    "\n",
    "__GradientDescentOptimizer__ constructs a new gradient descent optimizer. Later, we use constructed __optimizer__ to compute gradients for a loss and apply gradients to variables."
   ]
  },
  {
   "cell_type": "code",
   "execution_count": 40,
   "metadata": {
    "button": false,
    "collapsed": true,
    "new_sheet": false,
    "run_control": {
     "read_only": false
    }
   },
   "outputs": [],
   "source": [
    "# Create a variable for the learning rate\n",
    "lr = tf.Variable(0.0, trainable=False)\n",
    "# Create the gradient descent optimizer with our learning rate\n",
    "optimizer = tf.train.GradientDescentOptimizer(lr)"
   ]
  },
  {
   "cell_type": "markdown",
   "metadata": {
    "button": false,
    "new_sheet": false,
    "run_control": {
     "read_only": false
    }
   },
   "source": [
    "\n",
    "#### 2. Trainable Variables"
   ]
  },
  {
   "cell_type": "markdown",
   "metadata": {
    "button": false,
    "new_sheet": false,
    "run_control": {
     "read_only": false
    }
   },
   "source": [
    "Definining a variable, if you passed _trainable=True_, the _Variable()_ constructor automatically adds new variables to the graph collection __GraphKeys.TRAINABLE_VARIABLES__. Now, using _tf.trainable_variables()_ you can get all variables created with __trainable=True__."
   ]
  },
  {
   "cell_type": "code",
   "execution_count": 41,
   "metadata": {
    "button": false,
    "new_sheet": false,
    "run_control": {
     "read_only": false
    }
   },
   "outputs": [
    {
     "data": {
      "text/plain": [
       "[<tf.Variable 'embedding:0' shape=(10000, 200) dtype=float32_ref>,\n",
       " <tf.Variable 'rnn/multi_rnn_cell/cell_0/basic_lstm_cell/kernel:0' shape=(400, 800) dtype=float32_ref>,\n",
       " <tf.Variable 'rnn/multi_rnn_cell/cell_0/basic_lstm_cell/bias:0' shape=(800,) dtype=float32_ref>,\n",
       " <tf.Variable 'softmax_w:0' shape=(200, 10000) dtype=float32_ref>,\n",
       " <tf.Variable 'softmax_b:0' shape=(10000,) dtype=float32_ref>]"
      ]
     },
     "execution_count": 41,
     "metadata": {},
     "output_type": "execute_result"
    }
   ],
   "source": [
    "# Get all TensorFlow variables marked as \"trainable\" (i.e. all of them except _lr, which we just created)\n",
    "tvars = tf.trainable_variables()\n",
    "tvars"
   ]
  },
  {
   "cell_type": "markdown",
   "metadata": {
    "button": false,
    "new_sheet": false,
    "run_control": {
     "read_only": false
    }
   },
   "source": [
    "we can find the name and scope of all variables:"
   ]
  },
  {
   "cell_type": "code",
   "execution_count": 42,
   "metadata": {
    "button": false,
    "collapsed": true,
    "new_sheet": false,
    "run_control": {
     "read_only": false
    }
   },
   "outputs": [],
   "source": [
    "tvars=tvars[3:]"
   ]
  },
  {
   "cell_type": "code",
   "execution_count": 43,
   "metadata": {
    "button": false,
    "new_sheet": false,
    "run_control": {
     "read_only": false
    }
   },
   "outputs": [
    {
     "data": {
      "text/plain": [
       "[u'softmax_w:0', u'softmax_b:0']"
      ]
     },
     "execution_count": 43,
     "metadata": {},
     "output_type": "execute_result"
    }
   ],
   "source": [
    "[v.name for v in tvars]"
   ]
  },
  {
   "cell_type": "markdown",
   "metadata": {
    "button": false,
    "new_sheet": false,
    "run_control": {
     "read_only": false
    }
   },
   "source": [
    "#### 3. Calculate the gradients based on the loss function"
   ]
  },
  {
   "cell_type": "code",
   "execution_count": 44,
   "metadata": {
    "button": false,
    "new_sheet": false,
    "run_control": {
     "read_only": false
    }
   },
   "outputs": [
    {
     "data": {
      "text/plain": [
       "<tf.Tensor 'truediv:0' shape=() dtype=float32>"
      ]
     },
     "execution_count": 44,
     "metadata": {},
     "output_type": "execute_result"
    }
   ],
   "source": [
    "cost"
   ]
  },
  {
   "cell_type": "code",
   "execution_count": 45,
   "metadata": {
    "button": false,
    "new_sheet": false,
    "run_control": {
     "read_only": false
    }
   },
   "outputs": [
    {
     "data": {
      "text/plain": [
       "[<tf.Variable 'softmax_w:0' shape=(200, 10000) dtype=float32_ref>,\n",
       " <tf.Variable 'softmax_b:0' shape=(10000,) dtype=float32_ref>]"
      ]
     },
     "execution_count": 45,
     "metadata": {},
     "output_type": "execute_result"
    }
   ],
   "source": [
    "tvars"
   ]
  },
  {
   "cell_type": "markdown",
   "metadata": {
    "button": false,
    "new_sheet": false,
    "run_control": {
     "read_only": false
    }
   },
   "source": [
    "#### Gradient:\n",
    "The gradient of a function (line) is the slope of the line, or the rate of change of a function. It's a vector (a direction to move) that points in the direction of greatest increase of the function, and calculated by __derivative__ operation.\n",
    "\n",
    "First lets recall the gradient function using an toy example:\n",
    "$$ z=\\left(2x^2+3xy\\right)$$"
   ]
  },
  {
   "cell_type": "code",
   "execution_count": 46,
   "metadata": {
    "button": false,
    "new_sheet": false,
    "run_control": {
     "read_only": false
    }
   },
   "outputs": [
    {
     "data": {
      "text/plain": [
       "8.0"
      ]
     },
     "execution_count": 46,
     "metadata": {},
     "output_type": "execute_result"
    }
   ],
   "source": [
    "var_x = tf.placeholder(tf.float32)\n",
    "var_y = tf.placeholder(tf.float32) \n",
    "func_test = 2.0*var_x*var_x + 3.0*var_x*var_y\n",
    "session.run(tf.global_variables_initializer())\n",
    "feed={var_x:1.0,var_y:2.0}\n",
    "session.run(func_test, feed)\n"
   ]
  },
  {
   "cell_type": "markdown",
   "metadata": {
    "button": false,
    "new_sheet": false,
    "run_control": {
     "read_only": false
    }
   },
   "source": [
    "The __tf.gradients()__ function allows you to compute the symbolic gradient of one tensor with respect to one or more other tensors—including variables. __tf.gradients(func,xs)__ constructs symbolic partial derivatives of sum of __func__ w.r.t. _x_ in __xs__. \n",
    "\n",
    "Now, lets look at the derivitive w.r.t. __var_x__:\n",
    "$$ \\frac{\\partial \\:}{\\partial \\:x}\\left(2x^2+3xy\\right)=4x+3y $$\n"
   ]
  },
  {
   "cell_type": "code",
   "execution_count": 47,
   "metadata": {
    "button": false,
    "new_sheet": false,
    "run_control": {
     "read_only": false
    }
   },
   "outputs": [
    {
     "data": {
      "text/plain": [
       "[10.0]"
      ]
     },
     "execution_count": 47,
     "metadata": {},
     "output_type": "execute_result"
    }
   ],
   "source": [
    "var_grad = tf.gradients(func_test, [var_x])\n",
    "session.run(var_grad,feed)"
   ]
  },
  {
   "cell_type": "markdown",
   "metadata": {
    "button": false,
    "new_sheet": false,
    "run_control": {
     "read_only": false
    }
   },
   "source": [
    "the derivitive w.r.t. __var_y__:\n",
    "$$ \\frac{\\partial \\:}{\\partial \\:x}\\left(2x^2+3xy\\right)=3x $$"
   ]
  },
  {
   "cell_type": "code",
   "execution_count": 48,
   "metadata": {
    "button": false,
    "new_sheet": false,
    "run_control": {
     "read_only": false
    }
   },
   "outputs": [
    {
     "data": {
      "text/plain": [
       "[3.0]"
      ]
     },
     "execution_count": 48,
     "metadata": {},
     "output_type": "execute_result"
    }
   ],
   "source": [
    "var_grad = tf.gradients(func_test, [var_y])\n",
    "session.run(var_grad,feed)"
   ]
  },
  {
   "cell_type": "markdown",
   "metadata": {
    "button": false,
    "new_sheet": false,
    "run_control": {
     "read_only": false
    }
   },
   "source": [
    "Now, we can look at gradients w.r.t all variables:"
   ]
  },
  {
   "cell_type": "code",
   "execution_count": 49,
   "metadata": {
    "button": false,
    "new_sheet": false,
    "run_control": {
     "read_only": false
    }
   },
   "outputs": [
    {
     "data": {
      "text/plain": [
       "[<tf.Tensor 'gradients_2/MatMul_grad/MatMul_1:0' shape=(200, 10000) dtype=float32>,\n",
       " <tf.Tensor 'gradients_2/add_grad/Reshape_1:0' shape=(10000,) dtype=float32>]"
      ]
     },
     "execution_count": 49,
     "metadata": {},
     "output_type": "execute_result"
    }
   ],
   "source": [
    "tf.gradients(cost, tvars)"
   ]
  },
  {
   "cell_type": "code",
   "execution_count": 50,
   "metadata": {
    "button": false,
    "collapsed": true,
    "new_sheet": false,
    "run_control": {
     "read_only": false
    },
    "scrolled": true
   },
   "outputs": [],
   "source": [
    "grad_t_list = tf.gradients(cost, tvars)\n",
    "#sess.run(grad_t_list,feed_dict)"
   ]
  },
  {
   "cell_type": "markdown",
   "metadata": {
    "button": false,
    "new_sheet": false,
    "run_control": {
     "read_only": false
    }
   },
   "source": [
    "\n",
    "\n",
    "\n",
    "now, we have a list of tensors, t-list. We can use it to find clipped tensors. __clip_by_global_norm__ clips values of multiple tensors by the ratio of the sum of their norms.\n",
    "\n",
    "__clip_by_global_norm__ get _t-list_ as input and returns 2 things:\n",
    " - a list of clipped tensors, so called _list_clipped_ \n",
    " - the global norm (global_norm) of all tensors in t_list"
   ]
  },
  {
   "cell_type": "code",
   "execution_count": 51,
   "metadata": {
    "button": false,
    "new_sheet": false,
    "run_control": {
     "read_only": false
    }
   },
   "outputs": [
    {
     "data": {
      "text/plain": [
       "5"
      ]
     },
     "execution_count": 51,
     "metadata": {},
     "output_type": "execute_result"
    }
   ],
   "source": [
    "max_grad_norm"
   ]
  },
  {
   "cell_type": "code",
   "execution_count": 52,
   "metadata": {
    "button": false,
    "new_sheet": false,
    "run_control": {
     "read_only": false
    }
   },
   "outputs": [
    {
     "data": {
      "text/plain": [
       "[<tf.Tensor 'clip_by_global_norm/clip_by_global_norm/_0:0' shape=(200, 10000) dtype=float32>,\n",
       " <tf.Tensor 'clip_by_global_norm/clip_by_global_norm/_1:0' shape=(10000,) dtype=float32>]"
      ]
     },
     "execution_count": 52,
     "metadata": {},
     "output_type": "execute_result"
    }
   ],
   "source": [
    "# Define the gradient clipping threshold\n",
    "grads, _ = tf.clip_by_global_norm(grad_t_list, max_grad_norm)\n",
    "grads"
   ]
  },
  {
   "cell_type": "code",
   "execution_count": 53,
   "metadata": {
    "button": false,
    "new_sheet": false,
    "run_control": {
     "read_only": false
    }
   },
   "outputs": [
    {
     "data": {
      "text/plain": [
       "[array([[ -1.73504668e-04,  -2.68421049e-04,  -7.21227043e-05, ...,\n",
       "           3.34813478e-07,   3.43223320e-07,   3.39585512e-07],\n",
       "        [ -1.65444406e-04,  -2.55451654e-04,  -3.94922332e-04, ...,\n",
       "           3.49004779e-07,   3.57739538e-07,   3.53988696e-07],\n",
       "        [  9.31817704e-05,   1.97541944e-04,   8.57619452e-05, ...,\n",
       "          -2.06201008e-07,  -2.11405336e-07,  -2.09166444e-07],\n",
       "        ..., \n",
       "        [ -1.90423947e-04,  -2.98813975e-05,  -1.77024049e-07, ...,\n",
       "           2.58685986e-07,   2.65183161e-07,   2.62365063e-07],\n",
       "        [ -3.19879502e-04,  -4.68011305e-04,  -4.45331389e-04, ...,\n",
       "           7.16275849e-07,   7.34248943e-07,   7.26516760e-07],\n",
       "        [  1.20025950e-04,   5.38842141e-05,  -3.93919181e-05, ...,\n",
       "          -1.27856353e-07,  -1.31027988e-07,  -1.29655646e-07]], dtype=float32),\n",
       " array([-0.79799652, -1.03129995, -1.03129816, ...,  0.00197688,\n",
       "         0.00202649,  0.00200514], dtype=float32)]"
      ]
     },
     "execution_count": 53,
     "metadata": {},
     "output_type": "execute_result"
    }
   ],
   "source": [
    "session.run(grads,feed_dict)"
   ]
  },
  {
   "cell_type": "markdown",
   "metadata": {
    "button": false,
    "new_sheet": false,
    "run_control": {
     "read_only": false
    }
   },
   "source": [
    "#### 4. Apply the optimizer to the variables / gradients tuple."
   ]
  },
  {
   "cell_type": "code",
   "execution_count": 54,
   "metadata": {
    "button": false,
    "collapsed": true,
    "new_sheet": false,
    "run_control": {
     "read_only": false
    }
   },
   "outputs": [],
   "source": [
    "# Create the training TensorFlow Operation through our optimizer\n",
    "train_op = optimizer.apply_gradients(zip(grads, tvars))"
   ]
  },
  {
   "cell_type": "code",
   "execution_count": 55,
   "metadata": {
    "button": false,
    "collapsed": true,
    "new_sheet": false,
    "run_control": {
     "read_only": false
    }
   },
   "outputs": [],
   "source": [
    "session.run(tf.global_variables_initializer())\n",
    "session.run(train_op,feed_dict)"
   ]
  },
  {
   "cell_type": "markdown",
   "metadata": {
    "button": false,
    "new_sheet": false,
    "run_control": {
     "read_only": false
    }
   },
   "source": [
    "We learned how the model is build step by step. Noe, let's then create a Class that represents our model. This class needs a few things:\n",
    "- We have to create the model in accordance with our defined hyperparameters\n",
    "- We have to create the placeholders for our input data and expected outputs (the real data)\n",
    "- We have to create the LSTM cell structure and connect them with our RNN structure\n",
    "- We have to create the word embeddings and point them to the input data\n",
    "- We have to create the input structure for our RNN\n",
    "- We have to instanciate our RNN model and retrieve the variable in which we should expect our outputs to appear\n",
    "- We need to create a logistic structure to return the probability of our words\n",
    "- We need to create the loss and cost functions for our optimizer to work, and then create the optimizer\n",
    "- And finally, we need to create a training operation that can be run to actually train our model\n"
   ]
  },
  {
   "cell_type": "code",
   "execution_count": 56,
   "metadata": {
    "button": false,
    "collapsed": true,
    "new_sheet": false,
    "run_control": {
     "read_only": false
    }
   },
   "outputs": [],
   "source": [
    "class PTBModel(object):\n",
    "\n",
    "    def __init__(self, is_training):\n",
    "        ######################################\n",
    "        # Setting parameters for ease of use #\n",
    "        ######################################\n",
    "        self.batch_size = batch_size\n",
    "        self.num_steps = num_steps\n",
    "        size = hidden_size\n",
    "        self.vocab_size = vocab_size\n",
    "        \n",
    "        ###############################################################################\n",
    "        # Creating placeholders for our input data and expected outputs (target data) #\n",
    "        ###############################################################################\n",
    "        self._input_data = tf.placeholder(tf.int32, [batch_size, num_steps]) #[30#20]\n",
    "        self._targets = tf.placeholder(tf.int32, [batch_size, num_steps]) #[30#20]\n",
    "\n",
    "        ##########################################################################\n",
    "        # Creating the LSTM cell structure and connect it with the RNN structure #\n",
    "        ##########################################################################\n",
    "        # Create the LSTM unit. \n",
    "        # This creates only the structure for the LSTM and has to be associated with a RNN unit still.\n",
    "        # The argument n_hidden(size=200) of BasicLSTMCell is size of hidden layer, that is, the number of hidden units of the LSTM (inside A).\n",
    "        # Size is the same as the size of our hidden layer, and no bias is added to the Forget Gate. \n",
    "        # LSTM cell processes one word at a time and computes probabilities of the possible continuations of the sentence.\n",
    "        lstm_cell = tf.contrib.rnn.BasicLSTMCell(size, forget_bias=0.0)\n",
    "        \n",
    "        # Unless you changed keep_prob, this won't actually execute -- this is a dropout wrapper for our LSTM unit\n",
    "        # This is an optimization of the LSTM output, but is not needed at all\n",
    "        if is_training and keep_prob < 1:\n",
    "            lstm_cell = tf.contrib.rnn.DropoutWrapper(lstm_cell, output_keep_prob=keep_prob)\n",
    "        \n",
    "        # By taking in the LSTM cells as parameters, the MultiRNNCell function junctions the LSTM units to the RNN units.\n",
    "        # RNN cell composed sequentially of multiple simple cells.\n",
    "        stacked_lstm = tf.contrib.rnn.MultiRNNCell([lstm_cell] * num_layers)\n",
    "\n",
    "        # Define the initial state, i.e., the model state for the very first data point\n",
    "        # It initialize the state of the LSTM memory. The memory state of the network is initialized with a vector of zeros and gets updated after reading each word.\n",
    "        self._initial_state = stacked_lstm.zero_state(batch_size, tf.float32)\n",
    "\n",
    "        ####################################################################\n",
    "        # Creating the word embeddings and pointing them to the input data #\n",
    "        ####################################################################\n",
    "        with tf.device(\"/cpu:0\"):\n",
    "            # Create the embeddings for our input data. Size is hidden size.\n",
    "            embedding = tf.get_variable(\"embedding\", [vocab_size, size])  #[10000x200]\n",
    "            # Define where to get the data for our embeddings from\n",
    "            inputs = tf.nn.embedding_lookup(embedding, self._input_data)\n",
    "\n",
    "        # Unless you changed keep_prob, this won't actually execute -- this is a dropout addition for our inputs\n",
    "        # This is an optimization of the input processing and is not needed at all\n",
    "        if is_training and keep_prob < 1:\n",
    "            inputs = tf.nn.dropout(inputs, keep_prob)\n",
    "\n",
    "        ############################################\n",
    "        # Creating the input structure for our RNN #\n",
    "        ############################################\n",
    "        # Input structure is 20x[30x200]\n",
    "        # Considering each word is represended by a 200 dimentional vector, and we have 30 batchs, we create 30 word-vectors of size [30xx2000]\n",
    "        #inputs = [tf.squeeze(input_, [1]) for input_ in tf.split(1, num_steps, inputs)]\n",
    "        # The input structure is fed from the embeddings, which are filled in by the input data\n",
    "        # Feeding a batch of b sentences to a RNN:\n",
    "        # In step 1,  first word of each of the b sentences (in a batch) is input in parallel.  \n",
    "        # In step 2,  second word of each of the b sentences is input in parallel. \n",
    "        # The parallelism is only for efficiency.  \n",
    "        # Each sentence in a batch is handled in parallel, but the network sees one word of a sentence at a time and does the computations accordingly. \n",
    "        # All the computations involving the words of all sentences in a batch at a given time step are done in parallel. \n",
    "\n",
    "        ####################################################################################################\n",
    "        # Instanciating our RNN model and retrieving the structure for returning the outputs and the state #\n",
    "        ####################################################################################################\n",
    "        \n",
    "        outputs, state = tf.nn.dynamic_rnn(stacked_lstm, inputs, initial_state=self._initial_state)\n",
    "\n",
    "        #########################################################################\n",
    "        # Creating a logistic unit to return the probability of the output word #\n",
    "        #########################################################################\n",
    "        output = tf.reshape(outputs, [-1, size])\n",
    "        softmax_w = tf.get_variable(\"softmax_w\", [size, vocab_size]) #[200x1000]\n",
    "        softmax_b = tf.get_variable(\"softmax_b\", [vocab_size]) #[1x1000]\n",
    "        logits = tf.matmul(output, softmax_w) + softmax_b\n",
    "\n",
    "        #########################################################################\n",
    "        # Defining the loss and cost functions for the model's learning to work #\n",
    "        #########################################################################\n",
    "        loss = tf.contrib.legacy_seq2seq.sequence_loss_by_example([logits], [tf.reshape(self._targets, [-1])],\n",
    "                                                      [tf.ones([batch_size * num_steps])])\n",
    "        self._cost = cost = tf.reduce_sum(loss) / batch_size\n",
    "\n",
    "        # Store the final state\n",
    "        self._final_state = state\n",
    "\n",
    "        #Everything after this point is relevant only for training\n",
    "        if not is_training:\n",
    "            return\n",
    "\n",
    "        #################################################\n",
    "        # Creating the Training Operation for our Model #\n",
    "        #################################################\n",
    "        # Create a variable for the learning rate\n",
    "        self._lr = tf.Variable(0.0, trainable=False)\n",
    "        # Get all TensorFlow variables marked as \"trainable\" (i.e. all of them except _lr, which we just created)\n",
    "        tvars = tf.trainable_variables()\n",
    "        # Define the gradient clipping threshold\n",
    "        grads, _ = tf.clip_by_global_norm(tf.gradients(cost, tvars), max_grad_norm)\n",
    "        # Create the gradient descent optimizer with our learning rate\n",
    "        optimizer = tf.train.GradientDescentOptimizer(self.lr)\n",
    "        # Create the training TensorFlow Operation through our optimizer\n",
    "        self._train_op = optimizer.apply_gradients(zip(grads, tvars))\n",
    "\n",
    "    # Helper functions for our LSTM RNN class\n",
    "\n",
    "    # Assign the learning rate for this model\n",
    "    def assign_lr(self, session, lr_value):\n",
    "        session.run(tf.assign(self.lr, lr_value))\n",
    "\n",
    "    # Returns the input data for this model at a point in time\n",
    "    @property\n",
    "    def input_data(self):\n",
    "        return self._input_data\n",
    "\n",
    "    # Returns the targets for this model at a point in time\n",
    "    @property\n",
    "    def targets(self):\n",
    "        return self._targets\n",
    "\n",
    "    # Returns the initial state for this model\n",
    "    @property\n",
    "    def initial_state(self):\n",
    "        return self._initial_state\n",
    "\n",
    "    # Returns the defined Cost\n",
    "    @property\n",
    "    def cost(self):\n",
    "        return self._cost\n",
    "\n",
    "    # Returns the final state for this model\n",
    "    @property\n",
    "    def final_state(self):\n",
    "        return self._final_state\n",
    "\n",
    "    # Returns the current learning rate for this model\n",
    "    @property\n",
    "    def lr(self):\n",
    "        return self._lr\n",
    "\n",
    "    # Returns the training operation defined for this model\n",
    "    @property\n",
    "    def train_op(self):\n",
    "        return self._train_op"
   ]
  },
  {
   "cell_type": "markdown",
   "metadata": {
    "button": false,
    "new_sheet": false,
    "run_control": {
     "read_only": false
    }
   },
   "source": [
    "With that, the actual structure of our Recurrent Neural Network with Long Short-Term Memory is finished. What remains for us to do is to actually create the methods to run through time -- that is, the `run_epoch` method to be run at each epoch and a `main` script which ties all of this together.\n",
    "\n",
    "What our `run_epoch` method should do is take our input data and feed it to the relevant operations. This will return at the very least the current result for the cost function."
   ]
  },
  {
   "cell_type": "code",
   "execution_count": 57,
   "metadata": {
    "button": false,
    "collapsed": true,
    "new_sheet": false,
    "run_control": {
     "read_only": false
    }
   },
   "outputs": [],
   "source": [
    "##########################################################################################################################\n",
    "# run_epoch takes as parameters the current session, the model instance, the data to be fed, and the operation to be run #\n",
    "##########################################################################################################################\n",
    "def run_epoch(session, m, data, eval_op, verbose=False):\n",
    "\n",
    "    #Define the epoch size based on the length of the data, batch size and the number of steps\n",
    "    epoch_size = ((len(data) // m.batch_size) - 1) // m.num_steps\n",
    "    start_time = time.time()\n",
    "    costs = 0.0\n",
    "    iters = 0\n",
    "    #state = m.initial_state.eval()\n",
    "    #m.initial_state = tf.convert_to_tensor(m.initial_state) \n",
    "    #state = m.initial_state.eval()\n",
    "    state = session.run(m.initial_state)\n",
    "    \n",
    "    #For each step and data point\n",
    "    for step, (x, y) in enumerate(reader.ptb_iterator(data, m.batch_size, m.num_steps)):\n",
    " \n",
    "        #Evaluate and return cost, state by running cost, final_state and the function passed as parameter\n",
    "        cost, state, _ = session.run([m.cost, m.final_state, eval_op],\n",
    "                                     {m.input_data: x,\n",
    "                                      m.targets: y,\n",
    "                                      m.initial_state: state})\n",
    "        \n",
    "        #Add returned cost to costs (which keeps track of the total costs for this epoch)\n",
    "        costs += cost\n",
    "        \n",
    "        #Add number of steps to iteration counter\n",
    "        iters += m.num_steps\n",
    "\n",
    "        if verbose and step % (epoch_size // 10) == 10:\n",
    "            print(\"%.3f perplexity: %.3f speed: %.0f wps\" % (step * 1.0 / epoch_size, np.exp(costs / iters),\n",
    "              iters * m.batch_size / (time.time() - start_time)))\n",
    "\n",
    "    # Returns the Perplexity rating for us to keep track of how the model is evolving\n",
    "    return np.exp(costs / iters)\n"
   ]
  },
  {
   "cell_type": "markdown",
   "metadata": {
    "button": false,
    "new_sheet": false,
    "run_control": {
     "read_only": false
    }
   },
   "source": [
    "Now, we create the `main` method to tie everything together. The code here reads the data from the directory, using the `reader` helper module, and then trains and evaluates the model on both a testing and a validating subset of data."
   ]
  },
  {
   "cell_type": "code",
   "execution_count": null,
   "metadata": {
    "button": false,
    "collapsed": true,
    "new_sheet": false,
    "run_control": {
     "read_only": false
    }
   },
   "outputs": [],
   "source": [
    "# Reads the data and separates it into training data, validation data and testing data\n",
    "raw_data = reader.ptb_raw_data(data_dir)\n",
    "train_data, valid_data, test_data, _ = raw_data"
   ]
  },
  {
   "cell_type": "code",
   "execution_count": null,
   "metadata": {
    "button": false,
    "new_sheet": false,
    "run_control": {
     "read_only": false
    }
   },
   "outputs": [
    {
     "name": "stdout",
     "output_type": "stream",
     "text": [
      "Epoch 1 : Learning rate: 1.000\n",
      "0.006 perplexity: 8370.423 speed: 1307 wps\n",
      "0.106 perplexity: 1091.352 speed: 143 wps\n",
      "0.205 perplexity: 826.960 speed: 252 wps\n",
      "0.305 perplexity: 675.364 speed: 341 wps\n",
      "0.404 perplexity: 567.258 speed: 417 wps\n",
      "0.504 perplexity: 500.123 speed: 483 wps\n",
      "0.603 perplexity: 449.322 speed: 542 wps\n",
      "0.702 perplexity: 411.926 speed: 594 wps\n",
      "0.802 perplexity: 383.469 speed: 640 wps\n",
      "0.901 perplexity: 357.243 speed: 679 wps\n",
      "Epoch 1 : Train Perplexity: 336.635\n",
      "Epoch 1 : Valid Perplexity: 200.962\n",
      "Epoch 2 : Learning rate: 1.000\n",
      "0.006 perplexity: 220.643 speed: 1358 wps\n",
      "0.106 perplexity: 198.153 speed: 1442 wps\n",
      "0.205 perplexity: 190.569 speed: 1234 wps\n",
      "0.305 perplexity: 182.822 speed: 1259 wps\n",
      "0.404 perplexity: 174.377 speed: 1262 wps\n",
      "0.504 perplexity: 170.894 speed: 1251 wps\n",
      "0.603 perplexity: 167.152 speed: 1274 wps\n",
      "0.702 perplexity: 163.988 speed: 1280 wps\n",
      "0.802 perplexity: 161.734 speed: 1280 wps\n",
      "0.901 perplexity: 157.831 speed: 1290 wps\n",
      "Epoch 2 : Train Perplexity: 155.119\n",
      "Epoch 2 : Valid Perplexity: 156.467\n",
      "Epoch 3 : Learning rate: 1.000\n",
      "0.006 perplexity: 151.434 speed: 1993 wps\n",
      "0.106 perplexity: 138.962 speed: 1448 wps\n",
      "0.205 perplexity: 135.986 speed: 1446 wps\n",
      "0.305 perplexity: 131.896 speed: 1444 wps\n",
      "0.404 perplexity: 126.922 speed: 1403 wps\n",
      "0.504 perplexity: 125.661 speed: 1408 wps\n",
      "0.603 perplexity: 124.084 speed: 1421 wps\n",
      "0.702 perplexity: 122.714 speed: 1416 wps\n",
      "0.802 perplexity: 121.860 speed: 1406 wps\n",
      "0.901 perplexity: 119.661 speed: 1394 wps\n",
      "Epoch 3 : Train Perplexity: 118.446\n",
      "Epoch 3 : Valid Perplexity: 142.378\n",
      "Epoch 4 : Learning rate: 1.000\n",
      "0.006 perplexity: 119.568 speed: 1386 wps\n",
      "0.106 perplexity: 113.293 speed: 1391 wps\n",
      "0.205 perplexity: 111.824 speed: 1366 wps\n",
      "0.305 perplexity: 108.947 speed: 1382 wps\n",
      "0.404 perplexity: 105.270 speed: 1391 wps\n",
      "0.504 perplexity: 104.778 speed: 1398 wps\n",
      "0.603 perplexity: 103.926 speed: 750 wps\n"
     ]
    }
   ],
   "source": [
    "#Initializes the Execution Graph and the Session\n",
    "with tf.Graph().as_default(), tf.Session() as session:\n",
    "    initializer = tf.random_uniform_initializer(-init_scale,init_scale)\n",
    "    \n",
    "    # Instantiates the model for training\n",
    "    # tf.variable_scope add a prefix to the variables created with tf.get_variable\n",
    "    with tf.variable_scope(\"model\", reuse=None, initializer=initializer):\n",
    "        m = PTBModel(is_training=True)\n",
    "        \n",
    "    # Reuses the trained parameters for the validation and testing models\n",
    "    # They are different instances but use the same variables for weights and biases, they just don't change when data is input\n",
    "    with tf.variable_scope(\"model\", reuse=True, initializer=initializer):\n",
    "        mvalid = PTBModel(is_training=False)\n",
    "        mtest = PTBModel(is_training=False)\n",
    "\n",
    "    #Initialize all variables\n",
    "    tf.global_variables_initializer().run()\n",
    "\n",
    "    for i in range(max_max_epoch):\n",
    "        # Define the decay for this epoch\n",
    "        lr_decay = decay ** max(i - max_epoch, 0.0)\n",
    "        \n",
    "        # Set the decayed learning rate as the learning rate for this epoch\n",
    "        m.assign_lr(session, learning_rate * lr_decay)\n",
    "\n",
    "        print(\"Epoch %d : Learning rate: %.3f\" % (i + 1, session.run(m.lr)))\n",
    "        \n",
    "        # Run the loop for this epoch in the training model\n",
    "        train_perplexity = run_epoch(session, m, train_data, m.train_op,\n",
    "                                   verbose=True)\n",
    "        print(\"Epoch %d : Train Perplexity: %.3f\" % (i + 1, train_perplexity))\n",
    "        \n",
    "        # Run the loop for this epoch in the validation model\n",
    "        valid_perplexity = run_epoch(session, mvalid, valid_data, tf.no_op())\n",
    "        print(\"Epoch %d : Valid Perplexity: %.3f\" % (i + 1, valid_perplexity))\n",
    "    \n",
    "    # Run the loop in the testing model to see how effective was our training\n",
    "    test_perplexity = run_epoch(session, mtest, test_data, tf.no_op())\n",
    "    \n",
    "    print(\"Test Perplexity: %.3f\" % test_perplexity)"
   ]
  },
  {
   "cell_type": "markdown",
   "metadata": {
    "button": false,
    "new_sheet": false,
    "run_control": {
     "read_only": false
    }
   },
   "source": [
    "As you can see, the model's perplexity rating drops very quickly after a few iterations. As was elaborated before, **lower Perplexity means that the model is more certain about its prediction**. As such, we can be sure that this model is performing well!"
   ]
  },
  {
   "cell_type": "markdown",
   "metadata": {
    "button": false,
    "new_sheet": false,
    "run_control": {
     "read_only": false
    }
   },
   "source": [
    "-------"
   ]
  },
  {
   "cell_type": "markdown",
   "metadata": {
    "button": false,
    "new_sheet": false,
    "run_control": {
     "read_only": false
    }
   },
   "source": [
    "This is the end of the **Applying Recurrent Neural Networks to Text Processing** notebook. Hopefully you now have a better understanding of Recurrent Neural Networks and how to implement one utilizing TensorFlow. Thank you for reading this notebook, and good luck on your studies."
   ]
  },
  {
   "cell_type": "markdown",
   "metadata": {
    "button": false,
    "new_sheet": false,
    "run_control": {
     "read_only": false
    }
   },
   "source": [
    "## Want to learn more?\n",
    "\n",
    "Running deep learning programs usually needs a high performance platform. PowerAI speeds up deep learning and AI. Built on IBM's Power Systems, PowerAI is a scalable software platform that accelerates deep learning and AI with blazing performance for individual users or enterprises. The PowerAI platform supports popular machine learning libraries and dependencies including Tensorflow, Caffe, Torch, and Theano. You can download a [free version of PowerAI](https://cocl.us/ML0120EN_PAI).\n",
    "\n",
    "Also, you can use Data Science Experience to run these notebooks faster with bigger datasets. Data Science Experience is IBM's leading cloud solution for data scientists, built by data scientists. With Jupyter notebooks, RStudio, Apache Spark and popular libraries pre-packaged in the cloud, DSX enables data scientists to collaborate on their projects without having to install anything. Join the fast-growing community of DSX users today with a free account at [Data Science Experience](https://cocl.us/ML0120EN_DSX)This is the end of this lesson. Hopefully, now you have a deeper and intuitive understanding regarding the LSTM model. Thank you for reading this notebook, and good luck on your studies."
   ]
  },
  {
   "cell_type": "markdown",
   "metadata": {
    "button": false,
    "new_sheet": false,
    "run_control": {
     "read_only": false
    }
   },
   "source": [
    "Created by <a href=\"https://br.linkedin.com/in/walter-gomes-de-amorim-junior-624726121\">Walter Gomes de Amorim Junior</a>, <a href = \"https://linkedin.com/in/saeedaghabozorgi\"> Saeed Aghabozorgi </a></h4>"
   ]
  },
  {
   "cell_type": "code",
   "execution_count": null,
   "metadata": {
    "button": false,
    "collapsed": true,
    "new_sheet": false,
    "run_control": {
     "read_only": false
    }
   },
   "outputs": [],
   "source": []
  }
 ],
 "metadata": {
  "anaconda-cloud": {},
  "kernelspec": {
   "display_name": "Python 2",
   "language": "python",
   "name": "python2"
  },
  "language_info": {
   "codemirror_mode": {
    "name": "ipython",
    "version": 2
   },
   "file_extension": ".py",
   "mimetype": "text/x-python",
   "name": "python",
   "nbconvert_exporter": "python",
   "pygments_lexer": "ipython2",
   "version": "2.7.13"
  },
  "widgets": {
   "state": {},
   "version": "1.1.2"
  }
 },
 "nbformat": 4,
 "nbformat_minor": 1
}
