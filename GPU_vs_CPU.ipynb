{
 "cells": [
  {
   "cell_type": "raw",
   "metadata": {
    "button": false,
    "collapsed": true,
    "deletable": true,
    "new_sheet": false,
    "run_control": {
     "read_only": false
    }
   },
   "source": [
    "with tf.device(\"/gpu:0\"):\n",
    "    # Setup operations\n",
    "\n",
    "with tf.Session() as sess:\n",
    "    # Run your code"
   ]
  },
  {
   "cell_type": "markdown",
   "metadata": {
    "button": false,
    "deletable": true,
    "new_sheet": false,
    "run_control": {
     "read_only": false
    }
   },
   "source": [
    "How to get list of CPU and GPUs ?"
   ]
  },
  {
   "cell_type": "code",
   "execution_count": 37,
   "metadata": {
    "button": false,
    "collapsed": false,
    "deletable": true,
    "new_sheet": false,
    "run_control": {
     "read_only": false
    }
   },
   "outputs": [
    {
     "data": {
      "text/plain": [
       "[u'/cpu:0',\n",
       " u'/gpu:0',\n",
       " u'/gpu:1',\n",
       " u'/gpu:2',\n",
       " u'/gpu:3',\n",
       " u'/device:XLA_GPU:0',\n",
       " u'/device:XLA_CPU:0']"
      ]
     },
     "execution_count": 37,
     "metadata": {},
     "output_type": "execute_result"
    }
   ],
   "source": [
    "from tensorflow.python.client import device_lib\n",
    "\n",
    "def get_available_gpus():\n",
    "    local_device_protos = device_lib.list_local_devices()\n",
    "    return [x.name for x in local_device_protos]\n",
    "get_available_gpus()"
   ]
  },
  {
   "cell_type": "markdown",
   "metadata": {
    "button": false,
    "deletable": true,
    "new_sheet": false,
    "run_control": {
     "read_only": false
    }
   },
   "source": [
    "What is __XLA__?\n",
    "XLA (Accelerated Linear Algebra) is a domain-specific compiler for linear algebra that optimizes TensorFlow computations. The results are improvements in speed, memory usage, and portability on server and mobile platforms. Initially, most users will not see large benefits from XLA, but are welcome to experiment by using XLA via just-in-time (JIT) compilation or ahead-of-time (AOT) compilation. Developers targeting new hardware accelerators are especially encouraged to try out XLA.\n",
    "\n",
    "The XLA framework is experimental and in active development. In particular, while it is unlikely that the semantics of existing operations will change, it is expected that more operations will be added to cover important use cases. The team welcomes feedback from the community about missing functionality and community contributions via GitHub."
   ]
  },
  {
   "cell_type": "code",
   "execution_count": 38,
   "metadata": {
    "button": false,
    "collapsed": true,
    "deletable": true,
    "new_sheet": false,
    "run_control": {
     "read_only": false
    }
   },
   "outputs": [],
   "source": [
    "import sys\n",
    "import numpy as np\n",
    "import tensorflow as tf\n",
    "from datetime import datetime\n"
   ]
  },
  {
   "cell_type": "markdown",
   "metadata": {
    "button": false,
    "deletable": true,
    "new_sheet": false,
    "run_control": {
     "read_only": false
    }
   },
   "source": [
    "I also recommend logging device placement when using GPUs, at this lets you easily debug issues relating to different device usage. This prints the usage of devices to the log, allowing you to see when devices change and how that affects the graph.\n",
    "\n"
   ]
  },
  {
   "cell_type": "code",
   "execution_count": 40,
   "metadata": {
    "button": false,
    "collapsed": false,
    "deletable": true,
    "new_sheet": false,
    "run_control": {
     "read_only": false
    }
   },
   "outputs": [
    {
     "name": "stdout",
     "output_type": "stream",
     "text": [
      "0\n",
      "10\n",
      "20\n",
      "30\n",
      "40\n",
      "50\n",
      "60\n",
      "70\n",
      "80\n",
      "90\n"
     ]
    }
   ],
   "source": [
    "time_values_2 = []\n",
    "#device_name = \"/gpu:0\"\n",
    "for i in range (100):\n",
    "    shape = (20*i,20*i)\n",
    "\n",
    "\n",
    "    random_matrix = tf.random_uniform(shape=shape, minval=0, maxval=1)\n",
    "    dot_operation = tf.matmul(random_matrix, tf.transpose(random_matrix))\n",
    "    sum_operation = tf.reduce_sum(dot_operation)\n",
    "    \n",
    "    with tf.Session(config=tf.ConfigProto(log_device_placement=True)) as session:\n",
    "        startTime = datetime.now()\n",
    "        result = session.run(sum_operation)\n",
    "    td = datetime.now() - startTime\n",
    "    time_values_2.append(td.microseconds)\n",
    "    if i%10 == 0:\n",
    "        print i\n",
    "    #print(\"Time taken:\", datetime.now() - startTime)"
   ]
  },
  {
   "cell_type": "code",
   "execution_count": null,
   "metadata": {
    "button": false,
    "collapsed": true,
    "deletable": true,
    "new_sheet": false,
    "run_control": {
     "read_only": false
    }
   },
   "outputs": [],
   "source": [
    "time_values_1 = []\n",
    "device_name = \"/cpu:0\"\n",
    "for i in range (100):\n",
    "    shape = (20*i,20*i)\n",
    "\n",
    "    with tf.device(device_name):\n",
    "        random_matrix = tf.random_uniform(shape=(2,2), minval=0, maxval=1)\n",
    "        dot_operation = tf.matmul(random_matrix, tf.transpose(random_matrix))\n",
    "        sum_operation = tf.reduce_sum(dot_operation)\n",
    "\n",
    "    with tf.Session(config=tf.ConfigProto(log_device_placement=True)) as session:\n",
    "        startTime = datetime.now()\n",
    "        result = session.run(sum_operation)\n",
    "    td = datetime.now() - startTime\n",
    "    time_values_1.append(td.microseconds)\n",
    "    if i%10 == 0:\n",
    "        print i\n",
    "    #print(\"Time taken:\", datetime.now() - startTime)"
   ]
  },
  {
   "cell_type": "code",
   "execution_count": 41,
   "metadata": {
    "button": false,
    "collapsed": false,
    "deletable": true,
    "new_sheet": false,
    "run_control": {
     "read_only": false
    }
   },
   "outputs": [
    {
     "name": "stdout",
     "output_type": "stream",
     "text": [
      "0\n",
      "10\n",
      "20\n",
      "30\n",
      "40\n",
      "50\n",
      "60\n",
      "70\n",
      "80\n",
      "90\n"
     ]
    }
   ],
   "source": [
    "time_values_3 = []\n",
    "device_name = \"/gpu:0\"\n",
    "for i in range (100):\n",
    "    shape = (20*i,20*i)\n",
    "\n",
    "    with tf.device(device_name):\n",
    "        random_matrix = tf.random_uniform(shape=(2,2), minval=0, maxval=1)\n",
    "        dot_operation = tf.matmul(random_matrix, tf.transpose(random_matrix))\n",
    "        sum_operation = tf.reduce_sum(dot_operation)\n",
    "\n",
    "    with tf.Session(config=tf.ConfigProto(log_device_placement=True)) as session:\n",
    "        startTime = datetime.now()\n",
    "        result = session.run(sum_operation)\n",
    "    td = datetime.now() - startTime\n",
    "    time_values_3.append(td.microseconds)\n",
    "    if i%10 == 0:\n",
    "        print i\n",
    "    #print(\"Time taken:\", datetime.now() - startTime)"
   ]
  },
  {
   "cell_type": "code",
   "execution_count": 42,
   "metadata": {
    "button": false,
    "collapsed": false,
    "deletable": true,
    "new_sheet": false,
    "run_control": {
     "read_only": false
    }
   },
   "outputs": [
    {
     "data": {
      "image/png": "[encoded data removed]",
      "text/plain": [
       "<matplotlib.figure.Figure at 0x3bfd4b3b4a10>"
      ]
     },
     "metadata": {},
     "output_type": "display_data"
    }
   ],
   "source": [
    "%matplotlib inline\n",
    "import numpy as np\n",
    "import matplotlib.pyplot as plt\n",
    "plt.plot([np.mean(time_values_1[0:i]) for i in range(len(time_values_1))], label='cpu')\n",
    "plt.plot([np.mean(time_values_2[0:i]) for i in range(len(time_values_2))], label = 'auto')\n",
    "plt.plot([np.mean(time_values_3[0:i]) for i in range(len(time_values_3))], label='gpu')\n",
    "plt.legend(loc='best')\n",
    "plt.show()"
   ]
  },
  {
   "cell_type": "markdown",
   "metadata": {
    "button": false,
    "deletable": true,
    "new_sheet": false,
    "run_control": {
     "read_only": false
    }
   },
   "source": [
    "# Exercise"
   ]
  },
  {
   "cell_type": "markdown",
   "metadata": {
    "button": false,
    "collapsed": true,
    "deletable": true,
    "new_sheet": false,
    "run_control": {
     "read_only": false
    }
   },
   "source": [
    "Try running the previous exercise solutions on the GPU. Which operations can be performed on a GPU, and which cannot?\n",
    "3) Build a program that uses operations on both the GPU and the CPU. Use the profiling code we saw in Lesson 5 to estimate the impact of sending data to, and retrieving data from, the GPU."
   ]
  },
  {
   "cell_type": "code",
   "execution_count": 53,
   "metadata": {
    "button": false,
    "collapsed": false,
    "deletable": true,
    "new_sheet": false,
    "run_control": {
     "read_only": false
    }
   },
   "outputs": [
    {
     "name": "stdout",
     "output_type": "stream",
     "text": [
      "500\n",
      "####### Calculating on the /gpu:0 #######\n",
      "500\n",
      "####### Calculating on the /cpu:0 #######\n",
      "550\n",
      "####### Calculating on the /gpu:0 #######\n",
      "550\n",
      "####### Calculating on the /cpu:0 #######\n",
      "600\n",
      "####### Calculating on the /gpu:0 #######\n",
      "600\n",
      "####### Calculating on the /cpu:0 #######\n",
      "650\n",
      "####### Calculating on the /gpu:0 #######\n",
      "650\n",
      "####### Calculating on the /cpu:0 #######\n",
      "700\n",
      "####### Calculating on the /gpu:0 #######\n",
      "700\n",
      "####### Calculating on the /cpu:0 #######\n",
      "750\n",
      "####### Calculating on the /gpu:0 #######\n",
      "750\n",
      "####### Calculating on the /cpu:0 #######\n",
      "800\n",
      "####### Calculating on the /gpu:0 #######\n",
      "800\n",
      "####### Calculating on the /cpu:0 #######\n",
      "850\n",
      "####### Calculating on the /gpu:0 #######\n",
      "850\n",
      "####### Calculating on the /cpu:0 #######\n",
      "900\n",
      "####### Calculating on the /gpu:0 #######\n",
      "900\n",
      "####### Calculating on the /cpu:0 #######\n",
      "950\n",
      "####### Calculating on the /gpu:0 #######\n",
      "950\n",
      "####### Calculating on the /cpu:0 #######\n"
     ]
    }
   ],
   "source": [
    "from __future__ import print_function\n",
    "import matplotlib\n",
    "import matplotlib.pyplot as plt\n",
    "import tensorflow as tf\n",
    "import time\n",
    "\n",
    "device_times = {\n",
    "    \"/gpu:0\":[],\n",
    "    \"/cpu:0\":[]\n",
    "}\n",
    "matrix_sizes = range(500,1000,50)\n",
    "\n",
    "for size in matrix_sizes:\n",
    "    for device_name in device_times.keys():\n",
    "        print (size)\n",
    "        print(\"####### Calculating on the \" + device_name + \" #######\")\n",
    "\n",
    "        shape = (size,size)\n",
    "        data_type = tf.float16\n",
    "        with tf.device(device_name):\n",
    "            r1 = tf.random_uniform(shape=shape, minval=0, maxval=1, dtype=data_type)\n",
    "            r2 = tf.random_uniform(shape=shape, minval=0, maxval=1, dtype=data_type)\n",
    "            dot_operation = tf.matmul(r2, r1)\n",
    "\n",
    "\n",
    "        with tf.Session(config=tf.ConfigProto(log_device_placement=True)) as session:\n",
    "                start_time = time.time()\n",
    "                result = session.run(dot_operation)\n",
    "                time_taken = time.time() - start_time\n",
    "                #print(result)\n",
    "                device_times[device_name].append(time_taken)\n",
    "\n",
    "\n",
    "\n"
   ]
  },
  {
   "cell_type": "code",
   "execution_count": 54,
   "metadata": {
    "button": false,
    "collapsed": false,
    "deletable": true,
    "new_sheet": false,
    "run_control": {
     "read_only": false
    }
   },
   "outputs": [
    {
     "data": {
      "image/png": "[encoded data removed]",
      "text/plain": [
       "<matplotlib.figure.Figure at 0x3bfd8042add0>"
      ]
     },
     "metadata": {},
     "output_type": "display_data"
    }
   ],
   "source": [
    "\n",
    "gpu_times = device_times[\"/gpu:0\"]\n",
    "cpu_times = device_times[\"/cpu:0\"]\n",
    "\n",
    "plt.plot(matrix_sizes[:len(gpu_times)], gpu_times, 'o-')\n",
    "plt.plot(matrix_sizes[:len(cpu_times)], cpu_times, 'o-')\n",
    "plt.ylabel('Time')\n",
    "plt.xlabel('Matrix size')\n",
    "plt.show()\n"
   ]
  },
  {
   "cell_type": "markdown",
   "metadata": {
    "button": false,
    "deletable": true,
    "new_sheet": false,
    "run_control": {
     "read_only": false
    }
   },
   "source": [
    "# Using Multi GPUs"
   ]
  },
  {
   "cell_type": "code",
   "execution_count": 55,
   "metadata": {
    "button": false,
    "collapsed": false,
    "deletable": true,
    "new_sheet": false,
    "run_control": {
     "read_only": false
    }
   },
   "outputs": [
    {
     "name": "stdout",
     "output_type": "stream",
     "text": [
      "[[  44.   56.]\n",
      " [  98.  128.]]\n"
     ]
    }
   ],
   "source": [
    "# Creates a graph.\n",
    "c = []\n",
    "for d in ['/gpu:2', '/gpu:3']:\n",
    "  with tf.device(d):\n",
    "    a = tf.constant([1.0, 2.0, 3.0, 4.0, 5.0, 6.0], shape=[2, 3])\n",
    "    b = tf.constant([1.0, 2.0, 3.0, 4.0, 5.0, 6.0], shape=[3, 2])\n",
    "    c.append(tf.matmul(a, b))\n",
    "with tf.device('/cpu:0'):\n",
    "  sum = tf.add_n(c)\n",
    "# Creates a session with log_device_placement set to True.\n",
    "sess = tf.Session(config=tf.ConfigProto(log_device_placement=True))\n",
    "# Runs the op.\n",
    "print(sess.run(sum))"
   ]
  },
  {
   "cell_type": "code",
   "execution_count": null,
   "metadata": {
    "button": false,
    "collapsed": true,
    "deletable": true,
    "new_sheet": false,
    "run_control": {
     "read_only": false
    }
   },
   "outputs": [],
   "source": []
  }
 ],
 "metadata": {
  "kernelspec": {
   "display_name": "Python 2",
   "language": "python",
   "name": "python2"
  },
  "language_info": {
   "codemirror_mode": {
    "name": "ipython",
    "version": 2
   },
   "file_extension": ".py",
   "mimetype": "text/x-python",
   "name": "python",
   "nbconvert_exporter": "python",
   "pygments_lexer": "ipython2",
   "version": "2.7.13"
  }
 },
 "nbformat": 4,
 "nbformat_minor": 2
}
