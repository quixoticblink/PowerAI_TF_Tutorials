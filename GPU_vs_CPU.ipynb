{
 "cells": [
  {
   "cell_type": "code",
   "execution_count": 1,
   "metadata": {
    "collapsed": true
   },
   "outputs": [],
   "source": [
    "import sys\n",
    "import numpy as np\n",
    "import tensorflow as tf\n",
    "from datetime import datetime"
   ]
  },
  {
   "cell_type": "markdown",
   "metadata": {
    "button": false,
    "new_sheet": false,
    "run_control": {
     "read_only": false
    }
   },
   "source": [
    "### List of CPU and GPUs\n",
    "How to get list of CPU and GPUs ?"
   ]
  },
  {
   "cell_type": "code",
   "execution_count": 3,
   "metadata": {
    "button": false,
    "new_sheet": false,
    "run_control": {
     "read_only": false
    }
   },
   "outputs": [
    {
     "data": {
      "text/plain": [
       "[u'/cpu:0',\n",
       " u'/gpu:0',\n",
       " u'/gpu:1',\n",
       " u'/gpu:2',\n",
       " u'/gpu:3',\n",
       " u'/device:XLA_GPU:0',\n",
       " u'/device:XLA_CPU:0']"
      ]
     },
     "execution_count": 3,
     "metadata": {},
     "output_type": "execute_result"
    }
   ],
   "source": [
    "from tensorflow.python.client import device_lib\n",
    "\n",
    "def get_available_gpus():\n",
    "    local_device_protos = device_lib.list_local_devices()\n",
    "    return [x.name for x in local_device_protos]\n",
    "get_available_gpus()"
   ]
  },
  {
   "cell_type": "markdown",
   "metadata": {
    "button": false,
    "new_sheet": false,
    "run_control": {
     "read_only": false
    }
   },
   "source": [
    "What is __XLA__?\n",
    "XLA (Accelerated Linear Algebra) is a domain-specific compiler for linear algebra that optimizes TensorFlow computations. The results are improvements in speed, memory usage, and portability on server and mobile platforms. Initially, most users will not see large benefits from XLA, but are welcome to experiment by using XLA via just-in-time (JIT) compilation or ahead-of-time (AOT) compilation. Developers targeting new hardware accelerators are especially encouraged to try out XLA.\n",
    "\n",
    "The XLA framework is experimental and in active development. In particular, while it is unlikely that the semantics of existing operations will change, it is expected that more operations will be added to cover important use cases. The team welcomes feedback from the community about missing functionality and community contributions via GitHub."
   ]
  },
  {
   "cell_type": "markdown",
   "metadata": {},
   "source": [
    "### Logging device"
   ]
  },
  {
   "cell_type": "markdown",
   "metadata": {
    "button": false,
    "new_sheet": false,
    "run_control": {
     "read_only": false
    }
   },
   "source": [
    "I also recommend logging device placement when using GPUs, at this lets you easily debug issues relating to different device usage. This prints the usage of devices to the log, allowing you to see when devices change and how that affects the graph.\n",
    "\n",
    "You can see that a, b and c are all run on GPU0\n",
    "\n",
    "### ***Run it in a terminal***"
   ]
  },
  {
   "cell_type": "code",
   "execution_count": 3,
   "metadata": {},
   "outputs": [
    {
     "name": "stdout",
     "output_type": "stream",
     "text": [
      "[[ 22.  28.]\n",
      " [ 49.  64.]]\n"
     ]
    }
   ],
   "source": [
    "def print_logging_device():\n",
    "    # Creates a graph.\n",
    "    a = tf.constant([1.0, 2.0, 3.0, 4.0, 5.0, 6.0], shape=[2, 3], name='a')\n",
    "    b = tf.constant([1.0, 2.0, 3.0, 4.0, 5.0, 6.0], shape=[3, 2], name='b')\n",
    "    c = tf.matmul(a, b)\n",
    "    # Creates a session with log_device_placement set to True.\n",
    "    sess = tf.Session(config=tf.ConfigProto(log_device_placement=True))\n",
    "    # Runs the op.\n",
    "    print sess.run(c)\n",
    "print_logging_device()"
   ]
  },
  {
   "cell_type": "markdown",
   "metadata": {},
   "source": [
    "### Multiplication on gpu0 and cpu"
   ]
  },
  {
   "cell_type": "code",
   "execution_count": 6,
   "metadata": {
    "button": false,
    "new_sheet": false,
    "run_control": {
     "read_only": false
    }
   },
   "outputs": [
    {
     "name": "stdout",
     "output_type": "stream",
     "text": [
      "------- Multiplication on gpu0 vs cpu ---------\n",
      "matrix shape:100  --/gpu:0 time: 97\n",
      "matrix shape:200  --/gpu:0 time: 108\n",
      "matrix shape:300  --/gpu:0 time: 105\n",
      "matrix shape:400  --/gpu:0 time: 123\n",
      "matrix shape:500  --/gpu:0 time: 124\n",
      "matrix shape:600  --/gpu:0 time: 181\n",
      "matrix shape:700  --/gpu:0 time: 133\n",
      "matrix shape:800  --/gpu:0 time: 152\n",
      "matrix shape:900  --/gpu:0 time: 137\n",
      "matrix shape:100  --/cpu:0 time: 143\n",
      "matrix shape:200  --/cpu:0 time: 142\n",
      "matrix shape:300  --/cpu:0 time: 289\n",
      "matrix shape:400  --/cpu:0 time: 162\n",
      "matrix shape:500  --/cpu:0 time: 165\n",
      "matrix shape:600  --/cpu:0 time: 176\n",
      "matrix shape:700  --/cpu:0 time: 168\n",
      "matrix shape:800  --/cpu:0 time: 224\n",
      "matrix shape:900  --/cpu:0 time: 176\n",
      "GPU time[97, 108, 105, 123, 124, 181, 133, 152, 137]\n",
      "CPUtime[143, 142, 289, 162, 165, 176, 168, 224, 176]\n",
      "--------------------------------\n"
     ]
    }
   ],
   "source": [
    "print \"------- Multiplication on gpu0 vs cpu ---------\"\n",
    "def matrix_mul(device_name, matrix_sizes):\n",
    "    time_values = []\n",
    "    #device_name = \"/cpu:0\"\n",
    "    for size in matrix_sizes:\n",
    "        with tf.device(device_name):\n",
    "            random_matrix = tf.random_uniform(shape=(2,2), minval=0, maxval=1)\n",
    "            dot_operation = tf.matmul(random_matrix, tf.transpose(random_matrix))\n",
    "            sum_operation = tf.reduce_sum(dot_operation)\n",
    "\n",
    "        with tf.Session(config=tf.ConfigProto(log_device_placement=False)) as session:\n",
    "            startTime = datetime.now()\n",
    "            result = session.run(sum_operation)\n",
    "        td = datetime.now() - startTime\n",
    "        time_values.append(td.microseconds/1000)\n",
    "        print (\"matrix shape:\" + str(size) + \"  --\"+ device_name +\" time: \"+str(td.microseconds/1000))\n",
    "    return time_values\n",
    "\n",
    "\n",
    "matrix_sizes = range(100,1000,100)\n",
    "time_values_gpu = matrix_mul(\"/gpu:0\", matrix_sizes)\n",
    "time_values_cpu = matrix_mul(\"/cpu:0\", matrix_sizes)\n",
    "print (\"GPU time\" +  str(time_values_gpu))\n",
    "print (\"CPUtime\" + str(time_values_cpu))\n",
    "print \"--------------------------------\"\n"
   ]
  },
  {
   "cell_type": "code",
   "execution_count": 5,
   "metadata": {
    "button": false,
    "new_sheet": false,
    "run_control": {
     "read_only": false
    }
   },
   "outputs": [
    {
     "data": {
      "image/png": "[encoded data removed]",
      "text/plain": [
       "<matplotlib.figure.Figure at 0x3fff3be669d0>"
      ]
     },
     "metadata": {},
     "output_type": "display_data"
    }
   ],
   "source": [
    "%matplotlib inline\n",
    "import numpy as np\n",
    "import matplotlib.pyplot as plt\n",
    "plt.plot(matrix_sizes[:len(time_values_gpu)], time_values_gpu, label='cpu')\n",
    "plt.plot(matrix_sizes[:len(time_values_cpu)], time_values_cpu, label='gpu')\n",
    "plt.ylabel('Time (sec)')\n",
    "plt.xlabel('Size of Matrix ')\n",
    "plt.legend(loc='best')\n",
    "plt.show()"
   ]
  },
  {
   "cell_type": "markdown",
   "metadata": {
    "button": false,
    "new_sheet": false,
    "run_control": {
     "read_only": false
    }
   },
   "source": [
    "# Using Multi GPUs"
   ]
  },
  {
   "cell_type": "code",
   "execution_count": 6,
   "metadata": {
    "button": false,
    "new_sheet": false,
    "run_control": {
     "read_only": false
    }
   },
   "outputs": [
    {
     "name": "stdout",
     "output_type": "stream",
     "text": [
      "------- Multi GPU ---------\n",
      "[[ 15.  15.  15.]\n",
      " [ 15.  15.  15.]\n",
      " [ 15.  15.  15.]]\n",
      "--------------------------------\n"
     ]
    }
   ],
   "source": [
    "print \"------- Multi GPU ---------\"\n",
    "def multi_gpu():\n",
    "    c = []\n",
    "    for d in ['/cpu','/gpu:0', '/gpu:1','/gpu:2', '/gpu:3']:\n",
    "      with tf.device(d):\n",
    "        a = tf.ones(shape=[3,3], dtype=tf.float32)\n",
    "        b = tf.ones(shape=[3,3], dtype=tf.float32)\n",
    "        c.append(tf.matmul(a, b))\n",
    "    with tf.device('/cpu:0'):\n",
    "      sum = tf.add_n(c)\n",
    "    sess = tf.Session(config=tf.ConfigProto(log_device_placement=True))\n",
    "    print(sess.run(sum))\n",
    "    \n",
    "multi_gpu()\n",
    "print \"--------------------------------\""
   ]
  },
  {
   "cell_type": "markdown",
   "metadata": {},
   "source": [
    "# Single vs Multi GPU"
   ]
  },
  {
   "cell_type": "markdown",
   "metadata": {},
   "source": [
    "taken from https://github.com/aymericdamien/TensorFlow-Examples/blob/master/examples/5_MultiGPU/multigpu_basics.py"
   ]
  },
  {
   "cell_type": "code",
   "execution_count": 2,
   "metadata": {
    "collapsed": true
   },
   "outputs": [],
   "source": [
    "def single_gpu_sum(matrix_size ,n):\n",
    "    \n",
    "    # Create a graph to store results\n",
    "    comp = []\n",
    "\n",
    "    def matpow(M, n):\n",
    "        if n < 1: \n",
    "            return M\n",
    "        else:\n",
    "            return tf.matmul(M, matpow(M, n-1))\n",
    "\n",
    "    for d in ['/gpu:0', '/gpu:1','/gpu:2', '/gpu:3']:\n",
    "        with tf.device('/gpu:0'):\n",
    "            A = np.random.rand(matrix_size, matrix_size).astype('float32')\n",
    "        \n",
    "            # Compute A^n and B^n and store results in c1\n",
    "            comp.append(matpow(A, n))\n",
    "\n",
    "    with tf.device('/cpu:0'):\n",
    "      sum = tf.add_n(comp) #Addition of all elements in c1, i.e. A^n + B^n\n",
    "\n",
    "    startTime = datetime.now()\n",
    "    with tf.Session(config=tf.ConfigProto(log_device_placement=True)) as sess:\n",
    "        sess.run(sum)\n",
    "    td = datetime.now() - startTime\n",
    "    #print (\"n:\" + str(n) + \"  -- time: \"+str(td))\n",
    "    return td"
   ]
  },
  {
   "cell_type": "code",
   "execution_count": 3,
   "metadata": {
    "collapsed": true
   },
   "outputs": [],
   "source": [
    "def multi_gpu_sum(matrix_size ,n):\n",
    "    \n",
    "    # Create a graph to store results\n",
    "    comp = []\n",
    "\n",
    "    def matpow(M, n):\n",
    "        if n < 1: \n",
    "            return M\n",
    "        else:\n",
    "            return tf.matmul(M, matpow(M, n-1))\n",
    "        \n",
    "    for d in ['/gpu:0', '/gpu:1','/gpu:2', '/gpu:3']:\n",
    "        with tf.device(d):\n",
    "            A = np.random.rand(matrix_size, matrix_size).astype('float32')\n",
    "            comp.append(matpow(A, n))\n",
    "\n",
    "    with tf.device('/cpu:0'):\n",
    "      sum = tf.add_n(comp) #Addition of all elements in c1, i.e. A^n + B^n\n",
    "\n",
    "    startTime = datetime.now()\n",
    "    with tf.Session(config=tf.ConfigProto(log_device_placement=True)) as sess:\n",
    "        sess.run(sum)\n",
    "    td = datetime.now() - startTime\n",
    "    #print (\"n:\" + str(n) + \"  -- time: \"+str(td))\n",
    "    return td\n",
    "    \n"
   ]
  },
  {
   "cell_type": "code",
   "execution_count": 7,
   "metadata": {},
   "outputs": [
    {
     "name": "stdout",
     "output_type": "stream",
     "text": [
      "0:00:01.539578\n",
      "0:00:01.664352\n"
     ]
    }
   ],
   "source": [
    "single_gpu = str(single_gpu_sum(1000 ,10))\n",
    "multi_gpu = str(multi_gpu_sum(1000 ,10))\n",
    "print single_gpu\n",
    "print multi_gpu"
   ]
  },
  {
   "cell_type": "markdown",
   "metadata": {},
   "source": [
    "### Questions:"
   ]
  },
  {
   "cell_type": "markdown",
   "metadata": {
    "button": false,
    "collapsed": true,
    "new_sheet": false,
    "run_control": {
     "read_only": false
    }
   },
   "source": [
    "Which operations can be performed on a GPU, and which cannot?"
   ]
  }
 ],
 "metadata": {
  "kernelspec": {
   "display_name": "Python 2",
   "language": "python",
   "name": "python2"
  },
  "language_info": {
   "codemirror_mode": {
    "name": "ipython",
    "version": 2
   },
   "file_extension": ".py",
   "mimetype": "text/x-python",
   "name": "python",
   "nbconvert_exporter": "python",
   "pygments_lexer": "ipython2",
   "version": "2.7.12"
  }
 },
 "nbformat": 4,
 "nbformat_minor": 2
}
